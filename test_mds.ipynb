{
 "cells": [
  {
   "cell_type": "markdown",
   "metadata": {},
   "source": [
    "# Testing H-MDS Implementation"
   ]
  },
  {
   "cell_type": "markdown",
   "metadata": {},
   "source": [
    "# Python/Numpy Implementation"
   ]
  },
  {
   "cell_type": "code",
   "execution_count": 1,
   "metadata": {
    "ExecuteTime": {
     "end_time": "2019-07-21T20:43:11.364592Z",
     "start_time": "2019-07-21T20:43:10.455830Z"
    }
   },
   "outputs": [],
   "source": [
    "import numpy as np\n",
    "import pandas as pd\n",
    "import matplotlib.pyplot as plt\n",
    "%matplotlib inline\n",
    "from mpl_toolkits.mplot3d import Axes3D\n",
    "from sklearn.utils import check_random_state\n",
    "#plt.style.use('classic')\n",
    "#plt.rcParams['figure.figsize'] = (6.5, 6.5)\n",
    "#plt.rcParams['figure.facecolor'] = 'white'\n",
    "#from jupyterthemes import jtplot\n",
    "#jtplot.style()\n",
    "\n",
    "# ignore warnings\n",
    "import warnings\n",
    "warnings.filterwarnings('ignore');\n",
    "\n",
    "# display multiple outputs within a cell\n",
    "from IPython.core.interactiveshell import InteractiveShell\n",
    "InteractiveShell.ast_node_interactivity = \"all\";"
   ]
  },
  {
   "cell_type": "code",
   "execution_count": 46,
   "metadata": {
    "ExecuteTime": {
     "end_time": "2019-07-21T19:43:59.298817Z",
     "start_time": "2019-07-21T19:43:59.288847Z"
    }
   },
   "outputs": [
    {
     "data": {
      "text/plain": [
       "0.8569857606976118"
      ]
     },
     "execution_count": 46,
     "metadata": {},
     "output_type": "execute_result"
    }
   ],
   "source": [
    "def norm(x, axis=None):\n",
    "    return np.linalg.norm(x, axis=axis)\n",
    "\n",
    "def poincare_dist(u, v, eps=1e-5):\n",
    "    d = 1 + 2 * norm(u-v)**2 / ((1 - norm(u)**2) * (1 - norm(v)**2) + eps)\n",
    "    return np.arccosh(d)\n",
    "u1 = np.array([0.5, 0.5])\n",
    "v1 = np.array([0.3, 0.3])\n",
    "poincare_dist(u1, v1, eps=0)"
   ]
  },
  {
   "cell_type": "code",
   "execution_count": 177,
   "metadata": {
    "ExecuteTime": {
     "end_time": "2019-07-21T20:37:08.637738Z",
     "start_time": "2019-07-21T20:37:08.628761Z"
    }
   },
   "outputs": [
    {
     "data": {
      "text/plain": [
       "0.8569857606976117"
      ]
     },
     "execution_count": 177,
     "metadata": {},
     "output_type": "execute_result"
    }
   ],
   "source": [
    "def poincare_dist2(zi, zj):\n",
    "    val = norm(zi - zj) / norm(1-zi*np.conj(zj))\n",
    "    return 2* np.arctanh(val)\n",
    "z1 = 0.5 + 0.5j\n",
    "z2 = 0.3 + 0.3j\n",
    "poincare_dist2(z1, z2)"
   ]
  },
  {
   "cell_type": "code",
   "execution_count": 181,
   "metadata": {
    "ExecuteTime": {
     "end_time": "2019-07-21T20:37:14.580781Z",
     "start_time": "2019-07-21T20:37:14.381315Z"
    }
   },
   "outputs": [
    {
     "data": {
      "image/png": "[encoded data removed]",
      "text/plain": [
       "<Figure size 432x432 with 1 Axes>"
      ]
     },
     "metadata": {
      "needs_background": "light"
     },
     "output_type": "display_data"
    }
   ],
   "source": [
    "# generate a small set of random points in poincaré disk\n",
    "fig = plt.figure(figsize=(6,6))\n",
    "ax = fig.add_subplot(111)\n",
    "circ = plt.Circle((0, 0), radius=1, edgecolor='black', facecolor='None', linewidth=3, alpha=0.5)\n",
    "ax.add_patch(circ)\n",
    "\n",
    "# sample within unit sphere in R^2\n",
    "n = 7\n",
    "theta = np.random.uniform(0, 2*np.pi, n)\n",
    "u = np.random.uniform(0, 0.7, n)\n",
    "r = np.sqrt(u)\n",
    "x = r * np.cos(theta)\n",
    "y = r * np.sin(theta)\n",
    "init_data = np.hstack((x.reshape(-1,1), y.reshape(-1,1)))\n",
    "ax.scatter(x, y, s=20, alpha=1);"
   ]
  },
  {
   "cell_type": "code",
   "execution_count": 182,
   "metadata": {
    "ExecuteTime": {
     "end_time": "2019-07-21T20:37:22.480362Z",
     "start_time": "2019-07-21T20:37:22.469391Z"
    }
   },
   "outputs": [
    {
     "data": {
      "text/plain": [
       "array([[0.        , 2.12867232, 3.167325  , 2.5806899 , 1.78017608,\n",
       "        2.15012335, 2.78879069],\n",
       "       [2.12867232, 0.        , 3.28133422, 1.8185118 , 1.10632533,\n",
       "        2.86138972, 3.49699742],\n",
       "       [3.167325  , 3.28133422, 0.        , 2.2906886 , 3.61837977,\n",
       "        1.90560041, 2.30597086],\n",
       "       [2.5806899 , 1.8185118 , 2.2906886 , 0.        , 2.47115754,\n",
       "        2.43831966, 3.03533665],\n",
       "       [1.78017608, 1.10632533, 3.61837977, 2.47115754, 0.        ,\n",
       "        2.99698601, 3.63982759],\n",
       "       [2.15012335, 2.86138972, 1.90560041, 2.43831966, 2.99698601,\n",
       "        0.        , 0.64463812],\n",
       "       [2.78879069, 3.49699742, 2.30597086, 3.03533665, 3.63982759,\n",
       "        0.64463812, 0.        ]])"
      ]
     },
     "execution_count": 182,
     "metadata": {},
     "output_type": "execute_result"
    }
   ],
   "source": [
    "delta1 = np.zeros((n, n))\n",
    "for i in range(n):\n",
    "    for j in range(n):\n",
    "        delta1[i][j] = poincare_dist(init_data[i], init_data[j])\n",
    "delta1"
   ]
  },
  {
   "cell_type": "code",
   "execution_count": 50,
   "metadata": {
    "ExecuteTime": {
     "end_time": "2019-07-21T19:44:05.569967Z",
     "start_time": "2019-07-21T19:44:05.560989Z"
    }
   },
   "outputs": [
    {
     "data": {
      "text/plain": [
       "array([-0.41456836-0.5243367j ,  0.42123099-0.47386274j,\n",
       "        0.11504086-0.24161051j, -0.3304627 +0.47914936j,\n",
       "        0.13995891-0.62728662j,  0.38856775-0.12835373j,\n",
       "        0.77618171-0.25234063j])"
      ]
     },
     "execution_count": 50,
     "metadata": {},
     "output_type": "execute_result"
    },
    {
     "data": {
      "text/plain": [
       "(7,)"
      ]
     },
     "execution_count": 50,
     "metadata": {},
     "output_type": "execute_result"
    }
   ],
   "source": [
    "init_complex = init_data[:,0] + 1j * init_data[:,1]\n",
    "init_complex\n",
    "init_complex.shape"
   ]
  },
  {
   "cell_type": "code",
   "execution_count": 53,
   "metadata": {
    "ExecuteTime": {
     "end_time": "2019-07-21T19:44:43.069431Z",
     "start_time": "2019-07-21T19:44:43.057465Z"
    }
   },
   "outputs": [
    {
     "data": {
      "text/plain": [
       "0.0001591457309295678"
      ]
     },
     "execution_count": 53,
     "metadata": {},
     "output_type": "execute_result"
    }
   ],
   "source": [
    "delta2 = np.zeros((n, n))\n",
    "for i in range(n):\n",
    "    for j in range(n):\n",
    "        delta2[i][j] = poincare_dist2(init_complex[i], init_complex[j])\n",
    "norm(delta1 - delta2)"
   ]
  },
  {
   "cell_type": "code",
   "execution_count": 183,
   "metadata": {
    "ExecuteTime": {
     "end_time": "2019-07-21T20:37:29.485368Z",
     "start_time": "2019-07-21T20:37:29.261965Z"
    }
   },
   "outputs": [
    {
     "data": {
      "image/png": "[encoded data removed]",
      "text/plain": [
       "<Figure size 432x432 with 1 Axes>"
      ]
     },
     "metadata": {
      "needs_background": "light"
     },
     "output_type": "display_data"
    }
   ],
   "source": [
    "def init_z(n, dim=2, low=-0.1, high=0.1):\n",
    "    random_config = np.random.uniform(low, high, size=(n, dim))\n",
    "    return random_config\n",
    "\n",
    "# plot initial random configuration\n",
    "fig = plt.figure(figsize=(6,6))\n",
    "ax = fig.add_subplot(111)\n",
    "circ = plt.Circle((0, 0), radius=1, edgecolor='black', facecolor='None', linewidth=3, alpha=0.5)\n",
    "ax.add_patch(circ)\n",
    "\n",
    "init_config = init_z(7)\n",
    "x = init_config[:,0]\n",
    "y = init_config[:,1]\n",
    "ax.scatter(x, y, s=20, alpha=1);"
   ]
  },
  {
   "cell_type": "code",
   "execution_count": 55,
   "metadata": {
    "ExecuteTime": {
     "end_time": "2019-07-21T19:44:49.592842Z",
     "start_time": "2019-07-21T19:44:49.584869Z"
    }
   },
   "outputs": [],
   "source": [
    "eps = 1e-5\n",
    "def partial_d(theta, x):\n",
    "    alpha = 1 - norm(theta)**2\n",
    "    beta = 1 - norm(x)**2\n",
    "    gamma = 1 + 2/(alpha*beta + eps) * norm(theta-x)**2\n",
    "    lhs = 4 / (beta*np.sqrt(gamma**2 - 1) + eps)\n",
    "    rhs = 1/(alpha**2 + eps) * (norm(x)**2 - 2*np.inner(theta,x) + 1) * theta - x/(alpha + eps)\n",
    "    return lhs*rhs\n",
    "\n",
    "def proj(theta):\n",
    "    if norm(theta) >= 1:\n",
    "        theta = theta/norm(theta) - eps\n",
    "    return theta"
   ]
  },
  {
   "cell_type": "code",
   "execution_count": 107,
   "metadata": {
    "ExecuteTime": {
     "end_time": "2019-07-21T20:19:45.039950Z",
     "start_time": "2019-07-21T20:19:45.009034Z"
    }
   },
   "outputs": [
    {
     "data": {
      "text/plain": [
       "130.25672834822674"
      ]
     },
     "execution_count": 107,
     "metadata": {},
     "output_type": "execute_result"
    },
    {
     "data": {
      "text/plain": [
       "array([[ 28.18765633, -17.60082631],\n",
       "       [ 31.1043808 ,  -0.2697067 ],\n",
       "       [-22.24843306, -22.83768339],\n",
       "       [  0.31689074, -14.02874819],\n",
       "       [ 15.32659284,  -6.56164175],\n",
       "       [ -2.9354551 ,  -2.43803004],\n",
       "       [  0.        ,   0.        ]])"
      ]
     },
     "execution_count": 107,
     "metadata": {},
     "output_type": "execute_result"
    },
    {
     "data": {
      "text/plain": [
       "array([ 1, -2])"
      ]
     },
     "execution_count": 107,
     "metadata": {},
     "output_type": "execute_result"
    }
   ],
   "source": [
    "def loss_fn(embed_config, dissimilarities, n, alpha=1):\n",
    "    loss = 0\n",
    "    for i in range(n):\n",
    "        for j in range(i+1, n):\n",
    "            #print(poincare_dist(embed_config[i], embed_config[j]))\n",
    "            zi_error = (poincare_dist(embed_config[i], embed_config[j]) - alpha*dissimilarities[i][j])**2\n",
    "            loss += zi_error\n",
    "    return loss\n",
    "loss_fn(init_config, dissimilarity, n=len(init_config))\n",
    "\n",
    "def compute_gradients(Z, dissimilarities, n, alpha=1):\n",
    "    gradients = np.zeros((n, 2))\n",
    "    for i in range(n):\n",
    "        grad_zi = 0\n",
    "        for j in range(i+1, n):\n",
    "            dd_loss = 2*poincare_dist(Z[i], Z[j]) - 2*alpha*dissimilarities[i][j]\n",
    "            dd_dist = partial_d(Z[i], Z[j])\n",
    "            grad_zi += dd_loss * dd_dist\n",
    "        gradients[i] = grad_zi\n",
    "    return gradients\n",
    "compute_gradients(init_config, dissimilarity, len(init_config))\n",
    "\n",
    "def conjugate(z):\n",
    "    z_bar = np.array([z[0], -z[1]])\n",
    "    return z_bar\n",
    "conjugate([1, 2])"
   ]
  },
  {
   "cell_type": "markdown",
   "metadata": {},
   "source": [
    "We only need to compute the derivative of q(r) evaluated at 0, so here we just plug 0 into q'(r) <br>\n",
    "<br>\n",
    "$$\n",
    "\\begin{aligned} q^{\\prime}(0) &=\\frac{d}{d r} q(0)\\\\ &=\\left(\\operatorname{Re} \\mathbf{M}^{\\prime}(-r \\mathbf{g}, \\mathbf{z})\\right)^{T} \\operatorname{Re} \\nabla E(\\mathbf{M}(-r \\mathbf{g}, \\mathbf{z}), \\boldsymbol{\\Delta}, \\mathbf{W}, \\mathbf{I}) \\\\ &+\\left(\\operatorname{Im} \\mathbf{M}^{\\prime}(-r \\mathbf{g}, \\mathbf{z})\\right)^{T} \\operatorname{Im} \\nabla E(\\mathbf{M}(-r \\mathbf{g}, \\mathbf{z}), \\boldsymbol{\\Delta}, \\mathbf{W}, \\mathbf{I}) \\end{aligned}\n",
    "$$ <br>\n",
    "with step size = 0 we also have: <br>\n",
    "$$\n",
    "M_{j}(0)=z_j\n",
    "$$<br>\n",
    "$$\n",
    "M_{j}^{\\prime}(0)=g_{j} (\\left|z_{j}\\right|^{2}-1)\n",
    "$$"
   ]
  },
  {
   "cell_type": "code",
   "execution_count": 176,
   "metadata": {
    "ExecuteTime": {
     "end_time": "2019-07-21T20:36:38.427117Z",
     "start_time": "2019-07-21T20:36:38.405172Z"
    }
   },
   "outputs": [
    {
     "data": {
      "text/plain": [
       "0.05879914737737489"
      ]
     },
     "execution_count": 176,
     "metadata": {},
     "output_type": "execute_result"
    },
    {
     "data": {
      "text/plain": [
       "nan"
      ]
     },
     "execution_count": 176,
     "metadata": {},
     "output_type": "execute_result"
    }
   ],
   "source": [
    "eps=1e-5\n",
    "def q(r, Z, g, dissimilarities, n):\n",
    "    M_r = np.zeros((n, 2))\n",
    "    for j in range(n):\n",
    "        M_r[j] = (-r*g[j] + Z[j]) / (-r*g[j] * conjugate(Z[j]) + 1)\n",
    "        #print(M_r[j])\n",
    "    return loss_fn(M_r, dissimilarities, n)\n",
    "init_grad = compute_gradients(init_config, delta1, len(init_config))\n",
    "#init_grad\n",
    "smax = 1\n",
    "rmax = 1/(norm(init_grad, axis=1).max()+eps) * np.tanh(smax/2)\n",
    "rmax\n",
    "q(rmax, init_config, init_grad, delta1, n)\n",
    "#loss_fn(init_config, delta1, n=len(init_config))"
   ]
  },
  {
   "cell_type": "code",
   "execution_count": 168,
   "metadata": {
    "ExecuteTime": {
     "end_time": "2019-07-21T20:35:08.652070Z",
     "start_time": "2019-07-21T20:35:08.614170Z"
    }
   },
   "outputs": [
    {
     "name": "stdout",
     "output_type": "stream",
     "text": [
      "False\n",
      "True\n",
      "False\n",
      "nan\n",
      "45.800194292642\n"
     ]
    },
    {
     "data": {
      "text/plain": [
       "0.01"
      ]
     },
     "execution_count": 168,
     "metadata": {},
     "output_type": "execute_result"
    }
   ],
   "source": [
    "def line_search(Z, dissimilarities, n, r0, rmax):\n",
    "    Z_norm = norm(Z, axis=1)**2\n",
    "    g = compute_gradients(Z, dissimilarity, n)\n",
    "    M_prime = g*Z_norm.reshape(-1,1)\n",
    "    qprime_0 = np.dot(M_prime[:,0].T, g[:,0]) + np.dot(M_prime[:,1].T, g[:,1])\n",
    "    p=0.5\n",
    "    roof_fn = lambda r: q(0, Z, g, dissimilarities, n) + p*qprime_0*r\n",
    "    r = r0\n",
    "    rmin = 1e-5\n",
    "    while rmin < r < rmax and q(r, Z, g, dissimilarities, n) < roof_fn(r):\n",
    "        print('Loop 1: ', r)\n",
    "        print(q(r, Z, g, dissimilarities, n) < roof_fn(r))\n",
    "        r = 2*r\n",
    "    print(q(r, Z, g, dissimilarities, n) < roof_fn(r))\n",
    "    while r > rmax or q(r, Z, g, dissimilarities, n) > roof_fn(r):\n",
    "        print('Loop 2: ', r)\n",
    "        r = r/2\n",
    "    print(rmin < r < rmax)\n",
    "    print(q(r, Z, g, dissimilarities, n) <= roof_fn(r))\n",
    "    print(q(r, Z, g, dissimilarities, n))\n",
    "    print(roof_fn(r))\n",
    "    return r\n",
    "line_search(init_config, delta1, len(init_config), 0.01, rmax)"
   ]
  },
  {
   "cell_type": "code",
   "execution_count": 184,
   "metadata": {
    "ExecuteTime": {
     "end_time": "2019-07-21T20:38:05.522469Z",
     "start_time": "2019-07-21T20:38:05.437694Z"
    }
   },
   "outputs": [
    {
     "name": "stdout",
     "output_type": "stream",
     "text": [
      "Loop 1:  0.001\n",
      "True\n",
      "Loop 1:  0.002\n",
      "True\n",
      "Loop 1:  0.004\n",
      "True\n",
      "Loop 1:  0.008\n",
      "True\n",
      "True\n",
      "Loop 2:  0.016\n",
      "True\n",
      "True\n",
      "85.69792746045901\n",
      "120.63996596221355\n",
      "Loop 1:  0.001\n",
      "True\n",
      "Loop 1:  0.002\n",
      "True\n",
      "Loop 1:  0.004\n",
      "True\n",
      "Loop 1:  0.008\n",
      "True\n",
      "True\n",
      "Loop 2:  0.016\n",
      "True\n",
      "True\n",
      "46.8753144563826\n",
      "82.3368680745245\n"
     ]
    }
   ],
   "source": [
    "def descent_method(init, dissimilarities, n_components=2, max_iter = 100, verbose=0, alpha=1,\n",
    "                   weights=None, indicators=None):\n",
    "    #error_tol =\n",
    "    #min_grad = \n",
    "    #min_step = \n",
    "    Z = init\n",
    "    n = len(Z)\n",
    "    smax = 1\n",
    "    for i in range(2):\n",
    "        current_loss = loss_fn(Z, dissimilarities, n)\n",
    "        g = compute_gradients(Z, dissimilarities, n)\n",
    "        rmax = 1/(norm(g, axis=1).max()+eps) * np.tanh(smax/2)\n",
    "        r = line_search(Z, dissimilarities, n, 0.001, rmax)\n",
    "        for i in range(n):\n",
    "            zi_prime = (-r*g[i] + Z[i]) / (-r*g[i] * conjugate(Z[i]) + 1)\n",
    "            Z[i] = zi_prime\n",
    "    return Z\n",
    "output = descent_method(init_config, delta1)"
   ]
  },
  {
   "cell_type": "code",
   "execution_count": 192,
   "metadata": {
    "ExecuteTime": {
     "end_time": "2019-07-21T20:41:55.783236Z",
     "start_time": "2019-07-21T20:41:55.405248Z"
    }
   },
   "outputs": [
    {
     "data": {
      "image/png": "[encoded data removed]",
      "text/plain": [
       "<Figure size 864x432 with 2 Axes>"
      ]
     },
     "metadata": {
      "needs_background": "light"
     },
     "output_type": "display_data"
    }
   ],
   "source": [
    "fig = plt.figure(figsize=(12,6))\n",
    "ax = fig.add_subplot(121)\n",
    "circ = plt.Circle((0, 0), radius=1, edgecolor='black', facecolor='None', linewidth=3, alpha=0.5)\n",
    "ax.add_patch(circ)\n",
    "\n",
    "x = output[:,0]\n",
    "y = output[:,1]\n",
    "ax.scatter(x, y, s=20, alpha=1)\n",
    "\n",
    "ax2 = fig.add_subplot(122)\n",
    "circ = plt.Circle((0, 0), radius=1, edgecolor='black', facecolor='None', linewidth=3, alpha=0.5)\n",
    "ax2.add_patch(circ)\n",
    "\n",
    "x = init_data[:,0]\n",
    "y = init_data[:,1]\n",
    "ax2.scatter(x, y, s=20, alpha=1);"
   ]
  },
  {
   "cell_type": "code",
   "execution_count": null,
   "metadata": {},
   "outputs": [],
   "source": [
    "class HyperMDS():\n",
    "    \n",
    "    def __init__(self, n_components=2, max_iter=100, verbose=0, eps=1e-3, n_jobs=None,\n",
    "                 random_state=None, dissimilarity=\"euclidean\"):\n",
    "        self.n_components = n_components\n",
    "        self.dissimilarity = dissimilarity\n",
    "        self.max_iter = max_iter\n",
    "        self.eps = eps\n",
    "        self.verbose = verbose\n",
    "        self.n_jobs = n_jobs\n",
    "        self.random_state = random_state\n",
    "    \n",
    "    def fit(self, X, init=None):\n",
    "        \"\"\"\n",
    "        Uses gradient descent to find the embedding configuration in the Poincaré disk\n",
    "        Parameters\n",
    "        ----------\n",
    "        X : array, shape (n_samples, n_features) or (n_samples, n_samples)\n",
    "            Input data. If ``dissimilarity=='precomputed'``, the input should\n",
    "            be the dissimilarity matrix.\n",
    "        init: initial configuration of the embedding coordinates\n",
    "        \"\"\"\n",
    "        self.fit_transform(X, init=init)\n",
    "        return self\n",
    "    \n",
    "    def fit_transform(self, X, init=None):\n",
    "        \"\"\"\n",
    "        Fit the embedding from X, and return the embedding coordinates\n",
    "        Parameters\n",
    "        ----------\n",
    "        X : array, shape (n_samples, n_features) or (n_samples, n_samples)\n",
    "            Input data. If ``dissimilarity=='precomputed'``, the input should\n",
    "            be the dissimilarity matrix.\n",
    "        init: initial configuration of the embedding coordinates\n",
    "        \"\"\""
   ]
  }
 ],
 "metadata": {
  "kernelspec": {
   "display_name": "Python 3",
   "language": "python",
   "name": "python3"
  },
  "language_info": {
   "codemirror_mode": {
    "name": "ipython",
    "version": 3
   },
   "file_extension": ".py",
   "mimetype": "text/x-python",
   "name": "python",
   "nbconvert_exporter": "python",
   "pygments_lexer": "ipython3",
   "version": "3.7.1"
  },
  "nbTranslate": {
   "displayLangs": [
    "*"
   ],
   "hotkey": "alt-t",
   "langInMainMenu": true,
   "sourceLang": "en",
   "targetLang": "fr",
   "useGoogleTranslate": true
  },
  "varInspector": {
   "cols": {
    "lenName": 16,
    "lenType": 16,
    "lenVar": 40
   },
   "kernels_config": {
    "python": {
     "delete_cmd_postfix": "",
     "delete_cmd_prefix": "del ",
     "library": "var_list.py",
     "varRefreshCmd": "print(var_dic_list())"
    },
    "r": {
     "delete_cmd_postfix": ") ",
     "delete_cmd_prefix": "rm(",
     "library": "var_list.r",
     "varRefreshCmd": "cat(var_dic_list()) "
    }
   },
   "types_to_exclude": [
    "module",
    "function",
    "builtin_function_or_method",
    "instance",
    "_Feature"
   ],
   "window_display": false
  }
 },
 "nbformat": 4,
 "nbformat_minor": 2
}
