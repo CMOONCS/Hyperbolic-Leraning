{
 "cells": [
  {
   "cell_type": "markdown",
   "metadata": {},
   "source": [
    "# Multidimensional Scaling in Hyperbolic Space"
   ]
  },
  {
   "cell_type": "markdown",
   "metadata": {},
   "source": [
    "In this notebook, I begin my attempt to implement a Multidimensional Scaling (MDS) algorithm that embeds data into hyperbolic space instead of the target Euclidean space for standard MDS. Just like traditional MDS, this variant h-MDS (hyperbolic MDS) will seek to produce accurate spatial representations of possibly high dimensional datasets, by  attempting to reflect the original pairwise similarities by the corresponding pairwise distances of the output configuration in the embedding space. <br>\n",
    "<br>\n",
    "Relevant papers that discuss hyperbolic MDS and outline some general implementation details: <br>\n",
    "<br>\n",
    "[1]. A. Cvetkovski and M. Crovella. Multidimensional scaling in the Poincaré disk. arXiv:1105.5332, 2011.<br>\n",
    "[2]. H-MDS: a new approach for interactive visualization with multidimensional scaling in the hyperbolic space. Jörg Walter. Information Systems, Elsevier, 29(4):273-292, 2004.<br>\n",
    "[3]. Jörg A. Walter and Helge Ritter. 2002. On interactive visualization of high-dimensional data using the hyperbolic plane. In Proceedings of the eighth ACM SIGKDD international conference on Knowledge discovery and data mining (KDD '02). ACM, New York, NY, USA, 123-132. DOI=http://dx.doi.org/10.1145/775047.775065"
   ]
  },
  {
   "cell_type": "code",
   "execution_count": 2,
   "metadata": {
    "ExecuteTime": {
     "end_time": "2019-07-21T19:28:57.531449Z",
     "start_time": "2019-07-21T19:28:48.962115Z"
    }
   },
   "outputs": [],
   "source": [
    "import numpy as np\n",
    "import pandas as pd\n",
    "import matplotlib.pyplot as plt\n",
    "%matplotlib inline\n",
    "from mpl_toolkits.mplot3d import Axes3D\n",
    "from sklearn.utils import check_random_state\n",
    "#plt.style.use('classic')\n",
    "#plt.rcParams['figure.figsize'] = (6.5, 6.5)\n",
    "#plt.rcParams['figure.facecolor'] = 'white'\n",
    "#from jupyterthemes import jtplot\n",
    "#jtplot.style()\n",
    "\n",
    "# ignore warnings\n",
    "import warnings\n",
    "warnings.filterwarnings('ignore');\n",
    "\n",
    "# display multiple outputs within a cell\n",
    "from IPython.core.interactiveshell import InteractiveShell\n",
    "InteractiveShell.ast_node_interactivity = \"all\";"
   ]
  },
  {
   "cell_type": "markdown",
   "metadata": {},
   "source": [
    "# Intro and key concepts"
   ]
  },
  {
   "cell_type": "markdown",
   "metadata": {},
   "source": [
    "We use the Poincaré disk as our model of hyperbolic space, and the only fundamental change with respect to MDS in Euclidean space is that we need to use the Poincaré distance metric instead of the Euclidean distance."
   ]
  },
  {
   "cell_type": "markdown",
   "metadata": {},
   "source": [
    "We can define the Poincare disk based on the complex plane: $\\mathbb{D}=\\{z \\in \\mathbb{C}| | z |<1\\}$. We have the symmetric distance function for $\\boldsymbol{u}, \\boldsymbol{v} \\in \\mathcal{D}$:\n",
    "\n",
    "$$\n",
    "d(\\boldsymbol{u}, \\boldsymbol{v})=\\operatorname{arcosh}\\left(1+2 \\frac{\\|\\boldsymbol{u}-\\boldsymbol{v}\\|^{2}}{\\left(1-\\|\\boldsymbol{u}\\|^{2}\\right)\\left(1-\\|\\boldsymbol{v}\\|^{2}\\right)}\\right)\n",
    "$$ <br>\n",
    "<br>\n",
    "or considering the complex plane: <br>\n",
    "$$\n",
    "d_{\\mathbb{D}}\\left(z_{j}, z_{k}\\right)=2 \\operatorname{atanh} \\frac{\\left|z_{j}-z_{k}\\right|}{\\left|1-z_{j} \\overline{z}_{k}\\right|}\n",
    "$$"
   ]
  },
  {
   "cell_type": "markdown",
   "metadata": {},
   "source": [
    "The idea of Mobius transformations will also be important, and these are transformations that preserve hyperbolic distances. The Mobius transformations $T$ have the following form: <br> \n",
    "<br>\n",
    "$$\n",
    "T(z)=\\frac{a z+b}{\\overline{b} z+\\overline{a}}, a, b \\in \\mathbb{C},|a|^{2}-|b|^{2} \\neq 0\n",
    "$$"
   ]
  },
  {
   "cell_type": "markdown",
   "metadata": {},
   "source": [
    "Our h-MDS algorithm will have a relatively simple design based on iterative steepest descent and an approximate line search function. Therefore, we need to be able to describe hyperbolic lines based on a given direction $\\gamma$ and a starting point $z_0$. For $z_{0} \\in \\mathbb{D}, \\gamma \\in \\mathbb{C}$ with $|\\gamma|=1,$ and $s \\geq 0$, this hyperbolic line is given by:<br>\n",
    "<br>\n",
    "$$\n",
    "z_{0}^{\\prime}=\\frac{\\gamma \\tanh \\frac{s}{2}+z_{0}}{\\overline{z_{0}} \\gamma \\tanh \\frac{s}{2}+1}\n",
    "$$ <br>\n",
    "where $s$ gives the length along the line and $d_{\\mathrm{D}}\\left(z_{0}, z_{0}^{\\prime}\\right)=s$"
   ]
  },
  {
   "cell_type": "markdown",
   "metadata": {},
   "source": [
    "# Gradient descent and hyperbolic line search"
   ]
  },
  {
   "cell_type": "markdown",
   "metadata": {},
   "source": [
    "## Descent method"
   ]
  },
  {
   "cell_type": "markdown",
   "metadata": {},
   "source": [
    "The steepest descent will be based on the gradient of an objective function $E_t(\\mathbf{z}, \\Delta, \\mathbf{W}, \\mathbf{I})$ that is defined by these inputs and which gives the embedding error or loss at some given iteration $t$<br>\n",
    "<br>\n",
    "One common embedding error is given by the following function defined as the sum of relative squared differences between the initial dissimilarities and the distances in the embedding space:. <br>\n",
    "<br>\n",
    "$$\n",
    "E_{t}(\\mathbf{z}, \\Delta, \\mathbf{W}, \\mathbf{I})=\\sum_{j=1}^{n} \\sum_{k=j+1}^{n} w_{j k} I_{j k}\\left(\\frac{d_{j k}(t)-\\delta_{j k}}{\\delta_{j k}}\\right)^{2}\n",
    "$$"
   ]
  },
  {
   "cell_type": "markdown",
   "metadata": {},
   "source": [
    "The descent direction is defined by the gradient of this error function: <br>\n",
    "<br>\n",
    "$$\n",
    "\\mathbf{g}=\\nabla E \\stackrel{\\mathrm{def}}{=}\\left[\\begin{array}{c}{\\frac{\\partial E}{\\partial y_{1,1}}+i \\frac{\\partial E}{\\partial y_{1,2}}} \\\\ {\\frac{\\partial E}{\\partial y_{2,1}}+i \\frac{\\partial E}{\\partial y_{2,2}}} \\\\ {\\vdots} \\\\ {\\frac{\\partial E}{\\partial y_{n, 1}}+i \\frac{\\partial E}{\\partial y_{n, 2}}}\\end{array}\\right]=\\left[\\begin{array}{c}{g_{1}} \\\\ {g_{2}} \\\\ {\\vdots} \\\\ {g_{n}}\\end{array}\\right]\n",
    "$$<br>\n",
    "We have descent directions $-g_1, \\ldots , -g_n$ and the new configuration after the update will have points <br>\n",
    "<br>\n",
    "$$\n",
    "z_{j}^{\\prime}=\\frac{-r g_{j}+z_{j}}{-r g_{j} \\overline{z_{j}}+1}\n",
    "$$ <br>\n",
    "and $r \\geq 0$ is the step-size parameter"
   ]
  },
  {
   "cell_type": "markdown",
   "metadata": {},
   "source": [
    "![title](images/pd_mds5.png) <br>\n",
    "source: A. Cvetkovski and M. Crovella. Multidimensional scaling in the Poincaré disk"
   ]
  },
  {
   "cell_type": "markdown",
   "metadata": {},
   "source": [
    "## Approximate Hyperbolic Line Search"
   ]
  },
  {
   "cell_type": "markdown",
   "metadata": {},
   "source": [
    "We have some more notation and parameters related to line search. $s_M$ sets the window for distance between successive configurations or updates. We need this to be finite to limit points from approaching the boundary at infinite distances. If $s_j$ are distances for updates: $s_{M}=\\max _{j} s_{j}<\\infty$<br>\n",
    "<br>\n",
    "The parameter $r_M$ sets the window for the step size $r$ and we restrict our line search for each update within this window. We have the constraint: $r<\\frac{1}{\\|\\mathbf{g}\\|_{\\infty}}$ and the following equation that relates these parameters: <br>\n",
    "\n",
    "$$\n",
    "r_{M}=\\frac{1}{\\|\\mathbf{g}\\|_{\\infty}} \\cdot \\tanh \\frac{s_{M}}{2}<\\frac{1}{\\|\\mathbf{g}\\|_{\\infty}}\n",
    "$$"
   ]
  },
  {
   "cell_type": "markdown",
   "metadata": {},
   "source": [
    "During our line search, it would be ideal to find the step size $r$ along the hyperbolic line (but within the window $r_M$) that minimizes the error function. This turns out to be too computationally expensive, and so we just set a sufficient stopping condition and accept any step size that meets the condition. "
   ]
  },
  {
   "cell_type": "markdown",
   "metadata": {},
   "source": [
    "To express the stopping condition, we define the error in terms of the step size and let this function be $q(r)$ <br>\n",
    "<br>\n",
    "We also define this 'roof' function: $\\lambda(r)=q(0)+p \\cdot q^{\\prime}(0) \\cdot r, \\quad 0<p<1$ <br>\n",
    "<br>\n",
    "and set the condition for acceptable values of step size: $q(r)<\\lambda(r), r \\in\\left(0, r_{M}\\right]$ "
   ]
  },
  {
   "cell_type": "markdown",
   "metadata": {},
   "source": [
    "![title](images/line_search.png) <br>\n",
    "source: A. Cvetkovski and M. Crovella. Multidimensional scaling in the Poincaré disk"
   ]
  },
  {
   "cell_type": "markdown",
   "metadata": {},
   "source": [
    "We need to find explicit formulas for $q(r)$ and its derivative $q'(r)$ in order to calculate these values and apply the stopping conditions in the approximate line search. <br>\n",
    "<br>\n",
    "We can write the updates for each $z_j$ based on the Mobius transformations: $M_{j}(r)=\\frac{-r g_{j}+z_{j}}{-r g_{j} \\overline{z}_{j}+1}$"
   ]
  },
  {
   "cell_type": "markdown",
   "metadata": {},
   "source": [
    "The expression for the error in terms of step size can now be written as $q(r)=E(\\mathbf{M}(-r \\mathbf{g}, \\mathbf{z}), \\mathbf{\\Delta}, \\mathbf{W}, \\mathbf{I})$ <br>\n",
    "<br>\n",
    "$q'(r)$ has the following form: <br>\n",
    "<br>\n",
    "$$\n",
    "\\begin{aligned} q^{\\prime}(r) &=\\frac{d}{d r} q(r)=\\\\ &=\\left(\\operatorname{Re} \\mathbf{M}^{\\prime}(-r \\mathbf{g}, \\mathbf{z})\\right)^{T} \\operatorname{Re} \\nabla E(\\mathbf{M}(-r \\mathbf{g}, \\mathbf{z}), \\boldsymbol{\\Delta}, \\mathbf{W}, \\mathbf{I}) \\\\ &+\\left(\\operatorname{Im} \\mathbf{M}^{\\prime}(-r \\mathbf{g}, \\mathbf{z})\\right)^{T} \\operatorname{Im} \\nabla E(\\mathbf{M}(-r \\mathbf{g}, \\mathbf{z}), \\boldsymbol{\\Delta}, \\mathbf{W}, \\mathbf{I}) \\end{aligned}\n",
    "$$"
   ]
  },
  {
   "cell_type": "markdown",
   "metadata": {},
   "source": [
    "and this can be explicitly calculated using the following equation: <br>\n",
    "<br>\n",
    "$$\n",
    "M_{j}^{\\prime}(r)=\\frac{d}{d r} M_{j}(r)=g_{j} \\frac{\\left|z_{j}\\right|^{2}-1}{\\left(1-r g_{j} \\overline{z_{j}}\\right)^{2}}\n",
    "$$"
   ]
  },
  {
   "cell_type": "markdown",
   "metadata": {},
   "source": [
    "![title](images/hyp_line.png) <br>\n",
    "source: A. Cvetkovski and M. Crovella. Multidimensional scaling in the Poincaré disk"
   ]
  },
  {
   "cell_type": "markdown",
   "metadata": {},
   "source": [
    "# Deriving gradients to implement h-MDS"
   ]
  },
  {
   "cell_type": "markdown",
   "metadata": {},
   "source": [
    "For the initial implementation of h-MDS let the error function be given by the Absolute Differences Squared (ADS) <br>\n",
    "<br>\n",
    "$$\n",
    "E=\\sum_{j=1}^{n} \\sum_{k=j+1}^{n} w_{j k}\\left(I_{j k}\\left(d_{j k}-a \\delta_{j k}\\right)\\right)^{2}\n",
    "$$ <br>\n",
    "$W$ is a weight matrix and $I$ is an indicator matrix for sparse/missing values in dissimilarity matrix <br>\n",
    "$d_{j k}$ is the distance in the poincaré disk and $\\delta_{j k}$ is the original dissimilarity <br>\n",
    "<br>\n",
    "Hyperbolic distance is not scale invariant like Euclidean distance, so we have an additional degree of freedom $\\alpha$ - a scaling factor for the original entries of dissimilarity matrix"
   ]
  },
  {
   "cell_type": "markdown",
   "metadata": {},
   "source": [
    "We need to find the gradient of the error function $E$ <br>\n",
    "<br>\n",
    "$$\n",
    "\\nabla E \\stackrel{\\mathrm{def}}{=}\\left[\\begin{array}{c}{\\frac{\\partial E}{\\partial y_{1,1}}+i \\frac{\\partial E}{\\partial y_{1,2}}} \\\\ {\\frac{\\partial E}{\\partial y_{2,1}}+i \\frac{\\partial E}{\\partial y_{2,2}}} \\\\ {\\vdots} \\\\ {\\frac{\\partial E}{\\partial y_{n, 1}}+i \\frac{\\partial E}{\\partial y_{n, 2}}}\\end{array}\\right]\n",
    "$$ <br>\n",
    "<br>\n",
    "Using the chain rule: <br>\n",
    "$$\n",
    "\\nabla E=\\frac{\\partial E (z_i)}{\\partial d(z_i, z_j)} \\frac{\\partial d(z_i, z_j)}{\\partial z_i}\n",
    "$$"
   ]
  },
  {
   "cell_type": "markdown",
   "metadata": {},
   "source": [
    "The first partial derivative term for the loss function is given by:<br>\n",
    "<br>\n",
    "$$\\frac{\\partial E (z_i)}{\\partial d(z_i, z_j)} = w_{i j} (2 d(z_i, z_j) - 2 \\alpha \\delta_{i j})$$"
   ]
  },
  {
   "cell_type": "markdown",
   "metadata": {},
   "source": [
    "For the partial derivatives of the poincaré distance, consider two ways to define the distance function<br>\n",
    "<br>\n",
    "For the arccosh definition, define the following:<br>\n",
    "$$\n",
    "\\alpha=1-\\|z_i\\|^{2}\n",
    "$$\n",
    "$$\n",
    "\\beta=1-\\|z_j\\|^{2}\n",
    "$$\n",
    "$$\n",
    "\\gamma=1+\\frac{2}{\\alpha \\beta}\\|z_i-z_j\\|^{2}\n",
    "$$\n",
    "\n",
    "and we can write the partial derivative<br>\n",
    "<br>\n",
    "$$\n",
    "\\frac{\\partial d(z_i, z_j)}{\\partial z_i}=\\frac{4}{\\beta \\sqrt{\\gamma^{2}-1}}\\left(\\frac{\\|z_j\\|^{2}-2\\langle z_i, z_j\\rangle+ 1}{\\alpha^{2}} z_i-\\frac{z_j}{\\alpha}\\right)\n",
    "$$"
   ]
  },
  {
   "cell_type": "markdown",
   "metadata": {},
   "source": [
    "For the arctanh definition, we have: <br>\n",
    "<br>\n",
    "$$\n",
    "\\begin{aligned} \\frac{\\partial}{\\partial x_{i, 1}} d\\left(\\mathbf{x}_{i}, \\mathbf{x}_{j}\\right) &=\\frac{2 t}{1-t^{2}}\\left(\\frac{v_{1}}{v_{1}^{2}+v_{2}^{2}}-\\frac{x_{j, 1} v_{3}+x_{j, 2} v_{4}}{v_{3}^{2}+v_{4}^{2}}\\right) \\\\ \\frac{\\partial}{\\partial x_{i, 2}} d\\left(\\mathbf{x}_{i}, \\mathbf{x}_{j}\\right) &=\\frac{2 t}{1-t^{2}}\\left(\\frac{v_{2}}{v_{1}^{2}+v_{2}^{2}}+\\frac{x_{i, 1} v_{4}-x_{j, 2} v_{3}}{v_{3}^{2}+v_{4}^{2}}\\right) \\end{aligned}\n",
    "$$"
   ]
  },
  {
   "cell_type": "markdown",
   "metadata": {},
   "source": [
    "with the following definitions of these terms: <br>\n",
    "\n",
    "$$\n",
    "\\begin{aligned} \\mathbf{x}_{i} &=\\left(x_{i, 1}+\\mathrm{i} x_{i, 2}\\right) \\in P D \\subset \\mathbb{C} \\\\ \\mathbf{x}_{j} &=\\left(x_{j, 1}+\\mathrm{i} x_{j, 2}\\right) \\in P D \\subset \\mathbb{C} \\\\ v_{1} &=x_{i, 1}-x_{j, 1} \\\\ v_{3} &=x_{i, 1} x_{j, 1}+x_{i, 2} x_{j, 2}-1 \\\\ v_{2} &=x_{i, 2}-x_{j, 2} \\\\ v_{4} &=x_{i, 1} x_{j, 2}-x_{j, 1} x_{i, 2} \\\\ t^{2} &=\\frac{v_{1}^{2}+v_{2}^{2}}{v_{3}^{2}+v_{4}^{2}} \\end{aligned}\n",
    "$$"
   ]
  },
  {
   "cell_type": "markdown",
   "metadata": {},
   "source": [
    "and finally we have an explicit form of the gradient $\\nabla E$"
   ]
  },
  {
   "cell_type": "markdown",
   "metadata": {},
   "source": [
    "# Python/Numpy Implementation"
   ]
  },
  {
   "cell_type": "code",
   "execution_count": 46,
   "metadata": {
    "ExecuteTime": {
     "end_time": "2019-07-21T19:43:59.298817Z",
     "start_time": "2019-07-21T19:43:59.288847Z"
    }
   },
   "outputs": [
    {
     "data": {
      "text/plain": [
       "0.8569857606976118"
      ]
     },
     "execution_count": 46,
     "metadata": {},
     "output_type": "execute_result"
    }
   ],
   "source": [
    "def norm(x, axis=None):\n",
    "    return np.linalg.norm(x, axis=axis)\n",
    "\n",
    "def poincare_dist(u, v, eps=1e-5):\n",
    "    d = 1 + 2 * norm(u-v)**2 / ((1 - norm(u)**2) * (1 - norm(v)**2) + eps)\n",
    "    return np.arccosh(d)\n",
    "u1 = np.array([0.5, 0.5])\n",
    "v1 = np.array([0.3, 0.3])\n",
    "poincare_dist(u1, v1, eps=0)"
   ]
  },
  {
   "cell_type": "code",
   "execution_count": 177,
   "metadata": {
    "ExecuteTime": {
     "end_time": "2019-07-21T20:37:08.637738Z",
     "start_time": "2019-07-21T20:37:08.628761Z"
    }
   },
   "outputs": [
    {
     "data": {
      "text/plain": [
       "0.8569857606976117"
      ]
     },
     "execution_count": 177,
     "metadata": {},
     "output_type": "execute_result"
    }
   ],
   "source": [
    "def poincare_dist2(zi, zj):\n",
    "    val = norm(zi - zj) / norm(1-zi*np.conj(zj))\n",
    "    return 2* np.arctanh(val)\n",
    "z1 = 0.5 + 0.5j\n",
    "z2 = 0.3 + 0.3j\n",
    "poincare_dist2(z1, z2)"
   ]
  },
  {
   "cell_type": "code",
   "execution_count": 248,
   "metadata": {
    "ExecuteTime": {
     "end_time": "2019-07-21T20:53:57.067494Z",
     "start_time": "2019-07-21T20:53:56.852909Z"
    }
   },
   "outputs": [
    {
     "data": {
      "image/png": "[encoded data removed]",
      "text/plain": [
       "<Figure size 432x432 with 1 Axes>"
      ]
     },
     "metadata": {
      "needs_background": "light"
     },
     "output_type": "display_data"
    }
   ],
   "source": [
    "# generate a small set of random points in poincaré disk\n",
    "fig = plt.figure(figsize=(6,6))\n",
    "ax = fig.add_subplot(111)\n",
    "circ = plt.Circle((0, 0), radius=1, edgecolor='black', facecolor='None', linewidth=3, alpha=0.5)\n",
    "ax.add_patch(circ)\n",
    "\n",
    "# sample within unit sphere in R^2\n",
    "n = 7\n",
    "theta = np.random.uniform(0, 2*np.pi, n)\n",
    "u = np.random.uniform(0, 0.7, n)\n",
    "r = np.sqrt(u)\n",
    "x = r * np.cos(theta)\n",
    "y = r * np.sin(theta)\n",
    "init_data = np.hstack((x.reshape(-1,1), y.reshape(-1,1)))\n",
    "ax.scatter(x, y, s=20, alpha=1);"
   ]
  },
  {
   "cell_type": "code",
   "execution_count": 337,
   "metadata": {
    "ExecuteTime": {
     "end_time": "2019-07-21T20:58:24.956810Z",
     "start_time": "2019-07-21T20:58:24.947825Z"
    }
   },
   "outputs": [
    {
     "data": {
      "text/plain": [
       "array([[0.        , 1.21167042, 1.63888968, 1.62618809, 1.45165748,\n",
       "        2.13997619, 1.95507974],\n",
       "       [1.21167042, 0.        , 1.14594659, 1.78969063, 2.19756108,\n",
       "        1.91854057, 2.22922555],\n",
       "       [1.63888968, 1.14594659, 0.        , 1.14212383, 2.02638758,\n",
       "        0.85964382, 1.62368537],\n",
       "       [1.62618809, 1.78969063, 1.14212383, 0.        , 1.2941995 ,\n",
       "        0.96420767, 0.48162046],\n",
       "       [1.45165748, 2.19756108, 2.02638758, 1.2941995 , 0.        ,\n",
       "        2.16963463, 1.32146955],\n",
       "       [2.13997619, 1.91854057, 0.85964382, 0.96420767, 2.16963463,\n",
       "        0.        , 1.38021069],\n",
       "       [1.95507974, 2.22922555, 1.62368537, 0.48162046, 1.32146955,\n",
       "        1.38021069, 0.        ]])"
      ]
     },
     "execution_count": 337,
     "metadata": {},
     "output_type": "execute_result"
    }
   ],
   "source": [
    "delta1 = np.zeros((n, n))\n",
    "for i in range(n):\n",
    "    for j in range(n):\n",
    "        delta1[i][j] = poincare_dist(init_data[i], init_data[j])\n",
    "delta1"
   ]
  },
  {
   "cell_type": "code",
   "execution_count": 50,
   "metadata": {
    "ExecuteTime": {
     "end_time": "2019-07-21T19:44:05.569967Z",
     "start_time": "2019-07-21T19:44:05.560989Z"
    }
   },
   "outputs": [
    {
     "data": {
      "text/plain": [
       "array([-0.41456836-0.5243367j ,  0.42123099-0.47386274j,\n",
       "        0.11504086-0.24161051j, -0.3304627 +0.47914936j,\n",
       "        0.13995891-0.62728662j,  0.38856775-0.12835373j,\n",
       "        0.77618171-0.25234063j])"
      ]
     },
     "execution_count": 50,
     "metadata": {},
     "output_type": "execute_result"
    },
    {
     "data": {
      "text/plain": [
       "(7,)"
      ]
     },
     "execution_count": 50,
     "metadata": {},
     "output_type": "execute_result"
    }
   ],
   "source": [
    "init_complex = init_data[:,0] + 1j * init_data[:,1]\n",
    "init_complex\n",
    "init_complex.shape"
   ]
  },
  {
   "cell_type": "code",
   "execution_count": 53,
   "metadata": {
    "ExecuteTime": {
     "end_time": "2019-07-21T19:44:43.069431Z",
     "start_time": "2019-07-21T19:44:43.057465Z"
    }
   },
   "outputs": [
    {
     "data": {
      "text/plain": [
       "0.0001591457309295678"
      ]
     },
     "execution_count": 53,
     "metadata": {},
     "output_type": "execute_result"
    }
   ],
   "source": [
    "delta2 = np.zeros((n, n))\n",
    "for i in range(n):\n",
    "    for j in range(n):\n",
    "        delta2[i][j] = poincare_dist2(init_complex[i], init_complex[j])\n",
    "norm(delta1 - delta2)"
   ]
  },
  {
   "cell_type": "code",
   "execution_count": 250,
   "metadata": {
    "ExecuteTime": {
     "end_time": "2019-07-21T20:54:03.618642Z",
     "start_time": "2019-07-21T20:54:03.404098Z"
    }
   },
   "outputs": [
    {
     "data": {
      "image/png": "[encoded data removed]",
      "text/plain": [
       "<Figure size 432x432 with 1 Axes>"
      ]
     },
     "metadata": {
      "needs_background": "light"
     },
     "output_type": "display_data"
    }
   ],
   "source": [
    "def init_z(n, dim=2, low=-0.1, high=0.1):\n",
    "    random_config = np.random.uniform(low, high, size=(n, dim))\n",
    "    return random_config\n",
    "\n",
    "# plot initial random configuration\n",
    "fig = plt.figure(figsize=(6,6))\n",
    "ax = fig.add_subplot(111)\n",
    "circ = plt.Circle((0, 0), radius=1, edgecolor='black', facecolor='None', linewidth=3, alpha=0.5)\n",
    "ax.add_patch(circ)\n",
    "\n",
    "init_config = init_z(7)\n",
    "x = init_config[:,0]\n",
    "y = init_config[:,1]\n",
    "ax.scatter(x, y, s=20, alpha=1);"
   ]
  },
  {
   "cell_type": "code",
   "execution_count": 251,
   "metadata": {
    "ExecuteTime": {
     "end_time": "2019-07-21T20:54:05.174864Z",
     "start_time": "2019-07-21T20:54:05.163893Z"
    }
   },
   "outputs": [],
   "source": [
    "eps = 1e-5\n",
    "def partial_d(theta, x):\n",
    "    alpha = 1 - norm(theta)**2\n",
    "    beta = 1 - norm(x)**2\n",
    "    gamma = 1 + 2/(alpha*beta + eps) * norm(theta-x)**2\n",
    "    lhs = 4 / (beta*np.sqrt(gamma**2 - 1) + eps)\n",
    "    rhs = 1/(alpha**2 + eps) * (norm(x)**2 - 2*np.inner(theta,x) + 1) * theta - x/(alpha + eps)\n",
    "    return lhs*rhs\n",
    "\n",
    "def proj(theta):\n",
    "    if norm(theta) >= 1:\n",
    "        theta = theta/norm(theta) - eps\n",
    "    return theta"
   ]
  },
  {
   "cell_type": "code",
   "execution_count": 252,
   "metadata": {
    "ExecuteTime": {
     "end_time": "2019-07-21T20:54:06.122605Z",
     "start_time": "2019-07-21T20:54:06.092685Z"
    }
   },
   "outputs": [
    {
     "data": {
      "text/plain": [
       "131.3491242357102"
      ]
     },
     "execution_count": 252,
     "metadata": {},
     "output_type": "execute_result"
    },
    {
     "data": {
      "text/plain": [
       "array([[ 53.54361219, -24.63521908],\n",
       "       [ 36.29805267,   3.83686335],\n",
       "       [-32.21805313,   4.87071714],\n",
       "       [-16.46628328,  -2.39513468],\n",
       "       [-15.39525955,  10.61214514],\n",
       "       [  0.05454862,  -4.17135438],\n",
       "       [  0.        ,   0.        ]])"
      ]
     },
     "execution_count": 252,
     "metadata": {},
     "output_type": "execute_result"
    },
    {
     "data": {
      "text/plain": [
       "array([ 1, -2])"
      ]
     },
     "execution_count": 252,
     "metadata": {},
     "output_type": "execute_result"
    }
   ],
   "source": [
    "def loss_fn(embed_config, dissimilarities, n, alpha=1):\n",
    "    loss = 0\n",
    "    for i in range(n):\n",
    "        for j in range(i+1, n):\n",
    "            #print(poincare_dist(embed_config[i], embed_config[j]))\n",
    "            zi_error = (poincare_dist(embed_config[i], embed_config[j]) - alpha*dissimilarities[i][j])**2\n",
    "            loss += zi_error\n",
    "    return loss\n",
    "loss_fn(init_config, dissimilarity, n=len(init_config))\n",
    "\n",
    "def compute_gradients(Z, dissimilarities, n, alpha=1):\n",
    "    gradients = np.zeros((n, 2))\n",
    "    for i in range(n):\n",
    "        grad_zi = 0\n",
    "        for j in range(i+1, n):\n",
    "            dd_loss = 2*poincare_dist(Z[i], Z[j]) - 2*alpha*dissimilarities[i][j]\n",
    "            dd_dist = partial_d(Z[i], Z[j])\n",
    "            grad_zi += dd_loss * dd_dist\n",
    "        gradients[i] = grad_zi\n",
    "    return gradients\n",
    "compute_gradients(init_config, dissimilarity, len(init_config))\n",
    "\n",
    "def conjugate(z):\n",
    "    z_bar = np.array([z[0], -z[1]])\n",
    "    return z_bar\n",
    "conjugate([1, 2])"
   ]
  },
  {
   "cell_type": "markdown",
   "metadata": {},
   "source": [
    "We only need to compute the derivative of q(r) evaluated at 0, so here we just plug 0 into q'(r) <br>\n",
    "<br>\n",
    "$$\n",
    "\\begin{aligned} q^{\\prime}(0) &=\\frac{d}{d r} q(0)\\\\ &=\\left(\\operatorname{Re} \\mathbf{M}^{\\prime}(-r \\mathbf{g}, \\mathbf{z})\\right)^{T} \\operatorname{Re} \\nabla E(\\mathbf{M}(-r \\mathbf{g}, \\mathbf{z}), \\boldsymbol{\\Delta}, \\mathbf{W}, \\mathbf{I}) \\\\ &+\\left(\\operatorname{Im} \\mathbf{M}^{\\prime}(-r \\mathbf{g}, \\mathbf{z})\\right)^{T} \\operatorname{Im} \\nabla E(\\mathbf{M}(-r \\mathbf{g}, \\mathbf{z}), \\boldsymbol{\\Delta}, \\mathbf{W}, \\mathbf{I}) \\end{aligned}\n",
    "$$ <br>\n",
    "with step size = 0 we also have: <br>\n",
    "$$\n",
    "M_{j}(0)=z_j\n",
    "$$<br>\n",
    "$$\n",
    "M_{j}^{\\prime}(0)=g_{j} (\\left|z_{j}\\right|^{2}-1)\n",
    "$$"
   ]
  },
  {
   "cell_type": "code",
   "execution_count": 335,
   "metadata": {
    "ExecuteTime": {
     "end_time": "2019-07-21T20:57:44.670785Z",
     "start_time": "2019-07-21T20:57:44.644888Z"
    }
   },
   "outputs": [
    {
     "data": {
      "text/plain": [
       "0.36924609215112364"
      ]
     },
     "execution_count": 335,
     "metadata": {},
     "output_type": "execute_result"
    },
    {
     "data": {
      "text/plain": [
       "28.723591641435693"
      ]
     },
     "execution_count": 335,
     "metadata": {},
     "output_type": "execute_result"
    },
    {
     "data": {
      "text/plain": [
       "5.299430371406064"
      ]
     },
     "execution_count": 335,
     "metadata": {},
     "output_type": "execute_result"
    }
   ],
   "source": [
    "eps=1e-5\n",
    "def q(r, Z, g, dissimilarities, n):\n",
    "    M_r = np.zeros((n, 2))\n",
    "    for j in range(n):\n",
    "        M_r[j] = (-r*g[j] + Z[j]) / (-r*g[j] * conjugate(Z[j]) + 1)\n",
    "        #print(M_r[j])\n",
    "    return loss_fn(M_r, dissimilarities, n)\n",
    "init_grad = compute_gradients(init_config, delta1, len(init_config))\n",
    "#init_grad\n",
    "smax = 1\n",
    "rmax = 1/(norm(init_grad, axis=1).max()+eps) * np.tanh(smax/2)\n",
    "rmax\n",
    "q(rmax, init_config, init_grad, delta1, n)\n",
    "loss_fn(init_config, delta1, n=len(init_config))"
   ]
  },
  {
   "cell_type": "code",
   "execution_count": 336,
   "metadata": {
    "ExecuteTime": {
     "end_time": "2019-07-21T20:57:56.031469Z",
     "start_time": "2019-07-21T20:57:55.931733Z"
    }
   },
   "outputs": [
    {
     "name": "stdout",
     "output_type": "stream",
     "text": [
      "Loop 1:  0.001\n",
      "True\n",
      "False\n",
      "Loop 2:  0.002\n",
      "True\n",
      "True\n",
      "5.849599397805873\n",
      "5.950859059187044\n"
     ]
    },
    {
     "data": {
      "text/plain": [
       "0.001"
      ]
     },
     "execution_count": 336,
     "metadata": {},
     "output_type": "execute_result"
    }
   ],
   "source": [
    "def line_search(Z, dissimilarities, n, r0, rmax):\n",
    "    Z_norm = norm(Z, axis=1)**2\n",
    "    g = compute_gradients(Z, dissimilarity, n)\n",
    "    M_prime = g*Z_norm.reshape(-1,1)\n",
    "    qprime_0 = np.dot(M_prime[:,0].T, g[:,0]) + np.dot(M_prime[:,1].T, g[:,1])\n",
    "    p=0.5\n",
    "    roof_fn = lambda r: q(0, Z, g, dissimilarities, n) + p*qprime_0*r\n",
    "    r = r0\n",
    "    rmin = 1e-5\n",
    "    while rmin < r < rmax and q(r, Z, g, dissimilarities, n) < roof_fn(r):\n",
    "        print('Loop 1: ', r)\n",
    "        print(q(r, Z, g, dissimilarities, n) < roof_fn(r))\n",
    "        r = 2*r\n",
    "    print(q(r, Z, g, dissimilarities, n) < roof_fn(r))\n",
    "    while r > rmax or q(r, Z, g, dissimilarities, n) > roof_fn(r):\n",
    "        print('Loop 2: ', r)\n",
    "        r = r/2\n",
    "    print(rmin < r < rmax)\n",
    "    print(q(r, Z, g, dissimilarities, n) <= roof_fn(r))\n",
    "    print(q(r, Z, g, dissimilarities, n))\n",
    "    print(roof_fn(r))\n",
    "    return r\n",
    "line_search(init_config, delta1, len(init_config), 0.001, rmax)"
   ]
  },
  {
   "cell_type": "code",
   "execution_count": 333,
   "metadata": {
    "ExecuteTime": {
     "end_time": "2019-07-21T20:57:12.983080Z",
     "start_time": "2019-07-21T20:57:11.842916Z"
    }
   },
   "outputs": [
    {
     "name": "stdout",
     "output_type": "stream",
     "text": [
      "Loop 1:  0.001\n",
      "True\n",
      "False\n",
      "Loop 2:  0.002\n",
      "True\n",
      "True\n",
      "5.805526104661654\n",
      "5.876045789296397\n",
      "Loop 1:  0.001\n",
      "True\n",
      "False\n",
      "Loop 2:  0.002\n",
      "True\n",
      "True\n",
      "5.805277412514868\n",
      "5.876354479484813\n",
      "Loop 1:  0.001\n",
      "True\n",
      "False\n",
      "Loop 2:  0.002\n",
      "True\n",
      "True\n",
      "5.8050845181097115\n",
      "5.876722449274072\n",
      "Loop 1:  0.001\n",
      "True\n",
      "False\n",
      "Loop 2:  0.002\n",
      "True\n",
      "True\n",
      "5.804946810445599\n",
      "5.877149014630398\n",
      "Loop 1:  0.001\n",
      "True\n",
      "False\n",
      "Loop 2:  0.002\n",
      "True\n",
      "True\n",
      "5.804863678068912\n",
      "5.877633491097238\n",
      "Loop 1:  0.001\n",
      "True\n",
      "False\n",
      "Loop 2:  0.002\n",
      "True\n",
      "True\n",
      "5.804834509193329\n",
      "5.878175193935296\n",
      "Loop 1:  0.001\n",
      "True\n",
      "False\n",
      "Loop 2:  0.002\n",
      "True\n",
      "True\n",
      "5.804858691819215\n",
      "5.878773438260632\n",
      "Loop 1:  0.001\n",
      "True\n",
      "False\n",
      "Loop 2:  0.002\n",
      "True\n",
      "True\n",
      "5.804935613852018\n",
      "5.8794275391808055\n",
      "Loop 1:  0.001\n",
      "True\n",
      "False\n",
      "Loop 2:  0.002\n",
      "True\n",
      "True\n",
      "5.80506466321962\n",
      "5.880136811929033\n",
      "Loop 1:  0.001\n",
      "True\n",
      "False\n",
      "Loop 2:  0.002\n",
      "True\n",
      "True\n",
      "5.805245227988587\n",
      "5.880900571996461\n",
      "Loop 1:  0.001\n",
      "True\n",
      "False\n",
      "Loop 2:  0.002\n",
      "True\n",
      "True\n",
      "5.805476696479288\n",
      "5.8817181352624\n",
      "Loop 1:  0.001\n",
      "True\n",
      "False\n",
      "Loop 2:  0.002\n",
      "True\n",
      "True\n",
      "5.805758457379807\n",
      "5.882588818122634\n",
      "Loop 1:  0.001\n",
      "True\n",
      "False\n",
      "Loop 2:  0.002\n",
      "True\n",
      "True\n",
      "5.80608989985862\n",
      "5.8835119376157845\n",
      "Loop 1:  0.001\n",
      "True\n",
      "False\n",
      "Loop 2:  0.002\n",
      "True\n",
      "True\n",
      "5.806470413676002\n",
      "5.88448681154767\n",
      "Loop 1:  0.001\n",
      "True\n",
      "False\n",
      "Loop 2:  0.002\n",
      "True\n",
      "True\n",
      "5.806899389294103\n",
      "5.885512758613743\n",
      "Loop 1:  0.001\n",
      "True\n",
      "False\n",
      "Loop 2:  0.002\n",
      "True\n",
      "True\n",
      "5.807376217985683\n",
      "5.886589098519547\n",
      "Loop 1:  0.001\n",
      "True\n",
      "False\n",
      "Loop 2:  0.002\n",
      "True\n",
      "True\n",
      "5.807900291941403\n",
      "5.887715152099202\n",
      "Loop 1:  0.001\n",
      "True\n",
      "False\n",
      "Loop 2:  0.002\n",
      "True\n",
      "True\n",
      "5.808471004375755\n",
      "5.888890241431969\n",
      "Loop 1:  0.001\n",
      "True\n",
      "False\n",
      "Loop 2:  0.002\n",
      "True\n",
      "True\n",
      "5.809087749631469\n",
      "5.8901136899568325\n",
      "Loop 1:  0.001\n",
      "True\n",
      "False\n",
      "Loop 2:  0.002\n",
      "True\n",
      "True\n",
      "5.809749923282426\n",
      "5.891384822585125\n",
      "Loop 1:  0.001\n",
      "True\n",
      "False\n",
      "Loop 2:  0.002\n",
      "True\n",
      "True\n",
      "5.8104569222351055\n",
      "5.892702965811242\n",
      "Loop 1:  0.001\n",
      "True\n",
      "False\n",
      "Loop 2:  0.002\n",
      "True\n",
      "True\n",
      "5.811208144828392\n",
      "5.894067447821367\n",
      "Loop 1:  0.001\n",
      "True\n",
      "False\n",
      "Loop 2:  0.002\n",
      "True\n",
      "True\n",
      "5.8120029909318385\n",
      "5.895477598600283\n",
      "Loop 1:  0.001\n",
      "True\n",
      "False\n",
      "Loop 2:  0.002\n",
      "True\n",
      "True\n",
      "5.8128408620423695\n",
      "5.896932750036237\n",
      "Loop 1:  0.001\n",
      "True\n",
      "False\n",
      "Loop 2:  0.002\n",
      "True\n",
      "True\n",
      "5.813721161379265\n",
      "5.898432236023902\n",
      "Loop 1:  0.001\n",
      "True\n",
      "False\n",
      "Loop 2:  0.002\n",
      "True\n",
      "True\n",
      "5.814643293977588\n",
      "5.899975392565353\n",
      "Loop 1:  0.001\n",
      "True\n",
      "False\n",
      "Loop 2:  0.002\n",
      "True\n",
      "True\n",
      "5.815606666779881\n",
      "5.901561557869188\n",
      "Loop 1:  0.001\n",
      "True\n",
      "False\n",
      "Loop 2:  0.002\n",
      "True\n",
      "True\n",
      "5.816610688726187\n",
      "5.903190072447691\n",
      "Loop 1:  0.001\n",
      "True\n",
      "False\n",
      "Loop 2:  0.002\n",
      "True\n",
      "True\n",
      "5.817654770842413\n",
      "5.904860279212109\n",
      "Loop 1:  0.001\n",
      "True\n",
      "False\n",
      "Loop 2:  0.002\n",
      "True\n",
      "True\n",
      "5.818738326326933\n",
      "5.906571523565996\n",
      "Loop 1:  0.001\n",
      "True\n",
      "False\n",
      "Loop 2:  0.002\n",
      "True\n",
      "True\n",
      "5.819860770635471\n",
      "5.90832315349671\n",
      "Loop 1:  0.001\n",
      "True\n",
      "False\n",
      "Loop 2:  0.002\n",
      "True\n",
      "True\n",
      "5.82102152156427\n",
      "5.910114519664954\n",
      "Loop 1:  0.001\n",
      "True\n",
      "False\n",
      "Loop 2:  0.002\n",
      "True\n",
      "True\n",
      "5.822219999331487\n",
      "5.911944975492492\n",
      "Loop 1:  0.001\n",
      "True\n",
      "False\n",
      "Loop 2:  0.002\n",
      "True\n",
      "True\n",
      "5.823455626656847\n",
      "5.9138138772479465\n",
      "Loop 1:  0.001\n",
      "True\n",
      "False\n",
      "Loop 2:  0.002\n",
      "True\n",
      "True\n",
      "5.824727828839524\n",
      "5.9157205841307405\n",
      "Loop 1:  0.001\n",
      "True\n",
      "False\n",
      "Loop 2:  0.002\n",
      "True\n",
      "True\n",
      "5.826036033834275\n",
      "5.9176644583531886\n",
      "Loop 1:  0.001\n",
      "True\n",
      "False\n",
      "Loop 2:  0.002\n",
      "True\n",
      "True\n",
      "5.827379672325758\n",
      "5.919644865220696\n",
      "Loop 1:  0.001\n",
      "True\n",
      "False\n",
      "Loop 2:  0.002\n",
      "True\n",
      "True\n",
      "5.828758177801139\n",
      "5.92166117321013\n",
      "Loop 1:  0.001\n",
      "True\n",
      "False\n",
      "Loop 2:  0.002\n",
      "True\n",
      "True\n",
      "5.830170986620832\n",
      "5.923712754046361\n",
      "Loop 1:  0.001\n",
      "True\n",
      "False\n",
      "Loop 2:  0.002\n",
      "True\n",
      "True\n",
      "5.8316175380875865\n",
      "5.925798982776936\n",
      "Loop 1:  0.001\n",
      "True\n",
      "False\n",
      "Loop 2:  0.002\n",
      "True\n",
      "True\n",
      "5.833097274513664\n",
      "5.927919237844947\n",
      "Loop 1:  0.001\n",
      "True\n",
      "False\n",
      "Loop 2:  0.002\n",
      "True\n",
      "True\n",
      "5.834609641286338\n",
      "5.930072901160072\n",
      "Loop 1:  0.001\n",
      "True\n",
      "False\n",
      "Loop 2:  0.002\n",
      "True\n",
      "True\n",
      "5.8361540869315665\n",
      "5.932259358167797\n",
      "Loop 1:  0.001\n",
      "True\n",
      "False\n",
      "Loop 2:  0.002\n",
      "True\n",
      "True\n",
      "5.837730063175922\n",
      "5.934477997916851\n",
      "Loop 1:  0.001\n",
      "True\n",
      "False\n",
      "Loop 2:  0.002\n",
      "True\n",
      "True\n",
      "5.839337025006753\n",
      "5.9367282131248365\n",
      "Loop 1:  0.001\n",
      "True\n",
      "False\n",
      "Loop 2:  0.002\n",
      "True\n",
      "True\n",
      "5.840974430730576\n",
      "5.939009400242047\n",
      "Loop 1:  0.001\n",
      "True\n",
      "False\n",
      "Loop 2:  0.002\n",
      "True\n",
      "True\n",
      "5.842641742029723\n",
      "5.941320959513541\n",
      "Loop 1:  0.001\n",
      "True\n",
      "False\n",
      "Loop 2:  0.002\n",
      "True\n",
      "True\n",
      "5.844338424017258\n",
      "5.943662295039435\n",
      "Loop 1:  0.001\n",
      "True\n",
      "False\n",
      "Loop 2:  0.002\n",
      "True\n",
      "True\n",
      "5.846063945290112\n",
      "5.946032814833404\n",
      "Loop 1:  0.001\n",
      "True\n",
      "False\n",
      "Loop 2:  0.002\n",
      "True\n",
      "True\n",
      "5.847817777980555\n",
      "5.948431930879478\n"
     ]
    }
   ],
   "source": [
    "def descent_method(init, dissimilarities, n_components=2, max_iter = 100, verbose=0, alpha=1,\n",
    "                   weights=None, indicators=None):\n",
    "    #error_tol =\n",
    "    #min_grad = \n",
    "    #min_step = \n",
    "    Z = init\n",
    "    n = len(Z)\n",
    "    smax = 0.8\n",
    "    for i in range(50):\n",
    "        current_loss = loss_fn(Z, dissimilarities, n)\n",
    "        g = compute_gradients(Z, dissimilarities, n)\n",
    "        rmax = 1/(norm(g, axis=1).max()+eps) * np.tanh(smax/2)\n",
    "        r = line_search(Z, dissimilarities, n, 0.001, rmax)\n",
    "        for i in range(n):\n",
    "            zi_prime = (-r*g[i] + Z[i]) / (-r*g[i] * conjugate(Z[i]) + 1)\n",
    "            Z[i] = zi_prime\n",
    "    return Z\n",
    "output = descent_method(init_config, delta1)"
   ]
  },
  {
   "cell_type": "code",
   "execution_count": 334,
   "metadata": {
    "ExecuteTime": {
     "end_time": "2019-07-21T20:57:21.455875Z",
     "start_time": "2019-07-21T20:57:21.083869Z"
    }
   },
   "outputs": [
    {
     "data": {
      "image/png": "[encoded data removed]",
      "text/plain": [
       "<Figure size 864x432 with 2 Axes>"
      ]
     },
     "metadata": {
      "needs_background": "light"
     },
     "output_type": "display_data"
    }
   ],
   "source": [
    "fig = plt.figure(figsize=(12,6))\n",
    "ax = fig.add_subplot(121)\n",
    "circ = plt.Circle((0, 0), radius=1, edgecolor='black', facecolor='None', linewidth=3, alpha=0.5)\n",
    "ax.add_patch(circ)\n",
    "\n",
    "x = output[:,0]\n",
    "y = output[:,1]\n",
    "ax.scatter(x, y, s=20, alpha=1)\n",
    "\n",
    "ax2 = fig.add_subplot(122)\n",
    "circ = plt.Circle((0, 0), radius=1, edgecolor='black', facecolor='None', linewidth=3, alpha=0.5)\n",
    "ax2.add_patch(circ)\n",
    "\n",
    "x = init_data[:,0]\n",
    "y = init_data[:,1]\n",
    "ax2.scatter(x, y, s=20, alpha=1);"
   ]
  },
  {
   "cell_type": "code",
   "execution_count": null,
   "metadata": {},
   "outputs": [],
   "source": [
    "class HyperMDS():\n",
    "    \n",
    "    def __init__(self, n_components=2, max_iter=100, verbose=0, eps=1e-3, n_jobs=None,\n",
    "                 random_state=None, dissimilarity=\"euclidean\"):\n",
    "        self.n_components = n_components\n",
    "        self.dissimilarity = dissimilarity\n",
    "        self.max_iter = max_iter\n",
    "        self.eps = eps\n",
    "        self.verbose = verbose\n",
    "        self.n_jobs = n_jobs\n",
    "        self.random_state = random_state\n",
    "    \n",
    "    def fit(self, X, init=None):\n",
    "        \"\"\"\n",
    "        Uses gradient descent to find the embedding configuration in the Poincaré disk\n",
    "        Parameters\n",
    "        ----------\n",
    "        X : array, shape (n_samples, n_features) or (n_samples, n_samples)\n",
    "            Input data. If ``dissimilarity=='precomputed'``, the input should\n",
    "            be the dissimilarity matrix.\n",
    "        init: initial configuration of the embedding coordinates\n",
    "        \"\"\"\n",
    "        self.fit_transform(X, init=init)\n",
    "        return self\n",
    "    \n",
    "    def fit_transform(self, X, init=None):\n",
    "        \"\"\"\n",
    "        Fit the embedding from X, and return the embedding coordinates\n",
    "        Parameters\n",
    "        ----------\n",
    "        X : array, shape (n_samples, n_features) or (n_samples, n_samples)\n",
    "            Input data. If ``dissimilarity=='precomputed'``, the input should\n",
    "            be the dissimilarity matrix.\n",
    "        init: initial configuration of the embedding coordinates\n",
    "        \"\"\""
   ]
  },
  {
   "cell_type": "code",
   "execution_count": 1,
   "metadata": {
    "ExecuteTime": {
     "end_time": "2019-07-20T02:41:29.831616Z",
     "start_time": "2019-07-20T02:41:29.766874Z"
    }
   },
   "outputs": [
    {
     "data": {
      "text/html": [
       "<style>\n",
       "    @font-face {\n",
       "        font-family: \"Computer Modern\";\n",
       "        src: url('http://9dbb143991406a7c655e-aa5fcb0a5a4ec34cff238a2d56ca4144.r56.cf5.rackcdn.com/cmunss.otf');\n",
       "    }\n",
       "    @font-face {\n",
       "        font-family: \"Computer Modern\";\n",
       "        font-weight: bold;\n",
       "        src: url('http://9dbb143991406a7c655e-aa5fcb0a5a4ec34cff238a2d56ca4144.r56.cf5.rackcdn.com/cmunsx.otf');\n",
       "    }\n",
       "    @font-face {\n",
       "        font-family: \"Computer Modern\";\n",
       "        font-style: oblique;\n",
       "        src: url('http://9dbb143991406a7c655e-aa5fcb0a5a4ec34cff238a2d56ca4144.r56.cf5.rackcdn.com/cmunsi.otf');\n",
       "    }\n",
       "    @font-face {\n",
       "        font-family: \"Computer Modern\";\n",
       "        font-weight: bold;\n",
       "        font-style: oblique;\n",
       "        src: url('http://9dbb143991406a7c655e-aa5fcb0a5a4ec34cff238a2d56ca4144.r56.cf5.rackcdn.com/cmunso.otf');\n",
       "    }\n",
       "    div.cell{\n",
       "        width:800px;\n",
       "        margin-left:16% !important;\n",
       "        margin-right:auto;\n",
       "    }\n",
       "    h1 {\n",
       "        font-family: Helvetica, serif;\n",
       "    }\n",
       "    h4{\n",
       "        margin-top:12px;\n",
       "        margin-bottom: 3px;\n",
       "       }\n",
       "    div.text_cell_render{\n",
       "        font-family: Computer Modern, \"Helvetica Neue\", Arial, Helvetica, Geneva, sans-serif;\n",
       "        line-height: 145%;\n",
       "        font-size: 130%;\n",
       "        width:800px;\n",
       "        margin-left:auto;\n",
       "        margin-right:auto;\n",
       "    }\n",
       "    .CodeMirror{\n",
       "            font-family: \"Source Code Pro\", source-code-pro,Consolas, monospace;\n",
       "    }\n",
       "    .prompt{\n",
       "        display: None;\n",
       "    }\n",
       "    .text_cell_render h5 {\n",
       "        font-weight: 300;\n",
       "        font-size: 22pt;\n",
       "        color: #4057A1;\n",
       "        font-style: italic;\n",
       "        margin-bottom: .5em;\n",
       "        margin-top: 0.5em;\n",
       "        display: block;\n",
       "    }\n",
       "    \n",
       "    .warning{\n",
       "        color: rgb( 240, 20, 20 )\n",
       "        }  \n",
       "</style>"
      ],
      "text/plain": [
       "<IPython.core.display.HTML object>"
      ]
     },
     "execution_count": 1,
     "metadata": {},
     "output_type": "execute_result"
    }
   ],
   "source": [
    "from IPython.core.display import HTML\n",
    "\n",
    "def css_styling():\n",
    "    styles = open(\"custom_style.css\", \"r\").read()\n",
    "    return HTML(styles)\n",
    "css_styling()"
   ]
  }
 ],
 "metadata": {
  "kernelspec": {
   "display_name": "Python 3",
   "language": "python",
   "name": "python3"
  },
  "language_info": {
   "codemirror_mode": {
    "name": "ipython",
    "version": 3
   },
   "file_extension": ".py",
   "mimetype": "text/x-python",
   "name": "python",
   "nbconvert_exporter": "python",
   "pygments_lexer": "ipython3",
   "version": "3.7.1"
  },
  "nbTranslate": {
   "displayLangs": [
    "*"
   ],
   "hotkey": "alt-t",
   "langInMainMenu": true,
   "sourceLang": "en",
   "targetLang": "fr",
   "useGoogleTranslate": true
  },
  "varInspector": {
   "cols": {
    "lenName": 16,
    "lenType": 16,
    "lenVar": 40
   },
   "kernels_config": {
    "python": {
     "delete_cmd_postfix": "",
     "delete_cmd_prefix": "del ",
     "library": "var_list.py",
     "varRefreshCmd": "print(var_dic_list())"
    },
    "r": {
     "delete_cmd_postfix": ") ",
     "delete_cmd_prefix": "rm(",
     "library": "var_list.r",
     "varRefreshCmd": "cat(var_dic_list()) "
    }
   },
   "types_to_exclude": [
    "module",
    "function",
    "builtin_function_or_method",
    "instance",
    "_Feature"
   ],
   "window_display": false
  }
 },
 "nbformat": 4,
 "nbformat_minor": 2
}
