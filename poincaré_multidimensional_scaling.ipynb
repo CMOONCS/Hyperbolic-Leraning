{
 "cells": [
  {
   "cell_type": "markdown",
   "metadata": {},
   "source": [
    "# Multidimensional Scaling in Hyperbolic Space"
   ]
  },
  {
   "cell_type": "markdown",
   "metadata": {},
   "source": [
    "In this notebook, I begin my attempt to implement a Multidimensional Scaling (MDS) algorithm that embeds data into hyperbolic space instead of the target Euclidean space for standard MDS. Just like traditional MDS, this variant h-MDS (hyperbolic MDS) will seek to produce accurate spatial representations of possibly high dimensional datasets, by  attempting to reflect the original pairwise similarities by the corresponding pairwise distances of the output configuration in the embedding space. <br>\n",
    "<br>\n",
    "Relevant papers that discuss hyperbolic MDS and outline some general implementation details: <br>\n",
    "<br>\n",
    "[1]. A. Cvetkovski and M. Crovella. Multidimensional scaling in the Poincaré disk. arXiv:1105.5332, 2011.<br>\n",
    "[2]. H-MDS: a new approach for interactive visualization with multidimensional scaling in the hyperbolic space. Jörg Walter. Information Systems, Elsevier, 29(4):273-292, 2004.<br>\n",
    "[3]. Jörg A. Walter and Helge Ritter. 2002. On interactive visualization of high-dimensional data using the hyperbolic plane. In Proceedings of the eighth ACM SIGKDD international conference on Knowledge discovery and data mining (KDD '02). ACM, New York, NY, USA, 123-132. DOI=http://dx.doi.org/10.1145/775047.775065"
   ]
  },
  {
   "cell_type": "code",
   "execution_count": 6,
   "metadata": {
    "ExecuteTime": {
     "end_time": "2019-07-20T15:59:21.292968Z",
     "start_time": "2019-07-20T15:59:21.266040Z"
    }
   },
   "outputs": [],
   "source": [
    "import numpy as np\n",
    "import pandas as pd\n",
    "import matplotlib.pyplot as plt\n",
    "%matplotlib inline\n",
    "from mpl_toolkits.mplot3d import Axes3D\n",
    "from sklearn.utils import check_random_state\n",
    "#plt.style.use('classic')\n",
    "#plt.rcParams['figure.figsize'] = (6.5, 6.5)\n",
    "#plt.rcParams['figure.facecolor'] = 'white'\n",
    "#from jupyterthemes import jtplot\n",
    "#jtplot.style()\n",
    "\n",
    "# ignore warnings\n",
    "import warnings\n",
    "warnings.filterwarnings('ignore');\n",
    "\n",
    "# display multiple outputs within a cell\n",
    "from IPython.core.interactiveshell import InteractiveShell\n",
    "InteractiveShell.ast_node_interactivity = \"all\";"
   ]
  },
  {
   "cell_type": "markdown",
   "metadata": {},
   "source": [
    "# Intro and key concepts"
   ]
  },
  {
   "cell_type": "markdown",
   "metadata": {},
   "source": [
    "We use the Poincaré disk as our model of hyperbolic space, and the only fundamental change with respect to MDS in Euclidean space is that we need to use the Poincaré distance metric instead of the Euclidean distance."
   ]
  },
  {
   "cell_type": "markdown",
   "metadata": {},
   "source": [
    "We can define the Poincare disk based on the complex plane: $\\mathbb{D}=\\{z \\in \\mathbb{C}| | z |<1\\}$. We have the symmetric distance function for $\\boldsymbol{u}, \\boldsymbol{v} \\in \\mathcal{D}$:\n",
    "\n",
    "$$\n",
    "d(\\boldsymbol{u}, \\boldsymbol{v})=\\operatorname{arcosh}\\left(1+2 \\frac{\\|\\boldsymbol{u}-\\boldsymbol{v}\\|^{2}}{\\left(1-\\|\\boldsymbol{u}\\|^{2}\\right)\\left(1-\\|\\boldsymbol{v}\\|^{2}\\right)}\\right)\n",
    "$$ <br>\n",
    "<br>\n",
    "or considering the complex plane: <br>\n",
    "$$\n",
    "d_{\\mathbb{D}}\\left(z_{j}, z_{k}\\right)=2 \\operatorname{atanh} \\frac{\\left|z_{j}-z_{k}\\right|}{\\left|1-z_{j} \\overline{z}_{k}\\right|}\n",
    "$$"
   ]
  },
  {
   "cell_type": "markdown",
   "metadata": {},
   "source": [
    "The idea of Mobius transformations will also be important, and these are transformations that preserve hyperbolic distances. The Mobius transformations $T$ have the following form: <br> \n",
    "<br>\n",
    "$$\n",
    "T(z)=\\frac{a z+b}{\\overline{b} z+\\overline{a}}, a, b \\in \\mathbb{C},|a|^{2}-|b|^{2} \\neq 0\n",
    "$$"
   ]
  },
  {
   "cell_type": "markdown",
   "metadata": {},
   "source": [
    "Our h-MDS algorithm will have a relatively simple design based on iterative steepest descent and an approximate line search function. Therefore, we need to be able to describe hyperbolic lines based on a given direction $\\gamma$ and a starting point $z_0$. For $z_{0} \\in \\mathbb{D}, \\gamma \\in \\mathbb{C}$ with $|\\gamma|=1,$ and $s \\geq 0$, this hyperbolic line is given by:<br>\n",
    "<br>\n",
    "$$\n",
    "z_{0}^{\\prime}=\\frac{\\gamma \\tanh \\frac{s}{2}+z_{0}}{\\overline{z_{0}} \\gamma \\tanh \\frac{s}{2}+1}\n",
    "$$ <br>\n",
    "where $s$ gives the length along the line and $d_{\\mathrm{D}}\\left(z_{0}, z_{0}^{\\prime}\\right)=s$"
   ]
  },
  {
   "cell_type": "markdown",
   "metadata": {},
   "source": [
    "# Gradient descent and hyperbolic line search"
   ]
  },
  {
   "cell_type": "markdown",
   "metadata": {},
   "source": [
    "## Descent method"
   ]
  },
  {
   "cell_type": "markdown",
   "metadata": {},
   "source": [
    "The steepest descent will be based on the gradient of an objective function $E_t(\\mathbf{z}, \\Delta, \\mathbf{W}, \\mathbf{I})$ that is defined by these inputs and which gives the embedding error or loss at some given iteration $t$<br>\n",
    "<br>\n",
    "One common embedding error is given by the following function defined as the sum of relative squared differences between the initial dissimilarities and the distances in the embedding space:. <br>\n",
    "<br>\n",
    "$$\n",
    "E_{t}(\\mathbf{z}, \\Delta, \\mathbf{W}, \\mathbf{I})=\\sum_{j=1}^{n} \\sum_{k=j+1}^{n} w_{j k} I_{j k}\\left(\\frac{d_{j k}(t)-\\delta_{j k}}{\\delta_{j k}}\\right)^{2}\n",
    "$$"
   ]
  },
  {
   "cell_type": "markdown",
   "metadata": {},
   "source": [
    "The descent direction is defined by the gradient of this error function: <br>\n",
    "<br>\n",
    "$$\n",
    "\\mathbf{g}=\\nabla E \\stackrel{\\mathrm{def}}{=}\\left[\\begin{array}{c}{\\frac{\\partial E}{\\partial y_{1,1}}+i \\frac{\\partial E}{\\partial y_{1,2}}} \\\\ {\\frac{\\partial E}{\\partial y_{2,1}}+i \\frac{\\partial E}{\\partial y_{2,2}}} \\\\ {\\vdots} \\\\ {\\frac{\\partial E}{\\partial y_{n, 1}}+i \\frac{\\partial E}{\\partial y_{n, 2}}}\\end{array}\\right]=\\left[\\begin{array}{c}{g_{1}} \\\\ {g_{2}} \\\\ {\\vdots} \\\\ {g_{n}}\\end{array}\\right]\n",
    "$$<br>\n",
    "We have descent directions $-g_1, \\ldots , -g_n$ and the new configuration after the update will have points <br>\n",
    "<br>\n",
    "$$\n",
    "z_{j}^{\\prime}=\\frac{-r g_{j}+z_{j}}{-r g_{j} \\overline{z_{j}}+1}\n",
    "$$ <br>\n",
    "and $r \\geq 0$ is the step-size parameter"
   ]
  },
  {
   "cell_type": "markdown",
   "metadata": {},
   "source": [
    "![title](images/pd_mds5.png) <br>\n",
    "source: A. Cvetkovski and M. Crovella. Multidimensional scaling in the Poincaré disk"
   ]
  },
  {
   "cell_type": "markdown",
   "metadata": {},
   "source": [
    "## Approximate Hyperbolic Line Search"
   ]
  },
  {
   "cell_type": "markdown",
   "metadata": {},
   "source": [
    "We have some more notation and parameters related to line search. $s_M$ sets the window for distance between successive configurations or updates. We need this to be finite to limit points from approaching the boundary at infinite distances. If $s_j$ are distances for updates: $s_{M}=\\max _{j} s_{j}<\\infty$<br>\n",
    "<br>\n",
    "The parameter $r_M$ sets the window for the step size $r$ and we restrict our line search for each update within this window. We have the constraint: $r<\\frac{1}{\\|\\mathbf{g}\\|_{\\infty}}$ and the following equation that relates these parameters: <br>\n",
    "\n",
    "$$\n",
    "r_{M}=\\frac{1}{\\|\\mathbf{g}\\|_{\\infty}} \\cdot \\tanh \\frac{s_{M}}{2}<\\frac{1}{\\|\\mathbf{g}\\|_{\\infty}}\n",
    "$$"
   ]
  },
  {
   "cell_type": "markdown",
   "metadata": {},
   "source": [
    "During our line search, it would be ideal to find the step size $r$ along the hyperbolic line (but within the window $r_M$) that minimizes the error function. This turns out to be too computationally expensive, and so we just set a sufficient stopping condition and accept any step size that meets the condition. "
   ]
  },
  {
   "cell_type": "markdown",
   "metadata": {},
   "source": [
    "To express the stopping condition, we define the error in terms of the step size and let this function be $q(r)$ <br>\n",
    "<br>\n",
    "We also define this 'roof' function: $\\lambda(r)=q(0)+p \\cdot q^{\\prime}(0) \\cdot r, \\quad 0<p<1$ <br>\n",
    "<br>\n",
    "and set the condition for acceptable values of step size: $q(r)<\\lambda(r), r \\in\\left(0, r_{M}\\right]$ "
   ]
  },
  {
   "cell_type": "markdown",
   "metadata": {},
   "source": [
    "![title](images/line_search.png) <br>\n",
    "source: A. Cvetkovski and M. Crovella. Multidimensional scaling in the Poincaré disk"
   ]
  },
  {
   "cell_type": "markdown",
   "metadata": {},
   "source": [
    "We need to find explicit formulas for $q(r)$ and its derivative $q'(r)$ in order to calculate these values and apply the stopping conditions in the approximate line search. <br>\n",
    "<br>\n",
    "We can write the updates for each $z_j$ based on the Mobius transformations: $M_{j}(r)=\\frac{-r g_{j}+z_{j}}{-r g_{j} \\overline{z}_{j}+1}$"
   ]
  },
  {
   "cell_type": "markdown",
   "metadata": {},
   "source": [
    "The expression for the error in terms of step size can now be written as $q(r)=E(\\mathbf{M}(-r \\mathbf{g}, \\mathbf{z}), \\mathbf{\\Delta}, \\mathbf{W}, \\mathbf{I})$ <br>\n",
    "<br>\n",
    "$q'(r)$ has the following form: <br>\n",
    "<br>\n",
    "$$\n",
    "\\begin{aligned} q^{\\prime}(r) &=\\frac{d}{d r} q(r)=\\\\ &=\\left(\\operatorname{Re} \\mathbf{M}^{\\prime}(-r \\mathbf{g}, \\mathbf{z})\\right)^{T} \\operatorname{Re} \\nabla E(\\mathbf{M}(-r \\mathbf{g}, \\mathbf{z}), \\boldsymbol{\\Delta}, \\mathbf{W}, \\mathbf{I}) \\\\ &+\\left(\\operatorname{Im} \\mathbf{M}^{\\prime}(-r \\mathbf{g}, \\mathbf{z})\\right)^{T} \\operatorname{Im} \\nabla E(\\mathbf{M}(-r \\mathbf{g}, \\mathbf{z}), \\boldsymbol{\\Delta}, \\mathbf{W}, \\mathbf{I}) \\end{aligned}\n",
    "$$"
   ]
  },
  {
   "cell_type": "markdown",
   "metadata": {},
   "source": [
    "and this can be explicitly calculated using the following equation: <br>\n",
    "<br>\n",
    "$$\n",
    "M_{j}^{\\prime}(r)=\\frac{d}{d r} M_{j}(r)=g_{j} \\frac{\\left|z_{j}\\right|^{2}-1}{\\left(1-r g_{j} \\overline{z_{j}}\\right)^{2}}\n",
    "$$"
   ]
  },
  {
   "cell_type": "markdown",
   "metadata": {},
   "source": [
    "![title](images/hyp_line.png) <br>\n",
    "source: A. Cvetkovski and M. Crovella. Multidimensional scaling in the Poincaré disk"
   ]
  },
  {
   "cell_type": "markdown",
   "metadata": {},
   "source": [
    "# Deriving gradients to implement h-MDS"
   ]
  },
  {
   "cell_type": "markdown",
   "metadata": {},
   "source": [
    "For the initial implementation of h-MDS let the error function be given by the Absolute Differences Squared (ADS) <br>\n",
    "<br>\n",
    "$$\n",
    "E=\\sum_{j=1}^{n} \\sum_{k=j+1}^{n} w_{j k}\\left(I_{j k}\\left(d_{j k}-a \\delta_{j k}\\right)\\right)^{2}\n",
    "$$ <br>\n",
    "$W$ is a weight matrix and $I$ is an indicator matrix for sparse/missing values in dissimilarity matrix <br>\n",
    "$d_{j k}$ is the distance in the poincaré disk and $\\delta_{j k}$ is the original dissimilarity <br>\n",
    "<br>\n",
    "Hyperbolic distance is not scale invariant like Euclidean distance, so we have an additional degree of freedom $\\alpha$ - a scaling factor for the original entries of dissimilarity matrix"
   ]
  },
  {
   "cell_type": "markdown",
   "metadata": {},
   "source": [
    "We need to find the gradient of the error function $E$ <br>\n",
    "<br>\n",
    "$$\n",
    "\\nabla E \\stackrel{\\mathrm{def}}{=}\\left[\\begin{array}{c}{\\frac{\\partial E}{\\partial y_{1,1}}+i \\frac{\\partial E}{\\partial y_{1,2}}} \\\\ {\\frac{\\partial E}{\\partial y_{2,1}}+i \\frac{\\partial E}{\\partial y_{2,2}}} \\\\ {\\vdots} \\\\ {\\frac{\\partial E}{\\partial y_{n, 1}}+i \\frac{\\partial E}{\\partial y_{n, 2}}}\\end{array}\\right]\n",
    "$$ <br>\n",
    "<br>\n",
    "Using the chain rule: <br>\n",
    "$$\n",
    "\\nabla E=\\frac{\\partial E (z_i)}{\\partial d(z_i, z_j)} \\frac{\\partial d(z_i, z_j)}{\\partial z_i}\n",
    "$$"
   ]
  },
  {
   "cell_type": "markdown",
   "metadata": {},
   "source": [
    "The first partial derivative term for the loss function is given by:<br>\n",
    "<br>\n",
    "$$\\frac{\\partial E (z_i)}{\\partial d(z_i, z_j)} = w_{i j} (2 d(z_i, z_j) - 2 \\alpha \\delta_{i j})$$"
   ]
  },
  {
   "cell_type": "markdown",
   "metadata": {},
   "source": [
    "For the partial derivatives of the poincaré distance, consider two ways to define the distance function<br>\n",
    "<br>\n",
    "For the arccosh definition, define the following:<br>\n",
    "$$\n",
    "\\alpha=1-\\|z_i\\|^{2}\n",
    "$$\n",
    "$$\n",
    "\\beta=1-\\|z_j\\|^{2}\n",
    "$$\n",
    "$$\n",
    "\\gamma=1+\\frac{2}{\\alpha \\beta}\\|z_i-z_j\\|^{2}\n",
    "$$\n",
    "\n",
    "and we can write the partial derivative<br>\n",
    "<br>\n",
    "$$\n",
    "\\frac{\\partial d(z_i, z_j)}{\\partial z_i}=\\frac{4}{\\beta \\sqrt{\\gamma^{2}-1}}\\left(\\frac{\\|z_j\\|^{2}-2\\langle z_i, z_j\\rangle+ 1}{\\alpha^{2}} z_i-\\frac{z_j}{\\alpha}\\right)\n",
    "$$"
   ]
  },
  {
   "cell_type": "markdown",
   "metadata": {},
   "source": [
    "For the arctanh definition, we have: <br>\n",
    "<br>\n",
    "$$\n",
    "\\begin{aligned} \\frac{\\partial}{\\partial x_{i, 1}} d\\left(\\mathbf{x}_{i}, \\mathbf{x}_{j}\\right) &=\\frac{2 t}{1-t^{2}}\\left(\\frac{v_{1}}{v_{1}^{2}+v_{2}^{2}}-\\frac{x_{j, 1} v_{3}+x_{j, 2} v_{4}}{v_{3}^{2}+v_{4}^{2}}\\right) \\\\ \\frac{\\partial}{\\partial x_{i, 2}} d\\left(\\mathbf{x}_{i}, \\mathbf{x}_{j}\\right) &=\\frac{2 t}{1-t^{2}}\\left(\\frac{v_{2}}{v_{1}^{2}+v_{2}^{2}}+\\frac{x_{i, 1} v_{4}-x_{j, 2} v_{3}}{v_{3}^{2}+v_{4}^{2}}\\right) \\end{aligned}\n",
    "$$"
   ]
  },
  {
   "cell_type": "markdown",
   "metadata": {},
   "source": [
    "with the following definitions of these terms: <br>\n",
    "\n",
    "$$\n",
    "\\begin{aligned} \\mathbf{x}_{i} &=\\left(x_{i, 1}+\\mathrm{i} x_{i, 2}\\right) \\in P D \\subset \\mathbb{C} \\\\ \\mathbf{x}_{j} &=\\left(x_{j, 1}+\\mathrm{i} x_{j, 2}\\right) \\in P D \\subset \\mathbb{C} \\\\ v_{1} &=x_{i, 1}-x_{j, 1} \\\\ v_{3} &=x_{i, 1} x_{j, 1}+x_{i, 2} x_{j, 2}-1 \\\\ v_{2} &=x_{i, 2}-x_{j, 2} \\\\ v_{4} &=x_{i, 1} x_{j, 2}-x_{j, 1} x_{i, 2} \\\\ t^{2} &=\\frac{v_{1}^{2}+v_{2}^{2}}{v_{3}^{2}+v_{4}^{2}} \\end{aligned}\n",
    "$$"
   ]
  },
  {
   "cell_type": "markdown",
   "metadata": {},
   "source": [
    "and finally we have an explicit form of the gradient $\\nabla E$"
   ]
  },
  {
   "cell_type": "markdown",
   "metadata": {},
   "source": [
    "# Python/Numpy Implementation"
   ]
  },
  {
   "cell_type": "code",
   "execution_count": 229,
   "metadata": {
    "ExecuteTime": {
     "end_time": "2019-07-20T22:11:31.153553Z",
     "start_time": "2019-07-20T22:11:31.147603Z"
    }
   },
   "outputs": [],
   "source": [
    "def norm(x, axis=None):\n",
    "    return np.linalg.norm(x, axis=axis)\n",
    "\n",
    "def poincare_dist(u, v, eps=1e-3):\n",
    "    d = 1 + 2 * norm(u-v)**2 / ((1 - norm(u)**2) * (1 - norm(v)**2) + eps)\n",
    "    return np.arccosh(d)"
   ]
  },
  {
   "cell_type": "code",
   "execution_count": 233,
   "metadata": {
    "ExecuteTime": {
     "end_time": "2019-07-20T22:11:36.941615Z",
     "start_time": "2019-07-20T22:11:36.780047Z"
    }
   },
   "outputs": [
    {
     "data": {
      "image/png": "[encoded data removed]",
      "text/plain": [
       "<Figure size 432x432 with 1 Axes>"
      ]
     },
     "metadata": {
      "needs_background": "light"
     },
     "output_type": "display_data"
    }
   ],
   "source": [
    "# generate a small set of random points in poincaré disk\n",
    "fig = plt.figure(figsize=(6,6))\n",
    "ax = fig.add_subplot(111)\n",
    "circ = plt.Circle((0, 0), radius=1, edgecolor='black', facecolor='None', linewidth=3, alpha=0.5)\n",
    "ax.add_patch(circ)\n",
    "\n",
    "# sample within unit sphere in R^2\n",
    "n = 7\n",
    "theta = np.random.uniform(0, 2*np.pi, n)\n",
    "u = np.random.uniform(0, 0.7, n)\n",
    "r = np.sqrt(u)\n",
    "x = r * np.cos(theta)\n",
    "y = r * np.sin(theta)\n",
    "init_data = np.hstack((x.reshape(-1,1), y.reshape(-1,1)))\n",
    "ax.scatter(x, y, s=20, alpha=1);"
   ]
  },
  {
   "cell_type": "code",
   "execution_count": 234,
   "metadata": {
    "ExecuteTime": {
     "end_time": "2019-07-20T22:13:40.671810Z",
     "start_time": "2019-07-20T22:13:40.659878Z"
    }
   },
   "outputs": [
    {
     "data": {
      "text/plain": [
       "array([[0.        , 1.49844596, 3.06723216, 2.14734227, 2.38523281,\n",
       "        2.79876071, 2.5351527 ],\n",
       "       [1.49844596, 0.        , 2.59712454, 0.68993344, 1.54510347,\n",
       "        2.42456298, 2.50722729],\n",
       "       [3.06723216, 2.59712454, 0.        , 2.75364202, 1.47858533,\n",
       "        0.5033803 , 1.76047754],\n",
       "       [2.14734227, 0.68993344, 2.75364202, 0.        , 1.51430649,\n",
       "        2.63044551, 2.84532709],\n",
       "       [2.38523281, 1.54510347, 1.47858533, 1.51430649, 0.        ,\n",
       "        1.49134996, 2.07657232],\n",
       "       [2.79876071, 2.42456298, 0.5033803 , 2.63044551, 1.49134996,\n",
       "        0.        , 1.2866769 ],\n",
       "       [2.5351527 , 2.50722729, 1.76047754, 2.84532709, 2.07657232,\n",
       "        1.2866769 , 0.        ]])"
      ]
     },
     "execution_count": 234,
     "metadata": {},
     "output_type": "execute_result"
    }
   ],
   "source": [
    "dissimilarity = np.zeros((n, n))\n",
    "for i in range(n):\n",
    "    for j in range(n):\n",
    "        dissimilarity[i][j] = poincare_dist(init_data[i], init_data[j])\n",
    "dissimilarity"
   ]
  },
  {
   "cell_type": "code",
   "execution_count": 236,
   "metadata": {
    "ExecuteTime": {
     "end_time": "2019-07-20T22:14:30.167041Z",
     "start_time": "2019-07-20T22:14:30.003520Z"
    }
   },
   "outputs": [
    {
     "data": {
      "image/png": "[encoded data removed]",
      "text/plain": [
       "<Figure size 432x432 with 1 Axes>"
      ]
     },
     "metadata": {
      "needs_background": "light"
     },
     "output_type": "display_data"
    }
   ],
   "source": [
    "def init_z(n, dim=2, low=-0.1, high=0.1):\n",
    "    random_config = np.random.uniform(low, high, size=(n, dim))\n",
    "    return random_config\n",
    "\n",
    "# plot initial random configuration\n",
    "fig = plt.figure(figsize=(6,6))\n",
    "ax = fig.add_subplot(111)\n",
    "circ = plt.Circle((0, 0), radius=1, edgecolor='black', facecolor='None', linewidth=3, alpha=0.5)\n",
    "ax.add_patch(circ)\n",
    "\n",
    "init_config = init_z(7)\n",
    "x = init_config[:,0]\n",
    "y = init_config[:,1]\n",
    "ax.scatter(x, y, s=20, alpha=1);"
   ]
  },
  {
   "cell_type": "code",
   "execution_count": 226,
   "metadata": {
    "ExecuteTime": {
     "end_time": "2019-07-20T22:08:51.757620Z",
     "start_time": "2019-07-20T22:08:51.746649Z"
    }
   },
   "outputs": [],
   "source": [
    "eps = 1e-3\n",
    "def partial_d(theta, x):\n",
    "    alpha = 1 - norm(theta)**2\n",
    "    beta = 1 - norm(x)**2\n",
    "    gamma = 1 + 2/(alpha*beta + eps) * norm(theta-x)**2\n",
    "    lhs = 4 / (beta*np.sqrt(gamma**2 - 1) + eps)\n",
    "    rhs = 1/(alpha**2 + eps) * (norm(x)**2 - 2*np.inner(theta,x) + 1) * theta - x/(alpha + eps)\n",
    "    return lhs*rhs\n",
    "\n",
    "def proj(theta):\n",
    "    if norm(theta) >= 1:\n",
    "        theta = theta/norm(theta) - eps\n",
    "    return theta"
   ]
  },
  {
   "cell_type": "code",
   "execution_count": 228,
   "metadata": {
    "ExecuteTime": {
     "end_time": "2019-07-20T22:09:15.315853Z",
     "start_time": "2019-07-20T22:09:15.282939Z"
    }
   },
   "outputs": [
    {
     "data": {
      "text/plain": [
       "1435.3012491449626"
      ]
     },
     "execution_count": 228,
     "metadata": {},
     "output_type": "execute_result"
    },
    {
     "data": {
      "text/plain": [
       "array([[ -89.44718579, -119.24026763],\n",
       "       [ 113.79415022,  -37.73945464],\n",
       "       [  33.38595003,  125.68209546],\n",
       "       [ 171.64273573,    6.2389917 ],\n",
       "       [ -56.86648641, -125.5557056 ],\n",
       "       [ -91.76179579,  103.14772668],\n",
       "       [ -80.96342566,   44.10551487]])"
      ]
     },
     "execution_count": 228,
     "metadata": {},
     "output_type": "execute_result"
    },
    {
     "data": {
      "text/plain": [
       "array([ 1, -2])"
      ]
     },
     "execution_count": 228,
     "metadata": {},
     "output_type": "execute_result"
    }
   ],
   "source": [
    "def loss_fn(embed_config, dissimilarities, n, alpha=4):\n",
    "    loss = 0\n",
    "    for i in range(n):\n",
    "        for j in range(i+1, n):\n",
    "            zi_error = (poincare_dist(embed_config[i], embed_config[j]) - alpha*dissimilarities[i][j])**2\n",
    "            loss += zi_error\n",
    "    return loss\n",
    "loss_fn(init_config, dissimilarity, n=len(init_config))\n",
    "\n",
    "def compute_gradients(Z, dissimilarities, n, alpha=4):\n",
    "    gradients = np.zeros((n, 2))\n",
    "    for i in range(n):\n",
    "        grad_zi = 0\n",
    "        for j in range(n):\n",
    "            dd_loss = 2*poincare_dist(Z[i], Z[j]) - 2*alpha*dissimilarities[i][j]\n",
    "            dd_dist = partial_d(Z[i], Z[j])\n",
    "            grad_zi += dd_loss * dd_dist\n",
    "        gradients[i] = grad_zi\n",
    "    return gradients\n",
    "compute_gradients(init_config, dissimilarity, len(init_config))\n",
    "\n",
    "def conjugate(z):\n",
    "    z_bar = np.array([z[0], -z[1]])\n",
    "    return z_bar\n",
    "conjugate([1, 2])"
   ]
  },
  {
   "cell_type": "markdown",
   "metadata": {},
   "source": [
    "We only need to compute the derivative of q(r) evaluated at 0, so here we just plug 0 into q'(r) <br>\n",
    "<br>\n",
    "$$\n",
    "\\begin{aligned} q^{\\prime}(0) &=\\frac{d}{d r} q(0)\\\\ &=\\left(\\operatorname{Re} \\mathbf{M}^{\\prime}(-r \\mathbf{g}, \\mathbf{z})\\right)^{T} \\operatorname{Re} \\nabla E(\\mathbf{M}(-r \\mathbf{g}, \\mathbf{z}), \\boldsymbol{\\Delta}, \\mathbf{W}, \\mathbf{I}) \\\\ &+\\left(\\operatorname{Im} \\mathbf{M}^{\\prime}(-r \\mathbf{g}, \\mathbf{z})\\right)^{T} \\operatorname{Im} \\nabla E(\\mathbf{M}(-r \\mathbf{g}, \\mathbf{z}), \\boldsymbol{\\Delta}, \\mathbf{W}, \\mathbf{I}) \\end{aligned}\n",
    "$$ <br>\n",
    "with step size = 0 we also have: <br>\n",
    "$$\n",
    "M_{j}(0)=z_j\n",
    "$$<br>\n",
    "$$\n",
    "M_{j}^{\\prime}(0)=g_{j} (\\left|z_{j}\\right|^{2}-1)\n",
    "$$"
   ]
  },
  {
   "cell_type": "code",
   "execution_count": 198,
   "metadata": {
    "ExecuteTime": {
     "end_time": "2019-07-20T21:43:40.756028Z",
     "start_time": "2019-07-20T21:43:40.748049Z"
    }
   },
   "outputs": [],
   "source": [
    "def q(r, Z, g, dissimilarities, n):\n",
    "    M_r = np.zeros((n, 2))\n",
    "    for j in range(n):\n",
    "        M_r[j] = (-r*g[j] + Z[j]) / (-r*g[j] * conjugate(Z[j]) + 1)\n",
    "    return loss_fn(M_r, dissimilarities, n)"
   ]
  },
  {
   "cell_type": "code",
   "execution_count": 222,
   "metadata": {
    "ExecuteTime": {
     "end_time": "2019-07-20T22:00:29.937532Z",
     "start_time": "2019-07-20T22:00:29.908609Z"
    }
   },
   "outputs": [
    {
     "name": "stdout",
     "output_type": "stream",
     "text": [
      "0.4\n",
      "0.2\n",
      "0.1\n",
      "0.05\n",
      "0.025\n",
      "0.0125\n",
      "0.00625\n",
      "0.003125\n",
      "0.0015625\n",
      "0.00078125\n",
      "0.000390625\n",
      "0.0001953125\n",
      "9.765625e-05\n",
      "4.8828125e-05\n",
      "2.44140625e-05\n",
      "1.220703125e-05\n"
     ]
    },
    {
     "data": {
      "text/plain": [
       "6.103515625e-06"
      ]
     },
     "execution_count": 222,
     "metadata": {},
     "output_type": "execute_result"
    }
   ],
   "source": [
    "def line_search(Z, dissimilarities, n, r0, rmax):\n",
    "    Z_norm = norm(Z, axis=1)**2\n",
    "    g = -compute_gradients(Z, dissimilarity, n)\n",
    "    M_prime = g*Z_norm.reshape(-1,1)\n",
    "    qprime_0 = np.dot(M_prime[:,0].T, g[:,0]) + np.dot(M_prime[:,1].T, g[:,1])\n",
    "    p=0.1\n",
    "    roof_fn = lambda r: q(0, Z, g, dissimilarities, n) + p*qprime_0*r\n",
    "    r = r0\n",
    "    rmin = 1e-5\n",
    "    while rmin < r < rmax and q(r, Z, g, dissimilarities, n) < roof_fn(r):\n",
    "        print(r)\n",
    "        r = 2*r\n",
    "    while rmin < r < rmax or q(r, Z, g, dissimilarities, n) > roof_fn(r):\n",
    "        print(r)\n",
    "        r = r/2\n",
    "    return r\n",
    "line_search(init_config, dissimilarity, len(init_config), 0.1, 0.5)"
   ]
  },
  {
   "cell_type": "code",
   "execution_count": 208,
   "metadata": {
    "ExecuteTime": {
     "end_time": "2019-07-20T21:55:18.639156Z",
     "start_time": "2019-07-20T21:55:18.589287Z"
    }
   },
   "outputs": [
    {
     "data": {
      "text/plain": [
       "array([[ 8.72778011e+00, -4.32544128e+00],\n",
       "       [-7.62588481e+00, -1.33009726e+02],\n",
       "       [ 8.44340657e+00, -1.39019543e+00],\n",
       "       [-2.24557534e-01, -1.90861822e+01],\n",
       "       [-3.36175443e-01,  2.52333828e-03],\n",
       "       [-2.10198164e+01, -1.63824466e+00],\n",
       "       [-6.19468541e+00,  1.20324128e+01]])"
      ]
     },
     "execution_count": 208,
     "metadata": {},
     "output_type": "execute_result"
    }
   ],
   "source": [
    "def descent_method(init, dissimilarities, n_components=2, max_iter = 100, verbose=0, alpha=4,\n",
    "                   weights=None, indicators=None):\n",
    "    #error_tol =\n",
    "    #min_grad = \n",
    "    #min_step = \n",
    "    Z = init\n",
    "    n = len(Z)\n",
    "    smax = 10\n",
    "    for i in range(2):\n",
    "        current_loss = loss_fn(Z, dissimilarities, n)\n",
    "        g = compute_gradients(Z, dissimilarities, n)\n",
    "        rmax = 1/(norm(g, axis=1).max()+eps) * np.tanh(smax/2)\n",
    "        r = line_search(Z, dissimilarities, n, 0.1, rmax)\n",
    "        for i in range(n):\n",
    "            zi_prime = (-r*g[i] + Z[i]) / (-r*g[i] * conjugate(Z[i]) + 1)\n",
    "            Z[i] = zi_prime\n",
    "    return Z\n",
    "descent_method(init_config, dissimilarity)"
   ]
  },
  {
   "cell_type": "code",
   "execution_count": null,
   "metadata": {},
   "outputs": [],
   "source": [
    "class HyperMDS():\n",
    "    \n",
    "    def __init__(self, n_components=2, max_iter=100, verbose=0, eps=1e-3, n_jobs=None,\n",
    "                 random_state=None, dissimilarity=\"euclidean\"):\n",
    "        self.n_components = n_components\n",
    "        self.dissimilarity = dissimilarity\n",
    "        self.max_iter = max_iter\n",
    "        self.eps = eps\n",
    "        self.verbose = verbose\n",
    "        self.n_jobs = n_jobs\n",
    "        self.random_state = random_state\n",
    "    \n",
    "    def fit(self, X, init=None):\n",
    "        \"\"\"\n",
    "        Uses gradient descent to find the embedding configuration in the Poincaré disk\n",
    "        Parameters\n",
    "        ----------\n",
    "        X : array, shape (n_samples, n_features) or (n_samples, n_samples)\n",
    "            Input data. If ``dissimilarity=='precomputed'``, the input should\n",
    "            be the dissimilarity matrix.\n",
    "        init: initial configuration of the embedding coordinates\n",
    "        \"\"\"\n",
    "        self.fit_transform(X, init=init)\n",
    "        return self\n",
    "    \n",
    "    def fit_transform(self, X, init=None):\n",
    "        \"\"\"\n",
    "        Fit the embedding from X, and return the embedding coordinates\n",
    "        Parameters\n",
    "        ----------\n",
    "        X : array, shape (n_samples, n_features) or (n_samples, n_samples)\n",
    "            Input data. If ``dissimilarity=='precomputed'``, the input should\n",
    "            be the dissimilarity matrix.\n",
    "        init: initial configuration of the embedding coordinates\n",
    "        \"\"\""
   ]
  },
  {
   "cell_type": "code",
   "execution_count": 1,
   "metadata": {
    "ExecuteTime": {
     "end_time": "2019-07-20T02:41:29.831616Z",
     "start_time": "2019-07-20T02:41:29.766874Z"
    }
   },
   "outputs": [
    {
     "data": {
      "text/html": [
       "<style>\n",
       "    @font-face {\n",
       "        font-family: \"Computer Modern\";\n",
       "        src: url('http://9dbb143991406a7c655e-aa5fcb0a5a4ec34cff238a2d56ca4144.r56.cf5.rackcdn.com/cmunss.otf');\n",
       "    }\n",
       "    @font-face {\n",
       "        font-family: \"Computer Modern\";\n",
       "        font-weight: bold;\n",
       "        src: url('http://9dbb143991406a7c655e-aa5fcb0a5a4ec34cff238a2d56ca4144.r56.cf5.rackcdn.com/cmunsx.otf');\n",
       "    }\n",
       "    @font-face {\n",
       "        font-family: \"Computer Modern\";\n",
       "        font-style: oblique;\n",
       "        src: url('http://9dbb143991406a7c655e-aa5fcb0a5a4ec34cff238a2d56ca4144.r56.cf5.rackcdn.com/cmunsi.otf');\n",
       "    }\n",
       "    @font-face {\n",
       "        font-family: \"Computer Modern\";\n",
       "        font-weight: bold;\n",
       "        font-style: oblique;\n",
       "        src: url('http://9dbb143991406a7c655e-aa5fcb0a5a4ec34cff238a2d56ca4144.r56.cf5.rackcdn.com/cmunso.otf');\n",
       "    }\n",
       "    div.cell{\n",
       "        width:800px;\n",
       "        margin-left:16% !important;\n",
       "        margin-right:auto;\n",
       "    }\n",
       "    h1 {\n",
       "        font-family: Helvetica, serif;\n",
       "    }\n",
       "    h4{\n",
       "        margin-top:12px;\n",
       "        margin-bottom: 3px;\n",
       "       }\n",
       "    div.text_cell_render{\n",
       "        font-family: Computer Modern, \"Helvetica Neue\", Arial, Helvetica, Geneva, sans-serif;\n",
       "        line-height: 145%;\n",
       "        font-size: 130%;\n",
       "        width:800px;\n",
       "        margin-left:auto;\n",
       "        margin-right:auto;\n",
       "    }\n",
       "    .CodeMirror{\n",
       "            font-family: \"Source Code Pro\", source-code-pro,Consolas, monospace;\n",
       "    }\n",
       "    .prompt{\n",
       "        display: None;\n",
       "    }\n",
       "    .text_cell_render h5 {\n",
       "        font-weight: 300;\n",
       "        font-size: 22pt;\n",
       "        color: #4057A1;\n",
       "        font-style: italic;\n",
       "        margin-bottom: .5em;\n",
       "        margin-top: 0.5em;\n",
       "        display: block;\n",
       "    }\n",
       "    \n",
       "    .warning{\n",
       "        color: rgb( 240, 20, 20 )\n",
       "        }  \n",
       "</style>"
      ],
      "text/plain": [
       "<IPython.core.display.HTML object>"
      ]
     },
     "execution_count": 1,
     "metadata": {},
     "output_type": "execute_result"
    }
   ],
   "source": [
    "from IPython.core.display import HTML\n",
    "\n",
    "def css_styling():\n",
    "    styles = open(\"custom_style.css\", \"r\").read()\n",
    "    return HTML(styles)\n",
    "css_styling()"
   ]
  }
 ],
 "metadata": {
  "kernelspec": {
   "display_name": "Python 3",
   "language": "python",
   "name": "python3"
  },
  "language_info": {
   "codemirror_mode": {
    "name": "ipython",
    "version": 3
   },
   "file_extension": ".py",
   "mimetype": "text/x-python",
   "name": "python",
   "nbconvert_exporter": "python",
   "pygments_lexer": "ipython3",
   "version": "3.7.1"
  },
  "nbTranslate": {
   "displayLangs": [
    "*"
   ],
   "hotkey": "alt-t",
   "langInMainMenu": true,
   "sourceLang": "en",
   "targetLang": "fr",
   "useGoogleTranslate": true
  },
  "varInspector": {
   "cols": {
    "lenName": 16,
    "lenType": 16,
    "lenVar": 40
   },
   "kernels_config": {
    "python": {
     "delete_cmd_postfix": "",
     "delete_cmd_prefix": "del ",
     "library": "var_list.py",
     "varRefreshCmd": "print(var_dic_list())"
    },
    "r": {
     "delete_cmd_postfix": ") ",
     "delete_cmd_prefix": "rm(",
     "library": "var_list.r",
     "varRefreshCmd": "cat(var_dic_list()) "
    }
   },
   "types_to_exclude": [
    "module",
    "function",
    "builtin_function_or_method",
    "instance",
    "_Feature"
   ],
   "window_display": false
  }
 },
 "nbformat": 4,
 "nbformat_minor": 2
}
