{
 "cells": [
  {
   "cell_type": "markdown",
   "metadata": {},
   "source": [
    "# Pseudo-Gaussian Mixture Models in Hyperbolic space\n",
    "`Drew Wilimitis`"
   ]
  },
  {
   "cell_type": "markdown",
   "metadata": {},
   "source": [
    "A recent publication **[1]** demonstrated how to produce a Gaussian like distribution on hyperbolic space, which is the foundation of probabilistic models. Gaussian Mixture models and Expectation-Maximization (EM) have several advantages over KMeans clustering, such as providing probabilistic or fuzzy classifications and not requiring KMeans assumptions like 'circularity'.   <br>\n",
    "<br>\n",
    "I'll attempt to use the hyperbolic gaussian distribution with EM to perform unsupervised clustering."
   ]
  },
  {
   "cell_type": "markdown",
   "metadata": {},
   "source": [
    "## Standard EM Algorithm Outline"
   ]
  },
  {
   "cell_type": "markdown",
   "metadata": {},
   "source": [
    "**Input**: Training data  $x_1, \\ldots , \\in \\mathbb{R}^{d}$ and specified number of components/gaussian clusters $k$:<br>\n",
    "\n",
    "**Goal**: Learn parameters $\\phi, \\mu, \\Sigma$ (prior probability of cluster assignment, mean, covariance matrix)<br>\n",
    "1. **Initialization step**: Initialize parameters $(\\mu , \\Sigma)$ to all $k$ gaussian clusters, assign priors<br>\n",
    "2. **E-step**: assign each $x_p$ to nearest centroid with smallest poincare distance<br>\n",
    "3. **M-step**: project to hyperboloid model<br>\n",
    "4. **Update step**: calculate new means with optimization in Hyperboloid model <br>\n",
    "5. **Project back to Poincare disk**: map back into poincare disk model\n",
    "6. **Repeat steps 2-5 until stopping criteria** <br>\n",
    "7. **Return:** cluster labels for all $x_i$ and cluster means $\\left\\{\\boldsymbol{m}_{i}\\right\\}_{i=1}^{k}$"
   ]
  },
  {
   "cell_type": "markdown",
   "metadata": {},
   "source": []
  },
  {
   "cell_type": "markdown",
   "metadata": {},
   "source": [
    "## Load libraries and helper functions"
   ]
  },
  {
   "cell_type": "code",
   "execution_count": 1,
   "metadata": {
    "ExecuteTime": {
     "end_time": "2019-08-25T19:54:56.690582Z",
     "start_time": "2019-08-25T19:54:50.312007Z"
    }
   },
   "outputs": [],
   "source": [
    "import numpy as np\n",
    "import pandas as pd\n",
    "import matplotlib.pyplot as plt\n",
    "import seaborn as sns\n",
    "plt.style.use('seaborn')\n",
    "%matplotlib inline\n",
    "from mpl_toolkits.mplot3d import Axes3D\n",
    "from sklearn.utils import check_random_state\n",
    "\n",
    "# ignore warnings\n",
    "import warnings\n",
    "warnings.filterwarnings('ignore');\n",
    "\n",
    "# display multiple outputs within a cell\n",
    "from IPython.core.interactiveshell import InteractiveShell\n",
    "InteractiveShell.ast_node_interactivity = \"all\";\n",
    "\n",
    "def norm(x, axis=None):\n",
    "    return np.linalg.norm(x, axis=axis)"
   ]
  },
  {
   "cell_type": "markdown",
   "metadata": {},
   "source": [
    "## Poincaré Disk vs. Hyperboloid Model"
   ]
  },
  {
   "cell_type": "code",
   "execution_count": 2,
   "metadata": {
    "ExecuteTime": {
     "end_time": "2019-08-25T19:54:56.708064Z",
     "start_time": "2019-08-25T19:54:56.693578Z"
    }
   },
   "outputs": [],
   "source": [
    "eps = 1e-6\n",
    "\n",
    "# distance in poincare disk\n",
    "def poincare_dist(u, v, eps=1e-5):\n",
    "    d = 1 + 2 * norm(u-v)**2 / ((1 - norm(u)**2) * (1 - norm(v)**2) + eps)\n",
    "    return np.arccosh(d)\n",
    "\n",
    "# compute symmetric poincare distance matrix\n",
    "def poincare_distances(embedding):\n",
    "    n = embedding.shape[0]\n",
    "    dist_matrix = np.zeros((n, n))\n",
    "    for i in range(n):\n",
    "        for j in range(i+1, n):\n",
    "            dist_matrix[i][j] = poincare_dist(embedding[i], embedding[j])\n",
    "    return dist_matrix\n",
    "\n",
    "# convert array from poincare disk to hyperboloid\n",
    "def poincare_pts_to_hyperboloid(Y):\n",
    "    mink_pts = np.zeros((Y.shape[0], Y.shape[1]+1))\n",
    "    r = norm(Y, axis=1)\n",
    "    mink_pts[:, 0] = 2/(1 - r**2 + eps) * Y[:, 0]\n",
    "    mink_pts[:, 1] = 2/(1 - r**2 + eps) * Y[:, 1]\n",
    "    mink_pts[:, 2] = 2/(1 - r**2 + eps) * (1 + r**2)/2\n",
    "    return mink_pts\n",
    "\n",
    "# convert single point to hyperboloid\n",
    "def poincare_pt_to_hyperboloid(y):\n",
    "    mink_pt = np.zeros((3, ))\n",
    "    r = norm(y)\n",
    "    mink_pt[0] = 2/(1 - r**2 + eps) * y[0]\n",
    "    mink_pt[1] = 2/(1 - r**2 + eps) * y[1]\n",
    "    mink_pt[2] = 2/(1 - r**2 + eps) * (1 + r**2)/2\n",
    "    return mink_pt"
   ]
  },
  {
   "cell_type": "code",
   "execution_count": 3,
   "metadata": {
    "ExecuteTime": {
     "end_time": "2019-08-25T19:54:56.844826Z",
     "start_time": "2019-08-25T19:54:56.710511Z"
    }
   },
   "outputs": [],
   "source": [
    "# define hyperboloid bilinear form\n",
    "def hyperboloid_dot(u, v):\n",
    "    return np.dot(u[:-1], v[:-1]) - u[-1]*v[-1]\n",
    "\n",
    "# hyperboloid distance function\n",
    "def hyperboloid_dist(u, v):\n",
    "    dist = np.arccosh(-1*hyperboloid_dot(u, v))\n",
    "    if np.isnan(dist):\n",
    "        #print('Hyperboloid dist returned nan value')\n",
    "        return eps\n",
    "    else:\n",
    "        return dist\n",
    "\n",
    "# compute symmetric hyperboloid distance matrix\n",
    "def hyperboloid_distances(embedding):\n",
    "    n = embedding.shape[0]\n",
    "    dist_matrix = np.zeros((n, n))\n",
    "    for i in range(n):\n",
    "        for j in range(i+1, n):\n",
    "            dist_matrix[i][j] = hyperboloid_dist(embedding[i], embedding[j])\n",
    "    return dist_matrix\n",
    "\n",
    "# convert array to poincare disk\n",
    "def hyperboloid_pts_to_poincare(X):\n",
    "    poincare_pts = np.zeros((X.shape[0], X.shape[1]-1))\n",
    "    poincare_pts[:, 0] = X[:, 0] / ((X[:, 2]+1) + eps)\n",
    "    poincare_pts[:, 1] = X[:, 1] / ((X[:, 2]+1) + eps)\n",
    "    return poincare_pts\n",
    "\n",
    "def proj(theta,eps=1e-3):\n",
    "    if norm(theta) >= 1:\n",
    "        theta = theta/norm(theta) - eps\n",
    "    return theta\n",
    "\n",
    "# convert single point to poincare\n",
    "def hyperboloid_pt_to_poincare(x):\n",
    "    poincare_pt = np.zeros((2, ))\n",
    "    poincare_pt[0] = x[0] / ((x[2]+1) + eps)\n",
    "    poincare_pt[1] = x[1] / ((x[2]+1) + eps)\n",
    "    return proj(poincare_pt)"
   ]
  },
  {
   "cell_type": "code",
   "execution_count": 4,
   "metadata": {
    "ExecuteTime": {
     "end_time": "2019-08-25T19:54:56.931982Z",
     "start_time": "2019-08-25T19:54:56.849044Z"
    }
   },
   "outputs": [],
   "source": [
    "# helper function to generate samples\n",
    "def generate_data(n, radius=0.7, hyper=False):\n",
    "    theta = np.random.uniform(0, 2*np.pi, n)\n",
    "    u = np.random.uniform(0, radius, n)\n",
    "    r = np.sqrt(u)\n",
    "    x = r * np.cos(theta)\n",
    "    y = r * np.sin(theta)\n",
    "    init_data = np.hstack((x.reshape(-1,1), y.reshape(-1,1)))\n",
    "    if hyper:\n",
    "        return poincare_pts_to_hyperboloid(init_data)\n",
    "    else:\n",
    "        return init_data"
   ]
  },
  {
   "cell_type": "code",
   "execution_count": 5,
   "metadata": {
    "ExecuteTime": {
     "end_time": "2019-08-25T19:54:57.019981Z",
     "start_time": "2019-08-25T19:54:56.937458Z"
    }
   },
   "outputs": [
    {
     "data": {
      "text/plain": [
       "True"
      ]
     },
     "execution_count": 5,
     "metadata": {},
     "output_type": "execute_result"
    },
    {
     "name": "stdout",
     "output_type": "stream",
     "text": [
      "Inverse test passed!\n"
     ]
    }
   ],
   "source": [
    "# test hyperboloid bilinear form condition\n",
    "data = generate_data(20)\n",
    "poinc_pts = data\n",
    "mink_pts = poincare_pts_to_hyperboloid(data)\n",
    "np.array([np.allclose(hyperboloid_dot(pt, pt), -1) for pt in mink_pts]).all()\n",
    "\n",
    "# test poincare -> hyperboloid are inverses\n",
    "mink_pts = poincare_pts_to_hyperboloid(data)\n",
    "poinc_pts = hyperboloid_pts_to_poincare(mink_pts)\n",
    "if np.allclose(data, poinc_pts):\n",
    "    print('Inverse test passed!')"
   ]
  },
  {
   "cell_type": "markdown",
   "metadata": {},
   "source": [
    "# Frechet Mean Optimization in Hyperboloid Model"
   ]
  },
  {
   "cell_type": "code",
   "execution_count": 6,
   "metadata": {
    "ExecuteTime": {
     "end_time": "2019-08-25T19:54:57.108559Z",
     "start_time": "2019-08-25T19:54:57.023286Z"
    }
   },
   "outputs": [],
   "source": [
    "def exp_map(v, theta):\n",
    "    # v: tangent vector in minkowski space\n",
    "    # theta: parameter vector in hyperboloid with centroid coordinates\n",
    "    # project vector v from tangent minkowski space -> hyperboloid\n",
    "    return np.cosh(norm(v))*theta + np.sinh(norm(v)) * v / (norm(v) + eps)\n",
    "\n",
    "def minkowski_distance_gradient(u, v):\n",
    "    # u,v in hyperboloid\n",
    "    # returns gradient with respect to u\n",
    "    return -1*(hyperboloid_dot(u,v)**2 - 1)**-1/2 * v\n",
    "\n",
    "def minkowski_loss_gradient(theta, X):\n",
    "    # X : array with points in hyperboloid cluster\n",
    "    # theta: parameter vector in hyperboloid with centroid coordinates\n",
    "    # returns gradient vector\n",
    "    distances = np.array([-1*hyperboloid_dist(theta, x) for x in X]).reshape(-1,1)\n",
    "    distance_grads = np.array([minkowski_distance_gradient(theta, x) for x in X])\n",
    "    grad_loss = 2*np.mean(distances*distance_grads, axis=0)\n",
    "    if np.isnan(grad_loss).any():\n",
    "        print('Hyperboloid dist returned nan value')\n",
    "        return eps\n",
    "    else:\n",
    "        return grad_loss\n",
    "\n",
    "def project_to_tangent(theta, minkowski_grad):\n",
    "    # grad: gradient vector in ambient Minkowski space\n",
    "    # theta: parameter vector in hyperboloid with centroid coordinates\n",
    "    # projects to hyperboloid gradient in tangent space\n",
    "    return minkowski_grad + hyperboloid_dot(theta, minkowski_grad)*theta\n",
    "\n",
    "def update_theta(theta, hyperboloid_grad, alpha=0.1):\n",
    "    # theta: parameter vector in hyperboloid with centroid coordinates\n",
    "    return exp_map(-1*alpha*hyperboloid_grad, theta)"
   ]
  },
  {
   "cell_type": "code",
   "execution_count": null,
   "metadata": {},
   "outputs": [],
   "source": []
  }
 ],
 "metadata": {
  "kernelspec": {
   "display_name": "Python 3",
   "language": "python",
   "name": "python3"
  },
  "language_info": {
   "codemirror_mode": {
    "name": "ipython",
    "version": 3
   },
   "file_extension": ".py",
   "mimetype": "text/x-python",
   "name": "python",
   "nbconvert_exporter": "python",
   "pygments_lexer": "ipython3",
   "version": "3.7.1"
  },
  "nbTranslate": {
   "displayLangs": [
    "*"
   ],
   "hotkey": "alt-t",
   "langInMainMenu": true,
   "sourceLang": "en",
   "targetLang": "fr",
   "useGoogleTranslate": true
  },
  "varInspector": {
   "cols": {
    "lenName": 16,
    "lenType": 16,
    "lenVar": 40
   },
   "kernels_config": {
    "python": {
     "delete_cmd_postfix": "",
     "delete_cmd_prefix": "del ",
     "library": "var_list.py",
     "varRefreshCmd": "print(var_dic_list())"
    },
    "r": {
     "delete_cmd_postfix": ") ",
     "delete_cmd_prefix": "rm(",
     "library": "var_list.r",
     "varRefreshCmd": "cat(var_dic_list()) "
    }
   },
   "types_to_exclude": [
    "module",
    "function",
    "builtin_function_or_method",
    "instance",
    "_Feature"
   ],
   "window_display": false
  }
 },
 "nbformat": 4,
 "nbformat_minor": 2
}
