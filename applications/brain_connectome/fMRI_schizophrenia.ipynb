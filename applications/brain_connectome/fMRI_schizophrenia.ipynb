{
 "cells": [
  {
   "cell_type": "markdown",
   "metadata": {},
   "source": [
    "# MLSP 2014 Schizophrenia Classification Challenge\n",
    "\n",
    "source: https://www.kaggle.com/c/mlsp-2014-mri/data"
   ]
  },
  {
   "cell_type": "markdown",
   "metadata": {},
   "source": [
    "![title](https://upload.wikimedia.org/wikipedia/commons/thumb/4/45/100325_RS88UH_11_qc.gif/330px-100325_RS88UH_11_qc.gif)"
   ]
  },
  {
   "cell_type": "code",
   "execution_count": 7,
   "metadata": {
    "ExecuteTime": {
     "end_time": "2019-12-25T03:30:41.652057Z",
     "start_time": "2019-12-25T03:30:41.640091Z"
    }
   },
   "outputs": [],
   "source": [
    "import numpy as np\n",
    "import pandas as pd\n",
    "from sklearn.preprocessing import label_binarize\n",
    "from sklearn.model_selection import StratifiedShuffleSplit, KFold, StratifiedKFold\n",
    "from sklearn.metrics import roc_auc_score, precision_recall_curve, accuracy_score, precision_score, recall_score\n",
    "from sklearn.metrics import auc, confusion_matrix\n",
    "%matplotlib inline\n",
    "import matplotlib.pyplot as plt\n",
    "plt.style.use('seaborn')\n",
    "import seaborn as sns\n",
    "import time\n",
    "import sys\n",
    "import os\n",
    "\n",
    "# ignore warnings\n",
    "import warnings\n",
    "warnings.filterwarnings('ignore');\n",
    "\n",
    "# display multiple outputs within a cell\n",
    "from IPython.core.interactiveshell import InteractiveShell\n",
    "InteractiveShell.ast_node_interactivity = \"all\";"
   ]
  },
  {
   "cell_type": "markdown",
   "metadata": {},
   "source": [
    "**Overview & fMRI features**:<br>\n",
    "- 86 total patients labeled 0 (healthy) or 1 (patient has schizophrenia) <br>\n",
    "- Each individual has 379 Functional Network Connectivity (FNC) features, which are correlation values between each pairing of the total 28 brain regions/maps of interest (ROI) <br>\n",
    "- We consider the 28 brain regions as nodes in a subject's connectivity graph, and we insert edge(region A, region B) if the corresponding FNC (correlation) is greater than some threshhold <br>\n",
    "- Each of the subjects has a unique network connectivity graph which we analyze in order to detect the presence of schizophrenia"
   ]
  },
  {
   "cell_type": "code",
   "execution_count": 62,
   "metadata": {
    "ExecuteTime": {
     "end_time": "2019-12-24T20:35:59.533998Z",
     "start_time": "2019-12-24T20:35:59.439590Z"
    }
   },
   "outputs": [
    {
     "data": {
      "text/html": [
       "<div>\n",
       "<style scoped>\n",
       "    .dataframe tbody tr th:only-of-type {\n",
       "        vertical-align: middle;\n",
       "    }\n",
       "\n",
       "    .dataframe tbody tr th {\n",
       "        vertical-align: top;\n",
       "    }\n",
       "\n",
       "    .dataframe thead th {\n",
       "        text-align: right;\n",
       "    }\n",
       "</style>\n",
       "<table border=\"1\" class=\"dataframe\">\n",
       "  <thead>\n",
       "    <tr style=\"text-align: right;\">\n",
       "      <th></th>\n",
       "      <th>Id</th>\n",
       "      <th>FNC1</th>\n",
       "      <th>FNC2</th>\n",
       "      <th>FNC3</th>\n",
       "      <th>FNC4</th>\n",
       "      <th>FNC5</th>\n",
       "      <th>FNC6</th>\n",
       "      <th>FNC7</th>\n",
       "      <th>FNC8</th>\n",
       "      <th>FNC9</th>\n",
       "      <th>...</th>\n",
       "      <th>FNC369</th>\n",
       "      <th>FNC370</th>\n",
       "      <th>FNC371</th>\n",
       "      <th>FNC372</th>\n",
       "      <th>FNC373</th>\n",
       "      <th>FNC374</th>\n",
       "      <th>FNC375</th>\n",
       "      <th>FNC376</th>\n",
       "      <th>FNC377</th>\n",
       "      <th>FNC378</th>\n",
       "    </tr>\n",
       "  </thead>\n",
       "  <tbody>\n",
       "    <tr>\n",
       "      <th>0</th>\n",
       "      <td>120873</td>\n",
       "      <td>0.34312</td>\n",
       "      <td>0.045761</td>\n",
       "      <td>-0.13112</td>\n",
       "      <td>0.15034</td>\n",
       "      <td>0.18082</td>\n",
       "      <td>0.289160</td>\n",
       "      <td>0.069545</td>\n",
       "      <td>-0.052489</td>\n",
       "      <td>0.124000</td>\n",
       "      <td>...</td>\n",
       "      <td>0.18743</td>\n",
       "      <td>0.163770</td>\n",
       "      <td>0.17686</td>\n",
       "      <td>0.074728</td>\n",
       "      <td>0.148600</td>\n",
       "      <td>0.343230</td>\n",
       "      <td>0.17565</td>\n",
       "      <td>0.52035</td>\n",
       "      <td>0.030613</td>\n",
       "      <td>0.30774</td>\n",
       "    </tr>\n",
       "    <tr>\n",
       "      <th>1</th>\n",
       "      <td>135376</td>\n",
       "      <td>0.28790</td>\n",
       "      <td>0.102570</td>\n",
       "      <td>-0.32343</td>\n",
       "      <td>-0.22776</td>\n",
       "      <td>0.12328</td>\n",
       "      <td>0.367020</td>\n",
       "      <td>-0.084040</td>\n",
       "      <td>0.038793</td>\n",
       "      <td>-0.006287</td>\n",
       "      <td>...</td>\n",
       "      <td>0.59834</td>\n",
       "      <td>-0.477880</td>\n",
       "      <td>0.26634</td>\n",
       "      <td>0.582940</td>\n",
       "      <td>-0.041272</td>\n",
       "      <td>0.630050</td>\n",
       "      <td>0.70314</td>\n",
       "      <td>0.36383</td>\n",
       "      <td>-0.207880</td>\n",
       "      <td>0.64138</td>\n",
       "    </tr>\n",
       "    <tr>\n",
       "      <th>2</th>\n",
       "      <td>139149</td>\n",
       "      <td>0.24585</td>\n",
       "      <td>0.216620</td>\n",
       "      <td>-0.12468</td>\n",
       "      <td>-0.35380</td>\n",
       "      <td>0.16150</td>\n",
       "      <td>-0.002032</td>\n",
       "      <td>-0.133020</td>\n",
       "      <td>-0.035222</td>\n",
       "      <td>0.259040</td>\n",
       "      <td>...</td>\n",
       "      <td>0.22866</td>\n",
       "      <td>-0.000816</td>\n",
       "      <td>0.25860</td>\n",
       "      <td>0.280450</td>\n",
       "      <td>-0.644640</td>\n",
       "      <td>0.332440</td>\n",
       "      <td>0.87074</td>\n",
       "      <td>-0.10973</td>\n",
       "      <td>-0.679160</td>\n",
       "      <td>0.32316</td>\n",
       "    </tr>\n",
       "    <tr>\n",
       "      <th>3</th>\n",
       "      <td>146791</td>\n",
       "      <td>0.42090</td>\n",
       "      <td>0.331380</td>\n",
       "      <td>0.24453</td>\n",
       "      <td>0.17167</td>\n",
       "      <td>0.59223</td>\n",
       "      <td>0.431050</td>\n",
       "      <td>0.280290</td>\n",
       "      <td>0.289620</td>\n",
       "      <td>0.356800</td>\n",
       "      <td>...</td>\n",
       "      <td>0.42881</td>\n",
       "      <td>0.711570</td>\n",
       "      <td>0.56593</td>\n",
       "      <td>0.248560</td>\n",
       "      <td>0.153860</td>\n",
       "      <td>0.093171</td>\n",
       "      <td>0.62556</td>\n",
       "      <td>0.60391</td>\n",
       "      <td>-0.058301</td>\n",
       "      <td>0.10779</td>\n",
       "    </tr>\n",
       "    <tr>\n",
       "      <th>4</th>\n",
       "      <td>153870</td>\n",
       "      <td>-0.14621</td>\n",
       "      <td>-0.468630</td>\n",
       "      <td>-0.52880</td>\n",
       "      <td>-0.50381</td>\n",
       "      <td>-0.51052</td>\n",
       "      <td>-0.029113</td>\n",
       "      <td>-0.015192</td>\n",
       "      <td>0.360170</td>\n",
       "      <td>0.005944</td>\n",
       "      <td>...</td>\n",
       "      <td>0.41688</td>\n",
       "      <td>-0.435600</td>\n",
       "      <td>0.32104</td>\n",
       "      <td>0.392960</td>\n",
       "      <td>-0.842430</td>\n",
       "      <td>0.425080</td>\n",
       "      <td>0.86509</td>\n",
       "      <td>-0.31281</td>\n",
       "      <td>-0.829640</td>\n",
       "      <td>0.24307</td>\n",
       "    </tr>\n",
       "  </tbody>\n",
       "</table>\n",
       "<p>5 rows × 379 columns</p>\n",
       "</div>"
      ],
      "text/plain": [
       "       Id     FNC1      FNC2     FNC3     FNC4     FNC5      FNC6      FNC7  \\\n",
       "0  120873  0.34312  0.045761 -0.13112  0.15034  0.18082  0.289160  0.069545   \n",
       "1  135376  0.28790  0.102570 -0.32343 -0.22776  0.12328  0.367020 -0.084040   \n",
       "2  139149  0.24585  0.216620 -0.12468 -0.35380  0.16150 -0.002032 -0.133020   \n",
       "3  146791  0.42090  0.331380  0.24453  0.17167  0.59223  0.431050  0.280290   \n",
       "4  153870 -0.14621 -0.468630 -0.52880 -0.50381 -0.51052 -0.029113 -0.015192   \n",
       "\n",
       "       FNC8      FNC9   ...      FNC369    FNC370   FNC371    FNC372  \\\n",
       "0 -0.052489  0.124000   ...     0.18743  0.163770  0.17686  0.074728   \n",
       "1  0.038793 -0.006287   ...     0.59834 -0.477880  0.26634  0.582940   \n",
       "2 -0.035222  0.259040   ...     0.22866 -0.000816  0.25860  0.280450   \n",
       "3  0.289620  0.356800   ...     0.42881  0.711570  0.56593  0.248560   \n",
       "4  0.360170  0.005944   ...     0.41688 -0.435600  0.32104  0.392960   \n",
       "\n",
       "     FNC373    FNC374   FNC375   FNC376    FNC377   FNC378  \n",
       "0  0.148600  0.343230  0.17565  0.52035  0.030613  0.30774  \n",
       "1 -0.041272  0.630050  0.70314  0.36383 -0.207880  0.64138  \n",
       "2 -0.644640  0.332440  0.87074 -0.10973 -0.679160  0.32316  \n",
       "3  0.153860  0.093171  0.62556  0.60391 -0.058301  0.10779  \n",
       "4 -0.842430  0.425080  0.86509 -0.31281 -0.829640  0.24307  \n",
       "\n",
       "[5 rows x 379 columns]"
      ]
     },
     "execution_count": 62,
     "metadata": {},
     "output_type": "execute_result"
    },
    {
     "data": {
      "text/plain": [
       "(86, 379)"
      ]
     },
     "execution_count": 62,
     "metadata": {},
     "output_type": "execute_result"
    },
    {
     "data": {
      "text/plain": [
       "(86, 2)"
      ]
     },
     "execution_count": 62,
     "metadata": {},
     "output_type": "execute_result"
    },
    {
     "data": {
      "text/html": [
       "<div>\n",
       "<style scoped>\n",
       "    .dataframe tbody tr th:only-of-type {\n",
       "        vertical-align: middle;\n",
       "    }\n",
       "\n",
       "    .dataframe tbody tr th {\n",
       "        vertical-align: top;\n",
       "    }\n",
       "\n",
       "    .dataframe thead th {\n",
       "        text-align: right;\n",
       "    }\n",
       "</style>\n",
       "<table border=\"1\" class=\"dataframe\">\n",
       "  <thead>\n",
       "    <tr style=\"text-align: right;\">\n",
       "      <th></th>\n",
       "      <th>fMRI_comp_ind</th>\n",
       "    </tr>\n",
       "  </thead>\n",
       "  <tbody>\n",
       "    <tr>\n",
       "      <th>0</th>\n",
       "      <td>7</td>\n",
       "    </tr>\n",
       "    <tr>\n",
       "      <th>1</th>\n",
       "      <td>17</td>\n",
       "    </tr>\n",
       "    <tr>\n",
       "      <th>2</th>\n",
       "      <td>20</td>\n",
       "    </tr>\n",
       "    <tr>\n",
       "      <th>3</th>\n",
       "      <td>21</td>\n",
       "    </tr>\n",
       "    <tr>\n",
       "      <th>4</th>\n",
       "      <td>23</td>\n",
       "    </tr>\n",
       "  </tbody>\n",
       "</table>\n",
       "</div>"
      ],
      "text/plain": [
       "   fMRI_comp_ind\n",
       "0              7\n",
       "1             17\n",
       "2             20\n",
       "3             21\n",
       "4             23"
      ]
     },
     "execution_count": 62,
     "metadata": {},
     "output_type": "execute_result"
    },
    {
     "data": {
      "text/plain": [
       "(28, 1)"
      ]
     },
     "execution_count": 62,
     "metadata": {},
     "output_type": "execute_result"
    }
   ],
   "source": [
    "train_data = pd.read_csv('train/train_fnc.csv')\n",
    "train_data.head()\n",
    "train_data.shape\n",
    "train_labels = pd.read_csv('train/train_labels.csv')\n",
    "train_labels.shape\n",
    "map_functional = pd.read_csv('add_info/comp_ind_fmri.csv', index_col=None)\n",
    "map_functional.head()\n",
    "map_functional.shape"
   ]
  },
  {
   "cell_type": "code",
   "execution_count": 63,
   "metadata": {
    "ExecuteTime": {
     "end_time": "2019-12-24T20:36:00.797965Z",
     "start_time": "2019-12-24T20:36:00.777908Z"
    }
   },
   "outputs": [
    {
     "data": {
      "text/html": [
       "<div>\n",
       "<style scoped>\n",
       "    .dataframe tbody tr th:only-of-type {\n",
       "        vertical-align: middle;\n",
       "    }\n",
       "\n",
       "    .dataframe tbody tr th {\n",
       "        vertical-align: top;\n",
       "    }\n",
       "\n",
       "    .dataframe thead th {\n",
       "        text-align: right;\n",
       "    }\n",
       "</style>\n",
       "<table border=\"1\" class=\"dataframe\">\n",
       "  <thead>\n",
       "    <tr style=\"text-align: right;\">\n",
       "      <th></th>\n",
       "      <th>FNC</th>\n",
       "      <th>mapA</th>\n",
       "      <th>mapB</th>\n",
       "    </tr>\n",
       "  </thead>\n",
       "  <tbody>\n",
       "    <tr>\n",
       "      <th>0</th>\n",
       "      <td>1</td>\n",
       "      <td>21</td>\n",
       "      <td>17</td>\n",
       "    </tr>\n",
       "    <tr>\n",
       "      <th>1</th>\n",
       "      <td>2</td>\n",
       "      <td>21</td>\n",
       "      <td>7</td>\n",
       "    </tr>\n",
       "    <tr>\n",
       "      <th>2</th>\n",
       "      <td>3</td>\n",
       "      <td>21</td>\n",
       "      <td>23</td>\n",
       "    </tr>\n",
       "    <tr>\n",
       "      <th>3</th>\n",
       "      <td>4</td>\n",
       "      <td>21</td>\n",
       "      <td>24</td>\n",
       "    </tr>\n",
       "    <tr>\n",
       "      <th>4</th>\n",
       "      <td>5</td>\n",
       "      <td>21</td>\n",
       "      <td>38</td>\n",
       "    </tr>\n",
       "  </tbody>\n",
       "</table>\n",
       "</div>"
      ],
      "text/plain": [
       "   FNC  mapA  mapB\n",
       "0    1    21    17\n",
       "1    2    21     7\n",
       "2    3    21    23\n",
       "3    4    21    24\n",
       "4    5    21    38"
      ]
     },
     "execution_count": 63,
     "metadata": {},
     "output_type": "execute_result"
    },
    {
     "data": {
      "text/plain": [
       "(378, 3)"
      ]
     },
     "execution_count": 63,
     "metadata": {},
     "output_type": "execute_result"
    }
   ],
   "source": [
    "map_functional = map_functional['fMRI_comp_ind'].to_dict()\n",
    "map_functional_r = {v: k for k, v in map_functional.items()}\n",
    "mapping = pd.read_csv('add_info/rs_fmri_fnc_mapping.csv')\n",
    "mapping.head()\n",
    "mapping.shape"
   ]
  },
  {
   "cell_type": "code",
   "execution_count": 94,
   "metadata": {
    "ExecuteTime": {
     "end_time": "2019-12-24T21:55:25.690738Z",
     "start_time": "2019-12-24T21:55:06.837681Z"
    }
   },
   "outputs": [
    {
     "data": {
      "text/plain": [
       "(28, 28)"
      ]
     },
     "execution_count": 94,
     "metadata": {},
     "output_type": "execute_result"
    }
   ],
   "source": [
    "N_NODES = 28\n",
    "CORR_THRESH = 0.1\n",
    "N_GRAPHS = 86\n",
    "def create_connectome(data, graph_id, mapping):\n",
    "    u = np.zeros((N_NODES, N_NODES))\n",
    "    n_edges = mapping.shape[0]\n",
    "    for i in range(n_edges):\n",
    "        e0, e1 = (mapping.iloc[i]['mapA'], mapping.iloc[i]['mapB'])\n",
    "        region0, region1 = map_functional_r[e0], map_functional_r[e1]\n",
    "        u[region0, region1] = data.iloc[graph_id][i]\n",
    "        u = np.multiply(u, (u > CORR_THRESH))\n",
    "    return np.abs(u + u.T)\n",
    "create_connectome(train_data, 0, mapping).shape\n",
    "\n",
    "graph_data = [None] * N_GRAPHS\n",
    "graph_labels = np.zeros(N_GRAPHS)\n",
    "for graph_id in range(N_GRAPHS):\n",
    "    graph_data[graph_id] = create_connectome(train_data, graph_id, mapping)\n",
    "    graph_labels[graph_id] = int(train_labels.loc[train_data.index[graph_id], 'Class'])\n",
    "graph_data = np.array(graph_data)"
   ]
  },
  {
   "cell_type": "code",
   "execution_count": 95,
   "metadata": {
    "ExecuteTime": {
     "end_time": "2019-12-24T21:55:26.674710Z",
     "start_time": "2019-12-24T21:55:25.816672Z"
    },
    "scrolled": true
   },
   "outputs": [
    {
     "data": {
      "image/png": "[encoded data removed]",
      "text/plain": [
       "<Figure size 1152x432 with 4 Axes>"
      ]
     },
     "metadata": {},
     "output_type": "display_data"
    }
   ],
   "source": [
    "plt.figure(figsize=((16,6)))\n",
    "plt.subplot(121)\n",
    "sns.heatmap(np.mean(graph_data[(graph_labels == 0)], axis=0), vmin=0, vmax=1)\n",
    "plt.title('Healthy Control Group', size=12)\n",
    "plt.subplot(122)\n",
    "sns.heatmap(np.mean(graph_data[(graph_labels == 1)], axis=0), vmin=0, vmax=1);\n",
    "plt.title('Schizophrenia Patient Group')\n",
    "plt.suptitle('Mean Functional Connectivities', size=16)\n",
    "plt.show();"
   ]
  },
  {
   "cell_type": "code",
   "execution_count": 102,
   "metadata": {
    "ExecuteTime": {
     "end_time": "2019-12-24T21:58:03.578378Z",
     "start_time": "2019-12-24T21:58:03.395106Z"
    }
   },
   "outputs": [
    {
     "data": {
      "text/plain": [
       "(257, 2)"
      ]
     },
     "execution_count": 102,
     "metadata": {},
     "output_type": "execute_result"
    },
    {
     "data": {
      "text/html": [
       "<div>\n",
       "<style scoped>\n",
       "    .dataframe tbody tr th:only-of-type {\n",
       "        vertical-align: middle;\n",
       "    }\n",
       "\n",
       "    .dataframe tbody tr th {\n",
       "        vertical-align: top;\n",
       "    }\n",
       "\n",
       "    .dataframe thead th {\n",
       "        text-align: right;\n",
       "    }\n",
       "</style>\n",
       "<table border=\"1\" class=\"dataframe\">\n",
       "  <thead>\n",
       "    <tr style=\"text-align: right;\">\n",
       "      <th></th>\n",
       "      <th>u</th>\n",
       "      <th>v</th>\n",
       "    </tr>\n",
       "  </thead>\n",
       "  <tbody>\n",
       "    <tr>\n",
       "      <th>0</th>\n",
       "      <td>0</td>\n",
       "      <td>2</td>\n",
       "    </tr>\n",
       "    <tr>\n",
       "      <th>1</th>\n",
       "      <td>0</td>\n",
       "      <td>3</td>\n",
       "    </tr>\n",
       "    <tr>\n",
       "      <th>2</th>\n",
       "      <td>0</td>\n",
       "      <td>5</td>\n",
       "    </tr>\n",
       "    <tr>\n",
       "      <th>3</th>\n",
       "      <td>0</td>\n",
       "      <td>7</td>\n",
       "    </tr>\n",
       "    <tr>\n",
       "      <th>4</th>\n",
       "      <td>0</td>\n",
       "      <td>9</td>\n",
       "    </tr>\n",
       "  </tbody>\n",
       "</table>\n",
       "</div>"
      ],
      "text/plain": [
       "   u  v\n",
       "0  0  2\n",
       "1  0  3\n",
       "2  0  5\n",
       "3  0  7\n",
       "4  0  9"
      ]
     },
     "execution_count": 102,
     "metadata": {},
     "output_type": "execute_result"
    },
    {
     "data": {
      "text/plain": [
       "(257, 2)"
      ]
     },
     "execution_count": 102,
     "metadata": {},
     "output_type": "execute_result"
    }
   ],
   "source": [
    "avg_conn_0 = np.mean(graph_data[(graph_labels == 0)], axis=0)\n",
    "avg_conn_1 = np.mean(graph_data[(graph_labels == 1)], axis=0)\n",
    "import networkx as nx\n",
    "edges = []\n",
    "adj_conn_0 = np.where(avg_conn_0 > 0.15, 1, 0)\n",
    "for i in range(len(adj_conn_0)):\n",
    "    for j in range(i, len(adj_conn_0)):\n",
    "        if adj_conn_0[i, j] > 0:\n",
    "            edges.append([i, j])\n",
    "np.array(edges).shape\n",
    "df_conn_0 = pd.DataFrame(np.array(edges), columns = ['u', 'v'])\n",
    "df_conn_0.head()\n",
    "df_conn_0.shape\n",
    "df_conn_0.to_csv('connectome_1.csv', index=False)"
   ]
  },
  {
   "cell_type": "code",
   "execution_count": 12,
   "metadata": {
    "ExecuteTime": {
     "end_time": "2019-12-25T05:03:31.824577Z",
     "start_time": "2019-12-25T05:03:31.549609Z"
    }
   },
   "outputs": [
    {
     "data": {
      "text/plain": [
       "'C:\\\\Users\\\\dreww\\\\Desktop\\\\hyperbolics-master'"
      ]
     },
     "execution_count": 12,
     "metadata": {},
     "output_type": "execute_result"
    },
    {
     "data": {
      "text/plain": [
       "'C:\\\\Users\\\\dreww\\\\Desktop\\\\hyperbolics-master'"
      ]
     },
     "execution_count": 12,
     "metadata": {},
     "output_type": "execute_result"
    }
   ],
   "source": [
    "os.getcwd()\n",
    "os.chdir('C:/Users/dreww/Desktop/hyperbolics-master')\n",
    "#sys.path.append('C:\\\\Users\\\\dreww\\\\AppData\\\\Local\\\\Julia\\\\bin')\n",
    "#sys.path.append('C:\\\\Users\\\\dreww\\\\AppData\\\\Local\\Julia-1.3.0\\\\bin\\\\julia.exe')\n",
    "os.getcwd()\n",
    "\n",
    "os.environ['PATH'] += 'C:\\\\Users\\\\dreww\\\\Julia-1.0.5'\n",
    "os.environ['PATH'] += 'C:\\\\Users\\\\dreww\\\\Julia-1.0.5\\\\bin'\n",
    "os.environ['PATH'] += 'C:\\\\Users\\\\dreww\\\\Julia-1.0.5\\\\bin\\\\julia.exe'"
   ]
  },
  {
   "cell_type": "code",
   "execution_count": 10,
   "metadata": {
    "ExecuteTime": {
     "end_time": "2019-12-25T03:30:48.869805Z",
     "start_time": "2019-12-25T03:30:48.847864Z"
    }
   },
   "outputs": [
    {
     "name": "stderr",
     "output_type": "stream",
     "text": [
      "'julia' is not recognized as an internal or external command,\n",
      "operable program or batch file.\n"
     ]
    }
   ],
   "source": [
    "!julia hMDS/hmds-simple.jl -d data/edges/phylo_tree.edges -r 100 -t 0.1 -m savetest.csv"
   ]
  },
  {
   "cell_type": "code",
   "execution_count": 24,
   "metadata": {
    "ExecuteTime": {
     "end_time": "2019-12-25T05:28:58.152885Z",
     "start_time": "2019-12-25T05:28:58.123935Z"
    }
   },
   "outputs": [],
   "source": [
    "import logging, argh\n",
    "import os, sys\n",
    "import networkx as nx\n",
    "import random\n",
    "\n",
    "import torch\n",
    "from torch import nn\n",
    "from torch.autograd import Variable\n",
    "from torch.utils.data import DataLoader, TensorDataset\n",
    "\n",
    "import matplotlib as mpl\n",
    "if torch.cuda.is_available(): mpl.use('Agg')\n",
    "import matplotlib.pyplot as plt\n",
    "if torch.cuda.is_available(): plt.ioff()\n",
    "import scipy\n",
    "import scipy.sparse.csgraph as csg\n",
    "import pandas\n",
    "import numpy as np, math\n",
    "file='tree_emb.final'\n",
    "#root_dir = os.path.dirname(os.path.dirname(os.path.abspath(file)))\n",
    "root_dir = 'C:/Users/dreww/Desktop/hyperbolics-master/pytorch'\n",
    "sys.path.insert(0, root_dir)\n",
    "# import utils.load_graph as load_graph\n",
    "# import utils.vis as vis\n",
    "# import utils.distortions as dis\n",
    "# import graph_helpers as gh\n",
    "# import mds_warmstart\n",
    "from hyperbolic_models import ProductEmbedding\n",
    "import json\n",
    "from hyperbolic_parameter import RParameter\n",
    "\n",
    "#with open(\"wn_IDtoSyns.txt\") as d:\n",
    "#    IDtoSyns = json.load(d)\n",
    "\n",
    "m = torch.load(\"tree_emb.final\")\n",
    "\n",
    "spherical_embs = [S.w for S in m.S]\n",
    "euclidean_embs = [E.w for E in m.E]\n",
    "hyperbolic_embs = [H.w for H in m.H]\n",
    "\n",
    "hyperbolic_matrix = (hyperbolic_embs[0].cpu()).data.numpy()\n",
    "#scale = np.float64(m.scale_params[0].cpu().data.numpy())"
   ]
  },
  {
   "cell_type": "code",
   "execution_count": 25,
   "metadata": {
    "ExecuteTime": {
     "end_time": "2019-12-25T05:29:03.144713Z",
     "start_time": "2019-12-25T05:29:03.138730Z"
    }
   },
   "outputs": [
    {
     "data": {
      "text/plain": [
       "array([[  8.54196263,   4.80725298,  -6.98966697],\n",
       "       [  6.98136848,   4.80765728,  -4.96245275],\n",
       "       [  2.08197652,   0.97064181,  -1.54676459],\n",
       "       ...,\n",
       "       [ 10.42673084,  -2.21606198,  10.13931879],\n",
       "       [ 15.94485411,   3.55507892, -15.51127933],\n",
       "       [ 14.24931037,   6.77737058, -12.49440251]])"
      ]
     },
     "execution_count": 25,
     "metadata": {},
     "output_type": "execute_result"
    }
   ],
   "source": [
    "hyperbolic_matrix"
   ]
  },
  {
   "cell_type": "code",
   "execution_count": null,
   "metadata": {},
   "outputs": [],
   "source": []
  }
 ],
 "metadata": {
  "kernelspec": {
   "display_name": "Python 3",
   "language": "python",
   "name": "python3"
  },
  "language_info": {
   "codemirror_mode": {
    "name": "ipython",
    "version": 3
   },
   "file_extension": ".py",
   "mimetype": "text/x-python",
   "name": "python",
   "nbconvert_exporter": "python",
   "pygments_lexer": "ipython3",
   "version": "3.7.1"
  },
  "nbTranslate": {
   "displayLangs": [
    "*"
   ],
   "hotkey": "alt-t",
   "langInMainMenu": true,
   "sourceLang": "en",
   "targetLang": "fr",
   "useGoogleTranslate": true
  },
  "varInspector": {
   "cols": {
    "lenName": 16,
    "lenType": 16,
    "lenVar": 40
   },
   "kernels_config": {
    "python": {
     "delete_cmd_postfix": "",
     "delete_cmd_prefix": "del ",
     "library": "var_list.py",
     "varRefreshCmd": "print(var_dic_list())"
    },
    "r": {
     "delete_cmd_postfix": ") ",
     "delete_cmd_prefix": "rm(",
     "library": "var_list.r",
     "varRefreshCmd": "cat(var_dic_list()) "
    }
   },
   "types_to_exclude": [
    "module",
    "function",
    "builtin_function_or_method",
    "instance",
    "_Feature"
   ],
   "window_display": false
  }
 },
 "nbformat": 4,
 "nbformat_minor": 2
}
