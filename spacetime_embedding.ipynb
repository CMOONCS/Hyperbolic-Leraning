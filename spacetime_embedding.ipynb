{
 "cells": [
  {
   "cell_type": "markdown",
   "metadata": {},
   "source": [
    "# Embedding graphs in Minkowski spacetime\n",
    "\n",
    "> The views of space and time which I wish to lay before you have sprung from the soil of experimental physics, and therein lies their strength. They are radical. Henceforth space by itself, and time by itself, are doomed to fade away into mere shadows, and only a kind of union of the two will preserve an independent reality. — Hermann Minkowski, 1908"
   ]
  },
  {
   "cell_type": "markdown",
   "metadata": {},
   "source": [
    "![title](lightcone.svg.png)"
   ]
  },
  {
   "cell_type": "markdown",
   "metadata": {},
   "source": [
    "#### **Implementation of Lorentzian graph embeddings:**\n",
    "\n",
    "**[1]** Clough JR, Evans TS (2017) Embedding graphs in Lorentzian spacetime. PLoS ONE 12(11):e0187301. https://doi.org/10.1371/journal.pone.0187301<br>\n",
    "\n",
    "The authors also released their own open-source Python library that can be found here: https://github.com/JamesClough/dagology"
   ]
  },
  {
   "cell_type": "markdown",
   "metadata": {},
   "source": [
    "**Algorithm Outline:**<br>\n",
    "\n",
    "1. For every pair $i$ and $j$ connected by a directed path, find length of the longest directed path between them, $L_{i j}$\n",
    "2. For every other pair, find the naive spacelike distance $N_{i j}$ .\n",
    "3. Create separation matrix, M, such that M_ is $-L_{i j}^{2}$ if there is a path from $i$ to $j$ and\n",
    "$N_{i j}^{2}$ otherwise.\n",
    "4. Use Lorentzian MDS with $\\mathrm{M}$ as the input matrix of squared separations."
   ]
  },
  {
   "cell_type": "markdown",
   "metadata": {},
   "source": [
    "$$\n",
    "M_{i j}=M\\left(\\mathbf{x}_{i}, \\mathbf{x}_{j}\\right)=-c^{2}\\left(x_{i}^{0}-x_{j}^{0}\\right)^{2}+\\sum_{k=1}^{d}\\left(x_{i}^{k}-x_{j}^{k}\\right)^{2}\n",
    "$$"
   ]
  },
  {
   "cell_type": "code",
   "execution_count": 9,
   "metadata": {
    "ExecuteTime": {
     "end_time": "2019-09-24T07:05:43.937508Z",
     "start_time": "2019-09-24T07:05:43.925506Z"
    }
   },
   "outputs": [],
   "source": [
    "# import libraries\n",
    "import numpy as np\n",
    "import matplotlib.pyplot as plt\n",
    "import seaborn as sns\n",
    "# plotting style\n",
    "%matplotlib inline\n",
    "plt.style.use('seaborn')\n",
    "# display multiple outputs within a cell\n",
    "from IPython.core.interactiveshell import InteractiveShell\n",
    "InteractiveShell.ast_node_interactivity = \"all\";\n",
    "# ignore warnings\n",
    "import warnings\n",
    "warnings.filterwarnings('ignore');"
   ]
  },
  {
   "cell_type": "code",
   "execution_count": 10,
   "metadata": {
    "ExecuteTime": {
     "end_time": "2019-09-24T07:05:45.166526Z",
     "start_time": "2019-09-24T07:05:45.154526Z"
    }
   },
   "outputs": [],
   "source": [
    "def ClassicalMDS(dist_matrix, k):\n",
    "    \"\"\"Performs Classical Multidimensional Scaling\n",
    "    Parameters\n",
    "    ----------\n",
    "    dist_matrix : Pairwise dissimilarity/distance matrix (n x n)\n",
    "    k: Dimension of the output configuration\n",
    "    \n",
    "    Returns\n",
    "    -------\n",
    "    X : Matrix with columns as the output configuration vectors (k x n)\n",
    "    \"\"\"\n",
    "    # get shape of distance matrix                                                                         \n",
    "    n = dist_matrix.shape[0]\n",
    "    \n",
    "    # check distance matrix is symmetric\n",
    "    if not np.allclose(np.transpose(dist_matrix),dist_matrix):\n",
    "        print('Distance matrix must be symmetric')\n",
    "        return\n",
    "    \n",
    "    # centering matrix\n",
    "    C = np.identity(n) -(1/n)*np.ones((n,n))\n",
    "    \n",
    "    # compute gram matrix                                                                                    \n",
    "    B = -(1/2)*C.dot(dist_matrix**2).dot(C)\n",
    "    \n",
    "    # solve for eigenvectors and eigenvalues and sort descending                                                   \n",
    "    w, v = np.linalg.eigh(B)                                                  \n",
    "    idx   = np.argsort(w)[::-1]\n",
    "    eigvals = w[idx]\n",
    "    eigvecs = v[:,idx]\n",
    "     \n",
    "    # select k largest eigenvalues and eigenvectors                      \n",
    "    Lambda  = np.diag(np.sqrt(eigvals[:k]))\n",
    "    V  = eigvecs[:,:k]\n",
    "    X  = np.dot(Lambda, np.transpose(V))\n",
    "    X = np.transpose(X)\n",
    "\n",
    "    return X"
   ]
  },
  {
   "cell_type": "code",
   "execution_count": null,
   "metadata": {},
   "outputs": [],
   "source": []
  }
 ],
 "metadata": {
  "kernelspec": {
   "display_name": "Python 3",
   "language": "python",
   "name": "python3"
  },
  "language_info": {
   "codemirror_mode": {
    "name": "ipython",
    "version": 3
   },
   "file_extension": ".py",
   "mimetype": "text/x-python",
   "name": "python",
   "nbconvert_exporter": "python",
   "pygments_lexer": "ipython3",
   "version": "3.7.1"
  },
  "nbTranslate": {
   "displayLangs": [
    "*"
   ],
   "hotkey": "alt-t",
   "langInMainMenu": true,
   "sourceLang": "en",
   "targetLang": "fr",
   "useGoogleTranslate": true
  },
  "varInspector": {
   "cols": {
    "lenName": 16,
    "lenType": 16,
    "lenVar": 40
   },
   "kernels_config": {
    "python": {
     "delete_cmd_postfix": "",
     "delete_cmd_prefix": "del ",
     "library": "var_list.py",
     "varRefreshCmd": "print(var_dic_list())"
    },
    "r": {
     "delete_cmd_postfix": ") ",
     "delete_cmd_prefix": "rm(",
     "library": "var_list.r",
     "varRefreshCmd": "cat(var_dic_list()) "
    }
   },
   "types_to_exclude": [
    "module",
    "function",
    "builtin_function_or_method",
    "instance",
    "_Feature"
   ],
   "window_display": false
  }
 },
 "nbformat": 4,
 "nbformat_minor": 2
}
