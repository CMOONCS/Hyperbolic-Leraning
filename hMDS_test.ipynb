{
 "cells": [
  {
   "cell_type": "markdown",
   "metadata": {},
   "source": [
    "# Testing H-MDS Implementation"
   ]
  },
  {
   "cell_type": "markdown",
   "metadata": {},
   "source": [
    "# Python/Numpy Implementation"
   ]
  },
  {
   "cell_type": "code",
   "execution_count": 3,
   "metadata": {
    "ExecuteTime": {
     "end_time": "2019-07-21T22:21:33.263022Z",
     "start_time": "2019-07-21T22:21:33.255042Z"
    }
   },
   "outputs": [],
   "source": [
    "import numpy as np\n",
    "import pandas as pd\n",
    "import matplotlib.pyplot as plt\n",
    "%matplotlib inline\n",
    "from mpl_toolkits.mplot3d import Axes3D\n",
    "from sklearn.utils import check_random_state\n",
    "\n",
    "# ignore warnings\n",
    "import warnings\n",
    "warnings.filterwarnings('ignore');\n",
    "\n",
    "# display multiple outputs within a cell\n",
    "from IPython.core.interactiveshell import InteractiveShell\n",
    "InteractiveShell.ast_node_interactivity = \"all\";"
   ]
  },
  {
   "cell_type": "code",
   "execution_count": null,
   "metadata": {},
   "outputs": [],
   "source": [
    "def generate_data(n):\n",
    "    theta = np.random.uniform(0, 2*np.pi, n)\n",
    "    u = np.random.uniform(0, 0.7, n)\n",
    "    r = np.sqrt(u)\n",
    "    x = r * np.cos(theta)\n",
    "    y = r * np.sin(theta)\n",
    "    init_data = np.hstack((x.reshape(-1,1), y.reshape(-1,1)))\n",
    "    return init_data"
   ]
  },
  {
   "cell_type": "code",
   "execution_count": 35,
   "metadata": {
    "ExecuteTime": {
     "end_time": "2019-07-21T23:25:25.987752Z",
     "start_time": "2019-07-21T23:25:25.977783Z"
    }
   },
   "outputs": [],
   "source": [
    "from sklearn.metrics import euclidean_distances\n",
    "\n",
    "def norm(x, axis=None):\n",
    "    return np.linalg.norm(x, axis=axis)\n",
    "\n",
    "def conjugate(z):\n",
    "    z_bar = np.array([z[0], -z[1]])\n",
    "    return z_bar\n",
    "\n",
    "def poincare_dist(u, v, eps=1e-5):\n",
    "    d = 1 + 2 * norm(u-v)**2 / ((1 - norm(u)**2) * (1 - norm(v)**2) + eps)\n",
    "    return np.arccosh(d)\n",
    "\n",
    "def partial_d(theta, x):\n",
    "    alpha = 1 - norm(theta)**2\n",
    "    beta = 1 - norm(x)**2\n",
    "    gamma = 1 + 2/(alpha*beta + eps) * norm(theta-x)**2\n",
    "    lhs = 4 / (beta*np.sqrt(gamma**2 - 1) + eps)\n",
    "    rhs = 1/(alpha**2 + eps) * (norm(x)**2 - 2*np.inner(theta,x) + 1) * theta - x/(alpha + eps)\n",
    "    return lhs*rhs"
   ]
  },
  {
   "cell_type": "code",
   "execution_count": 73,
   "metadata": {
    "ExecuteTime": {
     "end_time": "2019-07-21T23:55:43.717480Z",
     "start_time": "2019-07-21T23:55:43.705510Z"
    }
   },
   "outputs": [],
   "source": [
    "def step_error(r, Z, g, dissimilarities, n):\n",
    "        M_r = np.zeros((n, 2))\n",
    "        for j in range(n):\n",
    "            M_r[j] = (-r*g[j] + Z[j]) / (-r*g[j] * conjugate(Z[j]) + 1)\n",
    "            #print(M_r[j])\n",
    "        return loss_fn(M_r, dissimilarities, n)\n",
    "\n",
    "def line_search(Z, dissimilarities, g, n, r0, rmax):\n",
    "    Z_norm = norm(Z, axis=1)**2\n",
    "    M_prime = g*Z_norm.reshape(-1,1)\n",
    "    qprime_0 = np.dot(M_prime[:,0].T, g[:,0]) + np.dot(M_prime[:,1].T, g[:,1])\n",
    "    p = 0.5\n",
    "    r = r0\n",
    "    roof_fn = lambda r: step_error(0, Z, g, dissimilarities, n)+p*qprime_0*r\n",
    "    rmin = 1e-5\n",
    "    while rmin < r < rmax and step_error(r, Z, g, dissimilarities, n) < roof_fn(r):\n",
    "        r = 2*r\n",
    "    while r > rmax or step_error(r, Z, g, dissimilarities, n) > roof_fn(r):\n",
    "        r = r/2\n",
    "    return r"
   ]
  },
  {
   "cell_type": "code",
   "execution_count": 74,
   "metadata": {
    "ExecuteTime": {
     "end_time": "2019-07-21T23:55:44.877057Z",
     "start_time": "2019-07-21T23:55:44.855115Z"
    }
   },
   "outputs": [],
   "source": [
    "class HyperMDS():\n",
    "    \n",
    "    def __init__(self, dim=2, max_iter=3, verbose=0, eps=1e-3, alpha=1,\n",
    "                 random_state=None, dissimilarity=\"euclidean\"):\n",
    "        self.dim = dim\n",
    "        self.dissimilarity = dissimilarity\n",
    "        self.max_iter = max_iter\n",
    "        self.alpha = alpha\n",
    "        self.eps = eps\n",
    "        self.verbose = verbose\n",
    "        self.random_state = random_state\n",
    "        \n",
    "    def init_embed(self, low=-0.1, high=0.1):\n",
    "        rand_init = np.random.uniform(low, high, size=(self.n, self.dim))\n",
    "        self.embedding = rand_init\n",
    "    \n",
    "    def loss_fn(self):\n",
    "        loss = 0\n",
    "        for i in range(self.n):\n",
    "            for j in range(i+1, self.n):\n",
    "                d_ij = poincare_dist(self.embedding[i], self.embedding[j])\n",
    "                delta_ij = self.alpha*self.dissimilarity_matrix[i][j]\n",
    "                loss += (d_ij - delta_ij)**2\n",
    "        self.loss = loss\n",
    "\n",
    "    def compute_gradients(self):\n",
    "        gradients = np.zeros((self.n, 2))\n",
    "        for i in range(n):\n",
    "            grad_zi = 0\n",
    "            for j in range(i+1, n):\n",
    "                dd_ij = 2*poincare_dist(self.embedding[i], self.embedding[j])\n",
    "                ddelta_ij = 2*self.alpha*self.dissimilarity_matrix[i][j]\n",
    "                dd_loss = dd_ij - ddelta_ij\n",
    "                dd_dist = partial_d(self.embedding[i], self.embedding[j])\n",
    "                grad_zi += dd_loss * dd_dist\n",
    "            gradients[i] = grad_zi\n",
    "        self.gradients = gradients\n",
    "    \n",
    "    def fit(self, X, init=None):\n",
    "        \"\"\"\n",
    "        Uses gradient descent to find the embedding configuration in the Poincaré disk\n",
    "        Parameters\n",
    "        ----------\n",
    "        X : array, shape (n_samples, n_features) or (n_samples, n_samples)\n",
    "            Input data. If ``dissimilarity=='precomputed'``, the input should\n",
    "            be the dissimilarity matrix.\n",
    "        init: initial configuration of the embedding coordinates\n",
    "        \"\"\"\n",
    "        self.fit_transform(X, init=init)\n",
    "        return self\n",
    "\n",
    "    def fit_transform(self, X, init=None, max_epochs = 40):\n",
    "        \"\"\"\n",
    "        Fit the embedding from X, and return the embedding coordinates\n",
    "        Parameters\n",
    "        ----------\n",
    "        X : array, shape (n_samples, n_features) or (n_samples, n_samples)\n",
    "            Input data. If ``dissimilarity=='precomputed'``, the input should\n",
    "            be the dissimilarity matrix.\n",
    "        init: initial configuration of the embedding coordinates\n",
    "        \"\"\"\n",
    "        if self.dissimilarity == \"precomputed\":\n",
    "            self.dissimilarity_matrix = X\n",
    "        elif self.dissimilarity == \"euclidean\":\n",
    "            self.dissimilarity_matrix = euclidean_distances(X)\n",
    "        self.n = self.dissimilarity_matrix.shape[0]\n",
    "        \n",
    "        self.init_embed()\n",
    "        \n",
    "        #error_tol =\n",
    "        #min_grad = \n",
    "        #min_step = \n",
    "        smax = 1\n",
    "        for i in range(max_epochs):\n",
    "            self.loss_fn()\n",
    "            self.compute_gradients()\n",
    "            rmax = 1/(norm(self.gradients, axis=1).max()+eps) * np.tanh(smax/2)\n",
    "            r = line_search(self.embedding, self.dissimilarity_matrix, self.gradients,\n",
    "                            self.n, 0.001, rmax)\n",
    "            for i in range(n):\n",
    "                zi_num = -r*self.gradients[i] + self.embedding[i]\n",
    "                zi_denom = -r*self.gradients[i] * conjugate(self.embedding[i]) + 1\n",
    "                zi_prime = zi_num / zi_denom\n",
    "                self.embedding[i] = zi_prime\n",
    "        return self.embedding"
   ]
  },
  {
   "cell_type": "code",
   "execution_count": 75,
   "metadata": {
    "ExecuteTime": {
     "end_time": "2019-07-21T23:55:46.956655Z",
     "start_time": "2019-07-21T23:55:46.951667Z"
    }
   },
   "outputs": [],
   "source": [
    "data = generate_data(100)"
   ]
  },
  {
   "cell_type": "code",
   "execution_count": 76,
   "metadata": {
    "ExecuteTime": {
     "end_time": "2019-07-22T00:02:24.398472Z",
     "start_time": "2019-07-21T23:55:48.110738Z"
    }
   },
   "outputs": [
    {
     "data": {
      "text/plain": [
       "array([[-0.27212744, -0.09199471],\n",
       "       [ 0.18569313, -0.15035795],\n",
       "       [ 0.29365332,  0.11530551],\n",
       "       [ 0.07167612, -0.33644151],\n",
       "       [-0.29611375, -0.03226222],\n",
       "       [ 0.05843849,  0.17965044],\n",
       "       [ 0.00056943, -0.16718526],\n",
       "       [ 0.01184443,  0.16216867],\n",
       "       [-0.04030209, -0.05138577],\n",
       "       [ 0.06905725,  0.07966029],\n",
       "       [-0.06689605,  0.02298933],\n",
       "       [-0.08086492, -0.08234326],\n",
       "       [ 0.08106672,  0.07505054],\n",
       "       [-0.09055934,  0.01303284],\n",
       "       [ 0.00560656,  0.05228473],\n",
       "       [-0.08848942, -0.06050678],\n",
       "       [-0.0152004 , -0.04393885],\n",
       "       [ 0.03251869, -0.08660296],\n",
       "       [-0.06748233,  0.00543495],\n",
       "       [ 0.03067515, -0.00097942],\n",
       "       [-0.0436716 , -0.03568192],\n",
       "       [ 0.09555263, -0.09278201],\n",
       "       [-0.05903991,  0.01481355],\n",
       "       [-0.02890291, -0.07342804],\n",
       "       [-0.02938281, -0.05050635],\n",
       "       [-0.0312846 , -0.01647484],\n",
       "       [ 0.02631812, -0.04046839],\n",
       "       [ 0.09041732,  0.01893726],\n",
       "       [ 0.08449454, -0.08681288],\n",
       "       [ 0.02962616, -0.01327281],\n",
       "       [ 0.08969821, -0.01743306],\n",
       "       [-0.01209697, -0.07486155],\n",
       "       [-0.08158539,  0.0106257 ],\n",
       "       [-0.0769242 ,  0.01540133],\n",
       "       [-0.0225055 ,  0.03317977],\n",
       "       [-0.05364562, -0.02763868],\n",
       "       [ 0.07149689, -0.0250986 ],\n",
       "       [ 0.01498853, -0.09211121],\n",
       "       [-0.064741  , -0.03829575],\n",
       "       [-0.06050011, -0.01068352],\n",
       "       [ 0.04676401,  0.00253926],\n",
       "       [ 0.03681644, -0.0158149 ],\n",
       "       [-0.07092272, -0.02289392],\n",
       "       [-0.05645299,  0.05759495],\n",
       "       [-0.00245063, -0.0705597 ],\n",
       "       [-0.08274255, -0.05816635],\n",
       "       [ 0.0273812 ,  0.06869283],\n",
       "       [-0.0454068 ,  0.08414608],\n",
       "       [ 0.08586672,  0.0460098 ],\n",
       "       [-0.0793516 ,  0.00630539],\n",
       "       [-0.05104374,  0.00169814],\n",
       "       [-0.0442234 ,  0.0049836 ],\n",
       "       [ 0.06666392,  0.03813412],\n",
       "       [-0.07936897,  0.06768258],\n",
       "       [-0.00697383,  0.06889354],\n",
       "       [-0.0488076 , -0.0721596 ],\n",
       "       [-0.0825723 , -0.09596529],\n",
       "       [ 0.09941748,  0.0137951 ],\n",
       "       [ 0.0003749 ,  0.00635718],\n",
       "       [ 0.03930284, -0.004643  ],\n",
       "       [ 0.06427735, -0.06962028],\n",
       "       [-0.04159133,  0.07374347],\n",
       "       [ 0.0048303 , -0.00886644],\n",
       "       [-0.07295984,  0.02219492],\n",
       "       [-0.08578403,  0.08602149],\n",
       "       [-0.03504815, -0.09060419],\n",
       "       [-0.07228656, -0.06920134],\n",
       "       [ 0.09514375,  0.04523428],\n",
       "       [ 0.0457086 ,  0.06920412],\n",
       "       [ 0.03511755,  0.01072562],\n",
       "       [-0.00309915, -0.03567741],\n",
       "       [ 0.07918544, -0.06797696],\n",
       "       [-0.02249895,  0.02976268],\n",
       "       [ 0.07302487,  0.00645421],\n",
       "       [-0.03541936,  0.09349811],\n",
       "       [-0.01842775, -0.0067945 ],\n",
       "       [-0.02218147, -0.07872672],\n",
       "       [ 0.04968045, -0.08206345],\n",
       "       [-0.07694796, -0.05778546],\n",
       "       [ 0.01526699, -0.03210069],\n",
       "       [ 0.02378694, -0.05466681],\n",
       "       [-0.09369056,  0.06301298],\n",
       "       [-0.03293818, -0.02054141],\n",
       "       [-0.07281362, -0.06142094],\n",
       "       [-0.00471329,  0.05513687],\n",
       "       [ 0.06361873, -0.05458592],\n",
       "       [ 0.04468693, -0.04188081],\n",
       "       [-0.0459704 ,  0.0960917 ],\n",
       "       [ 0.03070071,  0.08182376],\n",
       "       [-0.03406974,  0.05570222],\n",
       "       [ 0.08058554, -0.08543104],\n",
       "       [ 0.03493586,  0.04212942],\n",
       "       [ 0.00336012,  0.08518973],\n",
       "       [ 0.04956698,  0.0096052 ],\n",
       "       [-0.09407242, -0.01897225],\n",
       "       [ 0.01842575, -0.07546658],\n",
       "       [-0.07036728, -0.04178241],\n",
       "       [-0.09439832,  0.02843689],\n",
       "       [-0.02751201, -0.06774605],\n",
       "       [ 0.0705778 ,  0.02183578]])"
      ]
     },
     "execution_count": 76,
     "metadata": {},
     "output_type": "execute_result"
    },
    {
     "data": {
      "text/plain": [
       "2148.7002811424118"
      ]
     },
     "execution_count": 76,
     "metadata": {},
     "output_type": "execute_result"
    }
   ],
   "source": [
    "hmds = HyperMDS()\n",
    "hmds.fit_transform(data)\n",
    "hmds.loss"
   ]
  },
  {
   "cell_type": "code",
   "execution_count": 2,
   "metadata": {
    "ExecuteTime": {
     "end_time": "2019-07-21T22:21:23.410946Z",
     "start_time": "2019-07-21T22:21:23.358140Z"
    }
   },
   "outputs": [
    {
     "data": {
      "text/html": [
       "<style>\n",
       "    @font-face {\n",
       "        font-family: \"Computer Modern\";\n",
       "        src: url('http://9dbb143991406a7c655e-aa5fcb0a5a4ec34cff238a2d56ca4144.r56.cf5.rackcdn.com/cmunss.otf');\n",
       "    }\n",
       "    @font-face {\n",
       "        font-family: \"Computer Modern\";\n",
       "        font-weight: bold;\n",
       "        src: url('http://9dbb143991406a7c655e-aa5fcb0a5a4ec34cff238a2d56ca4144.r56.cf5.rackcdn.com/cmunsx.otf');\n",
       "    }\n",
       "    @font-face {\n",
       "        font-family: \"Computer Modern\";\n",
       "        font-style: oblique;\n",
       "        src: url('http://9dbb143991406a7c655e-aa5fcb0a5a4ec34cff238a2d56ca4144.r56.cf5.rackcdn.com/cmunsi.otf');\n",
       "    }\n",
       "    @font-face {\n",
       "        font-family: \"Computer Modern\";\n",
       "        font-weight: bold;\n",
       "        font-style: oblique;\n",
       "        src: url('http://9dbb143991406a7c655e-aa5fcb0a5a4ec34cff238a2d56ca4144.r56.cf5.rackcdn.com/cmunso.otf');\n",
       "    }\n",
       "    div.cell{\n",
       "        width:800px;\n",
       "        margin-left:16% !important;\n",
       "        margin-right:auto;\n",
       "    }\n",
       "    h1 {\n",
       "        font-family: Helvetica, serif;\n",
       "    }\n",
       "    h4{\n",
       "        margin-top:12px;\n",
       "        margin-bottom: 3px;\n",
       "       }\n",
       "    div.text_cell_render{\n",
       "        font-family: Computer Modern, \"Helvetica Neue\", Arial, Helvetica, Geneva, sans-serif;\n",
       "        line-height: 145%;\n",
       "        font-size: 130%;\n",
       "        width:800px;\n",
       "        margin-left:auto;\n",
       "        margin-right:auto;\n",
       "    }\n",
       "    .CodeMirror{\n",
       "            font-family: \"Source Code Pro\", source-code-pro,Consolas, monospace;\n",
       "    }\n",
       "    .prompt{\n",
       "        display: None;\n",
       "    }\n",
       "    .text_cell_render h5 {\n",
       "        font-weight: 300;\n",
       "        font-size: 22pt;\n",
       "        color: #4057A1;\n",
       "        font-style: italic;\n",
       "        margin-bottom: .5em;\n",
       "        margin-top: 0.5em;\n",
       "        display: block;\n",
       "    }\n",
       "    \n",
       "    .warning{\n",
       "        color: rgb( 240, 20, 20 )\n",
       "        }  \n",
       "</style>"
      ],
      "text/plain": [
       "<IPython.core.display.HTML object>"
      ]
     },
     "execution_count": 2,
     "metadata": {},
     "output_type": "execute_result"
    }
   ],
   "source": [
    "from IPython.core.display import HTML\n",
    "\n",
    "def css_styling():\n",
    "    styles = open(\"custom_style.css\", \"r\").read()\n",
    "    return HTML(styles)\n",
    "css_styling()"
   ]
  }
 ],
 "metadata": {
  "kernelspec": {
   "display_name": "Python 3",
   "language": "python",
   "name": "python3"
  },
  "language_info": {
   "codemirror_mode": {
    "name": "ipython",
    "version": 3
   },
   "file_extension": ".py",
   "mimetype": "text/x-python",
   "name": "python",
   "nbconvert_exporter": "python",
   "pygments_lexer": "ipython3",
   "version": "3.7.1"
  },
  "nbTranslate": {
   "displayLangs": [
    "*"
   ],
   "hotkey": "alt-t",
   "langInMainMenu": true,
   "sourceLang": "en",
   "targetLang": "fr",
   "useGoogleTranslate": true
  },
  "varInspector": {
   "cols": {
    "lenName": 16,
    "lenType": 16,
    "lenVar": 40
   },
   "kernels_config": {
    "python": {
     "delete_cmd_postfix": "",
     "delete_cmd_prefix": "del ",
     "library": "var_list.py",
     "varRefreshCmd": "print(var_dic_list())"
    },
    "r": {
     "delete_cmd_postfix": ") ",
     "delete_cmd_prefix": "rm(",
     "library": "var_list.r",
     "varRefreshCmd": "cat(var_dic_list()) "
    }
   },
   "types_to_exclude": [
    "module",
    "function",
    "builtin_function_or_method",
    "instance",
    "_Feature"
   ],
   "window_display": false
  }
 },
 "nbformat": 4,
 "nbformat_minor": 2
}
