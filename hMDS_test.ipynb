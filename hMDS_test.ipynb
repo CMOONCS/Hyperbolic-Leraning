{
 "cells": [
  {
   "cell_type": "markdown",
   "metadata": {},
   "source": [
    "# Testing H-MDS Implementation"
   ]
  },
  {
   "cell_type": "markdown",
   "metadata": {},
   "source": [
    "# Python/Numpy Implementation"
   ]
  },
  {
   "cell_type": "code",
   "execution_count": 106,
   "metadata": {
    "ExecuteTime": {
     "end_time": "2019-07-22T01:16:25.750005Z",
     "start_time": "2019-07-22T01:16:25.721083Z"
    }
   },
   "outputs": [],
   "source": [
    "import numpy as np\n",
    "import pandas as pd\n",
    "import matplotlib.pyplot as plt\n",
    "%matplotlib inline\n",
    "from mpl_toolkits.mplot3d import Axes3D\n",
    "from sklearn.utils import check_random_state\n",
    "import time\n",
    "# ignore warnings\n",
    "import warnings\n",
    "warnings.filterwarnings('ignore');\n",
    "\n",
    "# display multiple outputs within a cell\n",
    "from IPython.core.interactiveshell import InteractiveShell\n",
    "InteractiveShell.ast_node_interactivity = \"all\";"
   ]
  },
  {
   "cell_type": "code",
   "execution_count": null,
   "metadata": {},
   "outputs": [],
   "source": [
    "def generate_data(n):\n",
    "    theta = np.random.uniform(0, 2*np.pi, n)\n",
    "    u = np.random.uniform(0, 0.7, n)\n",
    "    r = np.sqrt(u)\n",
    "    x = r * np.cos(theta)\n",
    "    y = r * np.sin(theta)\n",
    "    init_data = np.hstack((x.reshape(-1,1), y.reshape(-1,1)))\n",
    "    return init_data"
   ]
  },
  {
   "cell_type": "code",
   "execution_count": 104,
   "metadata": {
    "ExecuteTime": {
     "end_time": "2019-07-22T01:15:12.253101Z",
     "start_time": "2019-07-22T01:15:12.242125Z"
    }
   },
   "outputs": [],
   "source": [
    "from sklearn.metrics import euclidean_distances\n",
    "\n",
    "def norm(x, axis=None):\n",
    "    return np.linalg.norm(x, axis=axis)\n",
    "\n",
    "def conjugate(z):\n",
    "    z_bar = np.array([z[0], -z[1]])\n",
    "    return z_bar\n",
    "\n",
    "def poincare_dist(u, v, eps=1e-6):\n",
    "    d = 1 + 2 * norm(u-v)**2 / ((1 - norm(u)**2) * (1 - norm(v)**2) + eps)\n",
    "    return np.arccosh(d)\n",
    "\n",
    "def partial_d(theta, x):\n",
    "    alpha = 1 - norm(theta)**2\n",
    "    beta = 1 - norm(x)**2\n",
    "    gamma = 1 + 2/(alpha*beta + eps) * norm(theta-x)**2\n",
    "    lhs = 4 / (beta*np.sqrt(gamma**2 - 1) + eps)\n",
    "    rhs = 1/(alpha**2 + eps) * (norm(x)**2 - 2*np.inner(theta,x) + 1) * theta - x/(alpha + eps)\n",
    "    return lhs*rhs"
   ]
  },
  {
   "cell_type": "code",
   "execution_count": 283,
   "metadata": {
    "ExecuteTime": {
     "end_time": "2019-07-22T03:03:04.455127Z",
     "start_time": "2019-07-22T03:03:04.445157Z"
    }
   },
   "outputs": [],
   "source": [
    "def step_error(r, Z, g, dissimilarities, n):\n",
    "        M_r = np.zeros((n, 2))\n",
    "        for j in range(n):\n",
    "            M_r[j] = (-r*g[j] + Z[j]) / (-r*g[j] * conjugate(Z[j]) + 1)\n",
    "            #print(M_r[j])\n",
    "        return loss_fn(M_r, dissimilarities, n)\n",
    "\n",
    "def line_search(Z, dissimilarities, g, n, r0, rmax):\n",
    "    Z_norm = norm(Z, axis=1)**2\n",
    "    M_prime = g*Z_norm.reshape(-1,1)\n",
    "    qprime_0 = np.dot(M_prime[:,0].T, g[:,0]) + np.dot(M_prime[:,1].T, g[:,1])\n",
    "    p = 0.9\n",
    "    r = r0\n",
    "    q0 = step_error(0, Z, g, dissimilarities, n)\n",
    "    roof_fn = lambda r:q0 + p*qprime_0*r\n",
    "    rmin = 1e-5\n",
    "    while rmin < r < rmax and step_error(r, Z, g, dissimilarities, n) < roof_fn(r):\n",
    "        #print(step_error(r, Z, g, dissimilarities, n))\n",
    "        r = 2*r\n",
    "    while r > rmax or step_error(r, Z, g, dissimilarities, n) > roof_fn(r):\n",
    "        #print(step_error(r, Z, g, dissimilarities, n))\n",
    "        if r < rmin:\n",
    "            break\n",
    "        r = r/2\n",
    "    return r"
   ]
  },
  {
   "cell_type": "code",
   "execution_count": 300,
   "metadata": {
    "ExecuteTime": {
     "end_time": "2019-07-22T03:13:28.294083Z",
     "start_time": "2019-07-22T03:13:28.259175Z"
    }
   },
   "outputs": [],
   "source": [
    "class HyperMDS():\n",
    "    \n",
    "    def __init__(self, dim=2, max_iter=3, verbose=0, eps=1e-3, alpha=1,\n",
    "                 random_state=None, dissimilarity=\"euclidean\"):\n",
    "        self.dim = dim\n",
    "        self.dissimilarity = dissimilarity\n",
    "        self.max_iter = max_iter\n",
    "        self.alpha = alpha\n",
    "        self.eps = eps\n",
    "        self.verbose = verbose\n",
    "        self.random_state = random_state\n",
    "        \n",
    "    def init_embed(self, low=-0.3, high=0.3):\n",
    "        rand_init = np.random.uniform(low, high, size=(self.n, self.dim))\n",
    "        self.embedding = rand_init\n",
    "    \n",
    "    def loss_fn(self):\n",
    "        loss = 0\n",
    "        for i in range(self.n):\n",
    "            for j in range(i+1, self.n):\n",
    "                d_ij = poincare_dist(self.embedding[i], self.embedding[j])\n",
    "                delta_ij = self.alpha*self.dissimilarity_matrix[i][j]\n",
    "                loss += (d_ij - delta_ij)**2\n",
    "        self.loss = loss\n",
    "\n",
    "    def compute_gradients(self):\n",
    "        gradients = np.zeros((self.n, 2))\n",
    "        for i in range(n):\n",
    "            grad_zi = 0\n",
    "            for j in range(i+1, n):\n",
    "                dd_ij = 2*poincare_dist(self.embedding[i], self.embedding[j])\n",
    "                ddelta_ij = 2*self.alpha*self.dissimilarity_matrix[i][j]\n",
    "                dd_loss = dd_ij - ddelta_ij\n",
    "                dd_dist = partial_d(self.embedding[i], self.embedding[j])\n",
    "                grad_zi += dd_loss * dd_dist\n",
    "            gradients[i] = grad_zi\n",
    "        self.gradients = gradients\n",
    "    \n",
    "    def fit(self, X, init=None):\n",
    "        \"\"\"\n",
    "        Uses gradient descent to find the embedding configuration in the Poincaré disk\n",
    "        Parameters\n",
    "        ----------\n",
    "        X : array, shape (n_samples, n_features) or (n_samples, n_samples)\n",
    "            Input data. If ``dissimilarity=='precomputed'``, the input should\n",
    "            be the dissimilarity matrix.\n",
    "        init: initial configuration of the embedding coordinates\n",
    "        \"\"\"\n",
    "        self.fit_transform(X, init=init)\n",
    "        return self\n",
    "\n",
    "    def fit_transform(self, X, init=None, max_epochs = 40):\n",
    "        \"\"\"\n",
    "        Fit the embedding from X, and return the embedding coordinates\n",
    "        Parameters\n",
    "        ----------\n",
    "        X : array, shape (n_samples, n_features) or (n_samples, n_samples)\n",
    "            Input data. If ``dissimilarity=='precomputed'``, the input should\n",
    "            be the dissimilarity matrix.\n",
    "        init: initial configuration of the embedding coordinates\n",
    "        \"\"\"\n",
    "        if self.dissimilarity == \"precomputed\":\n",
    "            self.dissimilarity_matrix = X\n",
    "        elif self.dissimilarity == \"euclidean\":\n",
    "            self.dissimilarity_matrix = euclidean_distances(X)\n",
    "        self.n = self.dissimilarity_matrix.shape[0]\n",
    "        \n",
    "        self.init_embed()\n",
    "        \n",
    "        #error_tol =\n",
    "        #min_grad = \n",
    "        #min_step = \n",
    "        smax = 1\n",
    "        loss_time = 0\n",
    "        grad_time = 0\n",
    "        line_time = 0\n",
    "        prev_loss = np.inf\n",
    "        self.loss_fn()\n",
    "        print('Inital loss: ', self.loss)\n",
    "        for i in range(max_epochs):\n",
    "            start = time.time()\n",
    "            self.loss_fn()\n",
    "            #if np.abs(self.loss - prev_loss)/self.loss < 0.001:\n",
    "            #    print('loss decrease not sufficient')\n",
    "            #    break\n",
    "            #prev_loss = self.loss\n",
    "            end = time.time()\n",
    "            loss_time += end - start\n",
    "            start = time.time()\n",
    "            self.compute_gradients()\n",
    "            end = time.time()\n",
    "            grad_time += end - start\n",
    "            rmax = 1/(norm(self.gradients, axis=1).max()+eps) * np.tanh(smax/2)\n",
    "            start = time.time()\n",
    "            r = line_search(self.embedding, self.dissimilarity_matrix, self.gradients,\n",
    "                            self.n, 0.001, rmax)\n",
    "            print(r)\n",
    "            end = time.time()\n",
    "            line_time += end - start\n",
    "            for j in range(self.n):\n",
    "                zi_num = -r*self.gradients[j] + self.embedding[j]\n",
    "                zi_denom = -r*self.gradients[j] * conjugate(self.embedding[j]) + 1\n",
    "                zi_prime = zi_num / zi_denom\n",
    "                self.embedding[j] = zi_prime\n",
    "            print('Epoch ' +str(i) + ' complete')\n",
    "            print('Loss: ', self.loss)\n",
    "        print('Loss time: ', loss_time)\n",
    "        print('Gradient time: ', grad_time)\n",
    "        print('Line search time: ', line_time)\n",
    "        return self.embedding"
   ]
  },
  {
   "cell_type": "code",
   "execution_count": 301,
   "metadata": {
    "ExecuteTime": {
     "end_time": "2019-07-22T03:13:32.670342Z",
     "start_time": "2019-07-22T03:13:32.666354Z"
    }
   },
   "outputs": [],
   "source": [
    "data = generate_data(100)"
   ]
  },
  {
   "cell_type": "code",
   "execution_count": 302,
   "metadata": {
    "ExecuteTime": {
     "end_time": "2019-07-22T03:13:44.167211Z",
     "start_time": "2019-07-22T03:13:33.954351Z"
    }
   },
   "outputs": [
    {
     "name": "stdout",
     "output_type": "stream",
     "text": [
      "Inital loss:  1162.7648774135641\n",
      "0.032\n",
      "Epoch 0 complete\n",
      "Loss:  1162.7648774135641\n",
      "0.016\n",
      "Epoch 1 complete\n",
      "Loss:  1157.4890941964836\n",
      "0.032\n",
      "Epoch 2 complete\n",
      "Loss:  1156.9987856414396\n",
      "0.064\n",
      "Epoch 3 complete\n",
      "Loss:  1156.3531818828185\n",
      "0.032\n",
      "Epoch 4 complete\n",
      "Loss:  1154.110239625411\n",
      "0.032\n",
      "Epoch 5 complete\n",
      "Loss:  1148.9814689816144\n",
      "0.032\n",
      "Epoch 6 complete\n",
      "Loss:  1146.8135251445863\n",
      "0.016\n",
      "Epoch 7 complete\n",
      "Loss:  1145.2443158278995\n",
      "0.001\n",
      "Epoch 8 complete\n",
      "Loss:  1144.928284006943\n",
      "7.8125e-06\n",
      "Epoch 9 complete\n",
      "Loss:  1144.9312351621447\n",
      "Loss time:  1.0044283866882324\n",
      "Gradient time:  0.027965307235717773\n",
      "Line search time:  9.042980194091797\n"
     ]
    },
    {
     "data": {
      "text/plain": [
       "1144.9312351621447"
      ]
     },
     "execution_count": 302,
     "metadata": {},
     "output_type": "execute_result"
    }
   ],
   "source": [
    "hmds = HyperMDS()\n",
    "emb = hmds.fit_transform(data, max_epochs=10)\n",
    "hmds.loss"
   ]
  },
  {
   "cell_type": "code",
   "execution_count": 295,
   "metadata": {
    "ExecuteTime": {
     "end_time": "2019-07-22T03:09:25.930260Z",
     "start_time": "2019-07-22T03:09:25.794586Z"
    }
   },
   "outputs": [
    {
     "data": {
      "text/plain": [
       "22.229517101942232"
      ]
     },
     "execution_count": 295,
     "metadata": {},
     "output_type": "execute_result"
    }
   ],
   "source": [
    "def sammon_stress(embedding, dissimilarity_matrix, alpha=1):\n",
    "    stress = 0\n",
    "    scale = 0\n",
    "    n = embedding.shape[0]\n",
    "    for i in range(n):\n",
    "        for j in range(i+1, n):\n",
    "            d_ij = poincare_dist(embedding[i], embedding[j])\n",
    "            delta_ij = alpha * dissimilarity_matrix[i][j]\n",
    "            scale += delta_ij\n",
    "            stress += ((d_ij - alpha*delta_ij) / alpha*delta_ij)**2\n",
    "    scale=alpha*scale\n",
    "    return stress/scale\n",
    "sammon_stress(emb, hmds.dissimilarity_matrix)"
   ]
  },
  {
   "cell_type": "code",
   "execution_count": 289,
   "metadata": {
    "ExecuteTime": {
     "end_time": "2019-07-22T03:05:13.477291Z",
     "start_time": "2019-07-22T03:05:13.466321Z"
    }
   },
   "outputs": [
    {
     "data": {
      "text/plain": [
       "(150, 4)"
      ]
     },
     "execution_count": 289,
     "metadata": {},
     "output_type": "execute_result"
    }
   ],
   "source": [
    "from sklearn.datasets import load_iris\n",
    "iris = load_iris()\n",
    "data = iris['data']\n",
    "data.shape"
   ]
  },
  {
   "cell_type": "code",
   "execution_count": 296,
   "metadata": {
    "ExecuteTime": {
     "end_time": "2019-07-22T03:10:35.572878Z",
     "start_time": "2019-07-22T03:09:55.642361Z"
    }
   },
   "outputs": [
    {
     "name": "stdout",
     "output_type": "stream",
     "text": [
      "Inital loss:  1498066.3684449508\n",
      "0.008\n",
      "Epoch 0 complete\n",
      "Loss:  1498066.3684449508\n",
      "0.008\n",
      "Epoch 1 complete\n",
      "Loss:  1489329.852131235\n",
      "3.125e-05\n",
      "Epoch 2 complete\n",
      "Loss:  1477006.099800636\n",
      "1.5625e-05\n",
      "Epoch 3 complete\n",
      "Loss:  1477111.5192979933\n",
      "1.5625e-05\n",
      "Epoch 4 complete\n",
      "Loss:  1477159.7787977192\n",
      "1.5625e-05\n",
      "Epoch 5 complete\n",
      "Loss:  1477205.936787915\n",
      "1.5625e-05\n",
      "Epoch 6 complete\n",
      "Loss:  1477250.1284380825\n",
      "1.5625e-05\n",
      "Epoch 7 complete\n",
      "Loss:  1477292.476345776\n",
      "1.5625e-05\n",
      "Epoch 8 complete\n",
      "Loss:  1477333.0920528965\n",
      "1.5625e-05\n",
      "Epoch 9 complete\n",
      "Loss:  1477372.0773390275\n",
      "3.125e-05\n",
      "Epoch 10 complete\n",
      "Loss:  1477409.525330292\n",
      "6.25e-05\n",
      "Epoch 11 complete\n",
      "Loss:  1477481.2080377587\n",
      "0.000125\n",
      "Epoch 12 complete\n",
      "Loss:  1477612.745796008\n",
      "0.0005\n",
      "Epoch 13 complete\n",
      "Loss:  1477835.3728416637\n",
      "0.008\n",
      "Epoch 14 complete\n",
      "Loss:  1478450.9201236144\n",
      "0.004\n",
      "Epoch 15 complete\n",
      "Loss:  1478247.67149022\n",
      "0.004\n",
      "Epoch 16 complete\n",
      "Loss:  1474514.997074454\n",
      "7.8125e-06\n",
      "Epoch 17 complete\n",
      "Loss:  1472068.446371668\n",
      "7.8125e-06\n",
      "Epoch 18 complete\n",
      "Loss:  1472066.5124045047\n",
      "7.8125e-06\n",
      "Epoch 19 complete\n",
      "Loss:  1472064.5813715113\n",
      "Loss time:  4.719833850860596\n",
      "Gradient time:  0.05879974365234375\n",
      "Line search time:  34.60559844970703\n"
     ]
    },
    {
     "data": {
      "text/plain": [
       "1472064.5813715113"
      ]
     },
     "execution_count": 296,
     "metadata": {},
     "output_type": "execute_result"
    },
    {
     "data": {
      "text/plain": [
       "1090.8751043797115"
      ]
     },
     "execution_count": 296,
     "metadata": {},
     "output_type": "execute_result"
    }
   ],
   "source": [
    "hmds = HyperMDS(alpha=4)\n",
    "iris_emb = hmds.fit_transform(data, max_epochs=20)\n",
    "hmds.loss\n",
    "sammon_stress(iris_emb, hmds.dissimilarity_matrix, alpha=4)"
   ]
  },
  {
   "cell_type": "code",
   "execution_count": 298,
   "metadata": {
    "ExecuteTime": {
     "end_time": "2019-07-22T03:11:06.430761Z",
     "start_time": "2019-07-22T03:11:06.258221Z"
    }
   },
   "outputs": [
    {
     "data": {
      "image/png": "[encoded data removed]",
      "text/plain": [
       "<Figure size 432x432 with 1 Axes>"
      ]
     },
     "metadata": {
      "needs_background": "light"
     },
     "output_type": "display_data"
    }
   ],
   "source": [
    "def plot_poincare(data, title=None):\n",
    "    fig = plt.figure(figsize=(6,6))\n",
    "    ax = fig.add_subplot(111)\n",
    "    circ = plt.Circle((0, 0), radius=1, edgecolor='black', facecolor='None', linewidth=3, alpha=0.5)\n",
    "    ax.add_patch(circ)\n",
    "    ax.scatter(data[:,0], data[:,1], s=20, alpha=1)\n",
    "    if title != None: plt.title(title)\n",
    "    plt.show()\n",
    "init = np.random.uniform(-0.3, 0.3, size=(100, 2))\n",
    "#plot_poincare(emb)\n",
    "#plot_poincare(init)\n",
    "plot_poincare(iris_emb)"
   ]
  },
  {
   "cell_type": "code",
   "execution_count": null,
   "metadata": {},
   "outputs": [],
   "source": [
    "def poincare_dist(u, v, eps=1e-6):\n",
    "    d = 1 + 2 * norm(u-v)**2 / ((1 - norm(u)**2) * (1 - norm(v)**2) + eps)\n",
    "    return np.arccosh(d)\n",
    "\n",
    "def poincare_dist2(u, v, eps=1e-6):\n",
    "    d = 1 + 2 * norm(u-v)**2 / ((1 - norm(u)**2) * (1 - norm(v)**2) + eps)\n",
    "    return np.arccosh(d)\n"
   ]
  },
  {
   "cell_type": "code",
   "execution_count": 2,
   "metadata": {
    "ExecuteTime": {
     "end_time": "2019-07-21T22:21:23.410946Z",
     "start_time": "2019-07-21T22:21:23.358140Z"
    }
   },
   "outputs": [
    {
     "data": {
      "text/html": [
       "<style>\n",
       "    @font-face {\n",
       "        font-family: \"Computer Modern\";\n",
       "        src: url('http://9dbb143991406a7c655e-aa5fcb0a5a4ec34cff238a2d56ca4144.r56.cf5.rackcdn.com/cmunss.otf');\n",
       "    }\n",
       "    @font-face {\n",
       "        font-family: \"Computer Modern\";\n",
       "        font-weight: bold;\n",
       "        src: url('http://9dbb143991406a7c655e-aa5fcb0a5a4ec34cff238a2d56ca4144.r56.cf5.rackcdn.com/cmunsx.otf');\n",
       "    }\n",
       "    @font-face {\n",
       "        font-family: \"Computer Modern\";\n",
       "        font-style: oblique;\n",
       "        src: url('http://9dbb143991406a7c655e-aa5fcb0a5a4ec34cff238a2d56ca4144.r56.cf5.rackcdn.com/cmunsi.otf');\n",
       "    }\n",
       "    @font-face {\n",
       "        font-family: \"Computer Modern\";\n",
       "        font-weight: bold;\n",
       "        font-style: oblique;\n",
       "        src: url('http://9dbb143991406a7c655e-aa5fcb0a5a4ec34cff238a2d56ca4144.r56.cf5.rackcdn.com/cmunso.otf');\n",
       "    }\n",
       "    div.cell{\n",
       "        width:800px;\n",
       "        margin-left:16% !important;\n",
       "        margin-right:auto;\n",
       "    }\n",
       "    h1 {\n",
       "        font-family: Helvetica, serif;\n",
       "    }\n",
       "    h4{\n",
       "        margin-top:12px;\n",
       "        margin-bottom: 3px;\n",
       "       }\n",
       "    div.text_cell_render{\n",
       "        font-family: Computer Modern, \"Helvetica Neue\", Arial, Helvetica, Geneva, sans-serif;\n",
       "        line-height: 145%;\n",
       "        font-size: 130%;\n",
       "        width:800px;\n",
       "        margin-left:auto;\n",
       "        margin-right:auto;\n",
       "    }\n",
       "    .CodeMirror{\n",
       "            font-family: \"Source Code Pro\", source-code-pro,Consolas, monospace;\n",
       "    }\n",
       "    .prompt{\n",
       "        display: None;\n",
       "    }\n",
       "    .text_cell_render h5 {\n",
       "        font-weight: 300;\n",
       "        font-size: 22pt;\n",
       "        color: #4057A1;\n",
       "        font-style: italic;\n",
       "        margin-bottom: .5em;\n",
       "        margin-top: 0.5em;\n",
       "        display: block;\n",
       "    }\n",
       "    \n",
       "    .warning{\n",
       "        color: rgb( 240, 20, 20 )\n",
       "        }  \n",
       "</style>"
      ],
      "text/plain": [
       "<IPython.core.display.HTML object>"
      ]
     },
     "execution_count": 2,
     "metadata": {},
     "output_type": "execute_result"
    }
   ],
   "source": [
    "from IPython.core.display import HTML\n",
    "\n",
    "def css_styling():\n",
    "    styles = open(\"custom_style.css\", \"r\").read()\n",
    "    return HTML(styles)\n",
    "css_styling()"
   ]
  }
 ],
 "metadata": {
  "kernelspec": {
   "display_name": "Python 3",
   "language": "python",
   "name": "python3"
  },
  "language_info": {
   "codemirror_mode": {
    "name": "ipython",
    "version": 3
   },
   "file_extension": ".py",
   "mimetype": "text/x-python",
   "name": "python",
   "nbconvert_exporter": "python",
   "pygments_lexer": "ipython3",
   "version": "3.7.1"
  },
  "nbTranslate": {
   "displayLangs": [
    "*"
   ],
   "hotkey": "alt-t",
   "langInMainMenu": true,
   "sourceLang": "en",
   "targetLang": "fr",
   "useGoogleTranslate": true
  },
  "varInspector": {
   "cols": {
    "lenName": 16,
    "lenType": 16,
    "lenVar": 40
   },
   "kernels_config": {
    "python": {
     "delete_cmd_postfix": "",
     "delete_cmd_prefix": "del ",
     "library": "var_list.py",
     "varRefreshCmd": "print(var_dic_list())"
    },
    "r": {
     "delete_cmd_postfix": ") ",
     "delete_cmd_prefix": "rm(",
     "library": "var_list.r",
     "varRefreshCmd": "cat(var_dic_list()) "
    }
   },
   "types_to_exclude": [
    "module",
    "function",
    "builtin_function_or_method",
    "instance",
    "_Feature"
   ],
   "window_display": false
  }
 },
 "nbformat": 4,
 "nbformat_minor": 2
}
