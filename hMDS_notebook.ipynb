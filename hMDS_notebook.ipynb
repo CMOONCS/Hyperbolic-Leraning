{
 "cells": [
  {
   "cell_type": "markdown",
   "metadata": {},
   "source": [
    "# Multidimensional Scaling in Hyperbolic Space"
   ]
  },
  {
   "cell_type": "markdown",
   "metadata": {},
   "source": [
    "In this notebook, I begin my attempt to implement a Multidimensional Scaling (MDS) algorithm that embeds data into hyperbolic space instead of the target Euclidean space for standard MDS. Just like traditional MDS, this variant h-MDS (hyperbolic MDS) will seek to produce accurate spatial representations of possibly high dimensional datasets, by  attempting to reflect the original pairwise similarities by the corresponding pairwise distances of the output configuration in the embedding space. <br>\n",
    "<br>\n",
    "Relevant papers that discuss hyperbolic MDS and outline some general implementation details: <br>\n",
    "<br>\n",
    "[1]. A. Cvetkovski and M. Crovella. Multidimensional scaling in the Poincaré disk. arXiv:1105.5332, 2011.<br>\n",
    "[2]. H-MDS: a new approach for interactive visualization with multidimensional scaling in the hyperbolic space. Jörg Walter. Information Systems, Elsevier, 29(4):273-292, 2004.<br>\n",
    "[3]. Jörg A. Walter and Helge Ritter. 2002. On interactive visualization of high-dimensional data using the hyperbolic plane. In Proceedings of the eighth ACM SIGKDD international conference on Knowledge discovery and data mining (KDD '02). ACM, New York, NY, USA, 123-132. DOI=http://dx.doi.org/10.1145/775047.775065"
   ]
  },
  {
   "cell_type": "code",
   "execution_count": 2,
   "metadata": {
    "ExecuteTime": {
     "end_time": "2019-07-22T07:07:33.095683Z",
     "start_time": "2019-07-22T07:07:32.300411Z"
    }
   },
   "outputs": [],
   "source": [
    "import numpy as np\n",
    "import pandas as pd\n",
    "import matplotlib.pyplot as plt\n",
    "%matplotlib inline\n",
    "from mpl_toolkits.mplot3d import Axes3D\n",
    "from sklearn.utils import check_random_state\n",
    "#plt.style.use('classic')\n",
    "#plt.rcParams['figure.figsize'] = (6.5, 6.5)\n",
    "#plt.rcParams['figure.facecolor'] = 'white'\n",
    "#from jupyterthemes import jtplot\n",
    "#jtplot.style()\n",
    "\n",
    "# ignore warnings\n",
    "import warnings\n",
    "warnings.filterwarnings('ignore');\n",
    "\n",
    "# display multiple outputs within a cell\n",
    "from IPython.core.interactiveshell import InteractiveShell\n",
    "InteractiveShell.ast_node_interactivity = \"all\";"
   ]
  },
  {
   "cell_type": "markdown",
   "metadata": {},
   "source": [
    "# Intro and key concepts"
   ]
  },
  {
   "cell_type": "markdown",
   "metadata": {},
   "source": [
    "We use the Poincaré disk as our model of hyperbolic space, and the only fundamental change with respect to MDS in Euclidean space is that we need to use the Poincaré distance metric instead of the Euclidean distance."
   ]
  },
  {
   "cell_type": "markdown",
   "metadata": {},
   "source": [
    "We can define the Poincare disk based on the complex plane: $\\mathbb{D}=\\{z \\in \\mathbb{C}| | z |<1\\}$. We have the symmetric distance function for $\\boldsymbol{u}, \\boldsymbol{v} \\in \\mathcal{D}$:\n",
    "\n",
    "$$\n",
    "d(\\boldsymbol{u}, \\boldsymbol{v})=\\operatorname{arcosh}\\left(1+2 \\frac{\\|\\boldsymbol{u}-\\boldsymbol{v}\\|^{2}}{\\left(1-\\|\\boldsymbol{u}\\|^{2}\\right)\\left(1-\\|\\boldsymbol{v}\\|^{2}\\right)}\\right)\n",
    "$$ <br>\n",
    "<br>\n",
    "or considering the complex plane: <br>\n",
    "$$\n",
    "d_{\\mathbb{D}}\\left(z_{j}, z_{k}\\right)=2 \\operatorname{atanh} \\frac{\\left|z_{j}-z_{k}\\right|}{\\left|1-z_{j} \\overline{z}_{k}\\right|}\n",
    "$$"
   ]
  },
  {
   "cell_type": "markdown",
   "metadata": {},
   "source": [
    "The idea of Mobius transformations will also be important, and these are transformations that preserve hyperbolic distances. The Mobius transformations $T$ have the following form: <br> \n",
    "<br>\n",
    "$$\n",
    "T(z)=\\frac{a z+b}{\\overline{b} z+\\overline{a}}, a, b \\in \\mathbb{C},|a|^{2}-|b|^{2} \\neq 0\n",
    "$$"
   ]
  },
  {
   "cell_type": "markdown",
   "metadata": {},
   "source": [
    "Our h-MDS algorithm will have a relatively simple design based on iterative steepest descent and an approximate line search function. Therefore, we need to be able to describe hyperbolic lines based on a given direction $\\gamma$ and a starting point $z_0$. For $z_{0} \\in \\mathbb{D}, \\gamma \\in \\mathbb{C}$ with $|\\gamma|=1,$ and $s \\geq 0$, this hyperbolic line is given by:<br>\n",
    "<br>\n",
    "$$\n",
    "z_{0}^{\\prime}=\\frac{\\gamma \\tanh \\frac{s}{2}+z_{0}}{\\overline{z_{0}} \\gamma \\tanh \\frac{s}{2}+1}\n",
    "$$ <br>\n",
    "where $s$ gives the length along the line and $d_{\\mathrm{D}}\\left(z_{0}, z_{0}^{\\prime}\\right)=s$"
   ]
  },
  {
   "cell_type": "markdown",
   "metadata": {},
   "source": [
    "# Gradient descent and hyperbolic line search"
   ]
  },
  {
   "cell_type": "markdown",
   "metadata": {},
   "source": [
    "## Descent method"
   ]
  },
  {
   "cell_type": "markdown",
   "metadata": {},
   "source": [
    "The steepest descent will be based on the gradient of an objective function $E_t(\\mathbf{z}, \\Delta, \\mathbf{W}, \\mathbf{I})$ that is defined by these inputs and which gives the embedding error or loss at some given iteration $t$<br>\n",
    "<br>\n",
    "One common embedding error is given by the following function defined as the sum of relative squared differences between the initial dissimilarities and the distances in the embedding space:. <br>\n",
    "<br>\n",
    "$$\n",
    "E_{t}(\\mathbf{z}, \\Delta, \\mathbf{W}, \\mathbf{I})=\\sum_{j=1}^{n} \\sum_{k=j+1}^{n} w_{j k} I_{j k}\\left(\\frac{d_{j k}(t)-\\delta_{j k}}{\\delta_{j k}}\\right)^{2}\n",
    "$$"
   ]
  },
  {
   "cell_type": "markdown",
   "metadata": {},
   "source": [
    "The descent direction is defined by the gradient of this error function: <br>\n",
    "<br>\n",
    "$$\n",
    "\\mathbf{g}=\\nabla E \\stackrel{\\mathrm{def}}{=}\\left[\\begin{array}{c}{\\frac{\\partial E}{\\partial y_{1,1}}+i \\frac{\\partial E}{\\partial y_{1,2}}} \\\\ {\\frac{\\partial E}{\\partial y_{2,1}}+i \\frac{\\partial E}{\\partial y_{2,2}}} \\\\ {\\vdots} \\\\ {\\frac{\\partial E}{\\partial y_{n, 1}}+i \\frac{\\partial E}{\\partial y_{n, 2}}}\\end{array}\\right]=\\left[\\begin{array}{c}{g_{1}} \\\\ {g_{2}} \\\\ {\\vdots} \\\\ {g_{n}}\\end{array}\\right]\n",
    "$$<br>\n",
    "We have descent directions $-g_1, \\ldots , -g_n$ and the new configuration after the update will have points <br>\n",
    "<br>\n",
    "$$\n",
    "z_{j}^{\\prime}=\\frac{-r g_{j}+z_{j}}{-r g_{j} \\overline{z_{j}}+1}\n",
    "$$ <br>\n",
    "and $r \\geq 0$ is the step-size parameter"
   ]
  },
  {
   "cell_type": "markdown",
   "metadata": {},
   "source": [
    "![title](images/pd_mds5.png) <br>\n",
    "source: A. Cvetkovski and M. Crovella. Multidimensional scaling in the Poincaré disk"
   ]
  },
  {
   "cell_type": "markdown",
   "metadata": {},
   "source": [
    "## Approximate Hyperbolic Line Search"
   ]
  },
  {
   "cell_type": "markdown",
   "metadata": {},
   "source": [
    "We have some more notation and parameters related to line search. $s_M$ sets the window for distance between successive configurations or updates. We need this to be finite to limit points from approaching the boundary at infinite distances. If $s_j$ are distances for updates: $s_{M}=\\max _{j} s_{j}<\\infty$<br>\n",
    "<br>\n",
    "The parameter $r_M$ sets the window for the step size $r$ and we restrict our line search for each update within this window. We have the constraint: $r<\\frac{1}{\\|\\mathbf{g}\\|_{\\infty}}$ and the following equation that relates these parameters: <br>\n",
    "\n",
    "$$\n",
    "r_{M}=\\frac{1}{\\|\\mathbf{g}\\|_{\\infty}} \\cdot \\tanh \\frac{s_{M}}{2}<\\frac{1}{\\|\\mathbf{g}\\|_{\\infty}}\n",
    "$$"
   ]
  },
  {
   "cell_type": "markdown",
   "metadata": {},
   "source": [
    "During our line search, it would be ideal to find the step size $r$ along the hyperbolic line (but within the window $r_M$) that minimizes the error function. This turns out to be too computationally expensive, and so we just set a sufficient stopping condition and accept any step size that meets the condition. "
   ]
  },
  {
   "cell_type": "markdown",
   "metadata": {},
   "source": [
    "To express the stopping condition, we define the error in terms of the step size and let this function be $q(r)$ <br>\n",
    "<br>\n",
    "We also define this 'roof' function: $\\lambda(r)=q(0)+p \\cdot q^{\\prime}(0) \\cdot r, \\quad 0<p<1$ <br>\n",
    "<br>\n",
    "and set the condition for acceptable values of step size: $q(r)<\\lambda(r), r \\in\\left(0, r_{M}\\right]$ "
   ]
  },
  {
   "cell_type": "markdown",
   "metadata": {},
   "source": [
    "![title](images/line_search.png) <br>\n",
    "source: A. Cvetkovski and M. Crovella. Multidimensional scaling in the Poincaré disk"
   ]
  },
  {
   "cell_type": "markdown",
   "metadata": {},
   "source": [
    "We need to find explicit formulas for $q(r)$ and its derivative $q'(r)$ in order to calculate these values and apply the stopping conditions in the approximate line search. <br>\n",
    "<br>\n",
    "We can write the updates for each $z_j$ based on the Mobius transformations: $M_{j}(r)=\\frac{-r g_{j}+z_{j}}{-r g_{j} \\overline{z}_{j}+1}$"
   ]
  },
  {
   "cell_type": "markdown",
   "metadata": {},
   "source": [
    "The expression for the error in terms of step size can now be written as $q(r)=E(\\mathbf{M}(-r \\mathbf{g}, \\mathbf{z}), \\mathbf{\\Delta}, \\mathbf{W}, \\mathbf{I})$ <br>\n",
    "<br>\n",
    "$q'(r)$ has the following form: <br>\n",
    "<br>\n",
    "$$\n",
    "\\begin{aligned} q^{\\prime}(r) &=\\frac{d}{d r} q(r)=\\\\ &=\\left(\\operatorname{Re} \\mathbf{M}^{\\prime}(-r \\mathbf{g}, \\mathbf{z})\\right)^{T} \\operatorname{Re} \\nabla E(\\mathbf{M}(-r \\mathbf{g}, \\mathbf{z}), \\boldsymbol{\\Delta}, \\mathbf{W}, \\mathbf{I}) \\\\ &+\\left(\\operatorname{Im} \\mathbf{M}^{\\prime}(-r \\mathbf{g}, \\mathbf{z})\\right)^{T} \\operatorname{Im} \\nabla E(\\mathbf{M}(-r \\mathbf{g}, \\mathbf{z}), \\boldsymbol{\\Delta}, \\mathbf{W}, \\mathbf{I}) \\end{aligned}\n",
    "$$"
   ]
  },
  {
   "cell_type": "markdown",
   "metadata": {},
   "source": [
    "and this can be explicitly calculated using the following equation: <br>\n",
    "<br>\n",
    "$$\n",
    "M_{j}^{\\prime}(r)=\\frac{d}{d r} M_{j}(r)=g_{j} \\frac{\\left|z_{j}\\right|^{2}-1}{\\left(1-r g_{j} \\overline{z_{j}}\\right)^{2}}\n",
    "$$"
   ]
  },
  {
   "cell_type": "markdown",
   "metadata": {},
   "source": [
    "![title](images/hyp_line.png) <br>\n",
    "source: A. Cvetkovski and M. Crovella. Multidimensional scaling in the Poincaré disk"
   ]
  },
  {
   "cell_type": "markdown",
   "metadata": {},
   "source": [
    "# Deriving gradients to implement h-MDS"
   ]
  },
  {
   "cell_type": "markdown",
   "metadata": {},
   "source": [
    "For the initial implementation of h-MDS let the error function be given by the Absolute Differences Squared (ADS) <br>\n",
    "<br>\n",
    "$$\n",
    "E=\\sum_{j=1}^{n} \\sum_{k=j+1}^{n} w_{j k}\\left(I_{j k}\\left(d_{j k}-a \\delta_{j k}\\right)\\right)^{2}\n",
    "$$ <br>\n",
    "$W$ is a weight matrix and $I$ is an indicator matrix for sparse/missing values in dissimilarity matrix <br>\n",
    "$d_{j k}$ is the distance in the poincaré disk and $\\delta_{j k}$ is the original dissimilarity <br>\n",
    "<br>\n",
    "Hyperbolic distance is not scale invariant like Euclidean distance, so we have an additional degree of freedom $\\alpha$ - a scaling factor for the original entries of dissimilarity matrix"
   ]
  },
  {
   "cell_type": "markdown",
   "metadata": {},
   "source": [
    "We need to find the gradient of the error function $E$ <br>\n",
    "<br>\n",
    "$$\n",
    "\\nabla E \\stackrel{\\mathrm{def}}{=}\\left[\\begin{array}{c}{\\frac{\\partial E}{\\partial y_{1,1}}+i \\frac{\\partial E}{\\partial y_{1,2}}} \\\\ {\\frac{\\partial E}{\\partial y_{2,1}}+i \\frac{\\partial E}{\\partial y_{2,2}}} \\\\ {\\vdots} \\\\ {\\frac{\\partial E}{\\partial y_{n, 1}}+i \\frac{\\partial E}{\\partial y_{n, 2}}}\\end{array}\\right]\n",
    "$$ <br>\n",
    "<br>\n",
    "Using the chain rule: <br>\n",
    "$$\n",
    "\\nabla E=\\frac{\\partial E (z_i)}{\\partial d(z_i, z_j)} \\frac{\\partial d(z_i, z_j)}{\\partial z_i}\n",
    "$$"
   ]
  },
  {
   "cell_type": "markdown",
   "metadata": {},
   "source": [
    "The first partial derivative term for the loss function is given by:<br>\n",
    "<br>\n",
    "$$\\frac{\\partial E (z_i)}{\\partial d(z_i, z_j)} = w_{i j} (2 d(z_i, z_j) - 2 \\alpha \\delta_{i j})$$"
   ]
  },
  {
   "cell_type": "markdown",
   "metadata": {},
   "source": [
    "For the partial derivatives of the poincaré distance, consider two ways to define the distance function<br>\n",
    "<br>\n",
    "For the arccosh definition, define the following:<br>\n",
    "$$\n",
    "\\alpha=1-\\|z_i\\|^{2}\n",
    "$$\n",
    "$$\n",
    "\\beta=1-\\|z_j\\|^{2}\n",
    "$$\n",
    "$$\n",
    "\\gamma=1+\\frac{2}{\\alpha \\beta}\\|z_i-z_j\\|^{2}\n",
    "$$\n",
    "\n",
    "and we can write the partial derivative<br>\n",
    "<br>\n",
    "$$\n",
    "\\frac{\\partial d(z_i, z_j)}{\\partial z_i}=\\frac{4}{\\beta \\sqrt{\\gamma^{2}-1}}\\left(\\frac{\\|z_j\\|^{2}-2\\langle z_i, z_j\\rangle+ 1}{\\alpha^{2}} z_i-\\frac{z_j}{\\alpha}\\right)\n",
    "$$"
   ]
  },
  {
   "cell_type": "markdown",
   "metadata": {},
   "source": [
    "For the arctanh definition, we have: <br>\n",
    "<br>\n",
    "$$\n",
    "\\begin{aligned} \\frac{\\partial}{\\partial x_{i, 1}} d\\left(\\mathbf{x}_{i}, \\mathbf{x}_{j}\\right) &=\\frac{2 t}{1-t^{2}}\\left(\\frac{v_{1}}{v_{1}^{2}+v_{2}^{2}}-\\frac{x_{j, 1} v_{3}+x_{j, 2} v_{4}}{v_{3}^{2}+v_{4}^{2}}\\right) \\\\ \\frac{\\partial}{\\partial x_{i, 2}} d\\left(\\mathbf{x}_{i}, \\mathbf{x}_{j}\\right) &=\\frac{2 t}{1-t^{2}}\\left(\\frac{v_{2}}{v_{1}^{2}+v_{2}^{2}}+\\frac{x_{i, 1} v_{4}-x_{j, 2} v_{3}}{v_{3}^{2}+v_{4}^{2}}\\right) \\end{aligned}\n",
    "$$"
   ]
  },
  {
   "cell_type": "markdown",
   "metadata": {},
   "source": [
    "with the following definitions of these terms: <br>\n",
    "\n",
    "$$\n",
    "\\begin{aligned} \\mathbf{x}_{i} &=\\left(x_{i, 1}+\\mathrm{i} x_{i, 2}\\right) \\in P D \\subset \\mathbb{C} \\\\ \\mathbf{x}_{j} &=\\left(x_{j, 1}+\\mathrm{i} x_{j, 2}\\right) \\in P D \\subset \\mathbb{C} \\\\ v_{1} &=x_{i, 1}-x_{j, 1} \\\\ v_{3} &=x_{i, 1} x_{j, 1}+x_{i, 2} x_{j, 2}-1 \\\\ v_{2} &=x_{i, 2}-x_{j, 2} \\\\ v_{4} &=x_{i, 1} x_{j, 2}-x_{j, 1} x_{i, 2} \\\\ t^{2} &=\\frac{v_{1}^{2}+v_{2}^{2}}{v_{3}^{2}+v_{4}^{2}} \\end{aligned}\n",
    "$$"
   ]
  },
  {
   "cell_type": "markdown",
   "metadata": {},
   "source": [
    "and finally we have an explicit form of the gradient $\\nabla E$"
   ]
  },
  {
   "cell_type": "markdown",
   "metadata": {},
   "source": [
    "# Python/Numpy Implementation"
   ]
  },
  {
   "cell_type": "code",
   "execution_count": 3,
   "metadata": {
    "ExecuteTime": {
     "end_time": "2019-07-22T07:07:37.709790Z",
     "start_time": "2019-07-22T07:07:37.699817Z"
    }
   },
   "outputs": [
    {
     "data": {
      "text/plain": [
       "0.8569857606976118"
      ]
     },
     "execution_count": 3,
     "metadata": {},
     "output_type": "execute_result"
    }
   ],
   "source": [
    "def norm(x, axis=None):\n",
    "    return np.linalg.norm(x, axis=axis)\n",
    "\n",
    "def poincare_dist(u, v, eps=1e-5):\n",
    "    d = 1 + 2 * norm(u-v)**2 / ((1 - norm(u)**2) * (1 - norm(v)**2) + eps)\n",
    "    return np.arccosh(d)\n",
    "u1 = np.array([0.5, 0.5])\n",
    "v1 = np.array([0.3, 0.3])\n",
    "poincare_dist(u1, v1, eps=0)"
   ]
  },
  {
   "cell_type": "code",
   "execution_count": 4,
   "metadata": {
    "ExecuteTime": {
     "end_time": "2019-07-22T07:07:38.590537Z",
     "start_time": "2019-07-22T07:07:38.583557Z"
    }
   },
   "outputs": [
    {
     "data": {
      "text/plain": [
       "0.8569857606976117"
      ]
     },
     "execution_count": 4,
     "metadata": {},
     "output_type": "execute_result"
    }
   ],
   "source": [
    "def poincare_dist2(zi, zj):\n",
    "    val = norm(zi - zj) / norm(1-zi*np.conj(zj))\n",
    "    return 2* np.arctanh(val)\n",
    "z1 = 0.5 + 0.5j\n",
    "z2 = 0.3 + 0.3j\n",
    "poincare_dist2(z1, z2)"
   ]
  },
  {
   "cell_type": "code",
   "execution_count": 5,
   "metadata": {
    "ExecuteTime": {
     "end_time": "2019-07-22T07:07:41.384880Z",
     "start_time": "2019-07-22T07:07:41.148793Z"
    }
   },
   "outputs": [
    {
     "data": {
      "image/png": "[encoded data removed]",
      "text/plain": [
       "<Figure size 432x432 with 1 Axes>"
      ]
     },
     "metadata": {
      "needs_background": "light"
     },
     "output_type": "display_data"
    }
   ],
   "source": [
    "# generate a small set of random points in poincaré disk\n",
    "fig = plt.figure(figsize=(6,6))\n",
    "ax = fig.add_subplot(111)\n",
    "circ = plt.Circle((0, 0), radius=1, edgecolor='black', facecolor='None', linewidth=3, alpha=0.5)\n",
    "ax.add_patch(circ)\n",
    "\n",
    "# sample within unit sphere in R^2\n",
    "n = 7\n",
    "theta = np.random.uniform(0, 2*np.pi, n)\n",
    "u = np.random.uniform(0, 0.7, n)\n",
    "r = np.sqrt(u)\n",
    "x = r * np.cos(theta)\n",
    "y = r * np.sin(theta)\n",
    "init_data = np.hstack((x.reshape(-1,1), y.reshape(-1,1)))\n",
    "ax.scatter(x, y, s=20, alpha=1);"
   ]
  },
  {
   "cell_type": "code",
   "execution_count": 6,
   "metadata": {
    "ExecuteTime": {
     "end_time": "2019-07-22T07:07:42.989727Z",
     "start_time": "2019-07-22T07:07:42.978755Z"
    }
   },
   "outputs": [
    {
     "data": {
      "text/plain": [
       "array([[0.        , 1.50502101, 1.98815243, 0.90464184, 1.33790772,\n",
       "        2.14605496, 0.94400879],\n",
       "       [1.50502101, 0.        , 1.48381673, 1.03842619, 0.45312768,\n",
       "        0.89270042, 1.02195582],\n",
       "       [1.98815243, 1.48381673, 0.        , 1.08662528, 1.04715947,\n",
       "        2.37589172, 1.04586742],\n",
       "       [0.90464184, 1.03842619, 1.08662528, 0.        , 0.67494836,\n",
       "        1.86191217, 0.04200984],\n",
       "       [1.33790772, 0.45312768, 1.04715947, 0.67494836, 0.        ,\n",
       "        1.342908  , 0.64819055],\n",
       "       [2.14605496, 0.89270042, 2.37589172, 1.86191217, 1.342908  ,\n",
       "        0.        , 1.85273697],\n",
       "       [0.94400879, 1.02195582, 1.04586742, 0.04200984, 0.64819055,\n",
       "        1.85273697, 0.        ]])"
      ]
     },
     "execution_count": 6,
     "metadata": {},
     "output_type": "execute_result"
    }
   ],
   "source": [
    "delta1 = np.zeros((n, n))\n",
    "for i in range(n):\n",
    "    for j in range(n):\n",
    "        delta1[i][j] = poincare_dist(init_data[i], init_data[j])\n",
    "delta1"
   ]
  },
  {
   "cell_type": "code",
   "execution_count": 7,
   "metadata": {
    "ExecuteTime": {
     "end_time": "2019-07-22T07:07:44.984786Z",
     "start_time": "2019-07-22T07:07:44.794965Z"
    }
   },
   "outputs": [
    {
     "data": {
      "image/png": "[encoded data removed]",
      "text/plain": [
       "<Figure size 432x432 with 1 Axes>"
      ]
     },
     "metadata": {
      "needs_background": "light"
     },
     "output_type": "display_data"
    }
   ],
   "source": [
    "def init_z(n, dim=2, low=-0.1, high=0.1):\n",
    "    random_config = np.random.uniform(low, high, size=(n, dim))\n",
    "    return random_config\n",
    "\n",
    "# plot initial random configuration\n",
    "fig = plt.figure(figsize=(6,6))\n",
    "ax = fig.add_subplot(111)\n",
    "circ = plt.Circle((0, 0), radius=1, edgecolor='black', facecolor='None', linewidth=3, alpha=0.5)\n",
    "ax.add_patch(circ)\n",
    "\n",
    "init_config = init_z(7)\n",
    "x = init_config[:,0]\n",
    "y = init_config[:,1]\n",
    "ax.scatter(x, y, s=20, alpha=1);"
   ]
  },
  {
   "cell_type": "code",
   "execution_count": 8,
   "metadata": {
    "ExecuteTime": {
     "end_time": "2019-07-22T07:07:46.986323Z",
     "start_time": "2019-07-22T07:07:46.979314Z"
    }
   },
   "outputs": [],
   "source": [
    "eps = 1e-5\n",
    "def partial_d(theta, x):\n",
    "    alpha = 1 - norm(theta)**2\n",
    "    beta = 1 - norm(x)**2\n",
    "    gamma = 1 + 2/(alpha*beta + eps) * norm(theta-x)**2\n",
    "    lhs = 4 / (beta*np.sqrt(gamma**2 - 1) + eps)\n",
    "    rhs = 1/(alpha**2 + eps) * (norm(x)**2 - 2*np.inner(theta,x) + 1) * theta - x/(alpha + eps)\n",
    "    return lhs*rhs\n",
    "\n",
    "def proj(theta):\n",
    "    if norm(theta) >= 1:\n",
    "        theta = theta/norm(theta) - eps\n",
    "    return theta"
   ]
  },
  {
   "cell_type": "code",
   "execution_count": 9,
   "metadata": {
    "ExecuteTime": {
     "end_time": "2019-07-22T07:07:51.366052Z",
     "start_time": "2019-07-22T07:07:51.209438Z"
    }
   },
   "outputs": [
    {
     "ename": "NameError",
     "evalue": "name 'dissimilarity' is not defined",
     "output_type": "error",
     "traceback": [
      "\u001b[1;31m---------------------------------------------------------------------------\u001b[0m",
      "\u001b[1;31mNameError\u001b[0m                                 Traceback (most recent call last)",
      "\u001b[1;32m<ipython-input-9-7ecab3a41700>\u001b[0m in \u001b[0;36m<module>\u001b[1;34m\u001b[0m\n\u001b[0;32m      7\u001b[0m             \u001b[0mloss\u001b[0m \u001b[1;33m+=\u001b[0m \u001b[0mzi_error\u001b[0m\u001b[1;33m\u001b[0m\u001b[1;33m\u001b[0m\u001b[0m\n\u001b[0;32m      8\u001b[0m     \u001b[1;32mreturn\u001b[0m \u001b[0mloss\u001b[0m\u001b[1;33m\u001b[0m\u001b[1;33m\u001b[0m\u001b[0m\n\u001b[1;32m----> 9\u001b[1;33m \u001b[0mloss_fn\u001b[0m\u001b[1;33m(\u001b[0m\u001b[0minit_config\u001b[0m\u001b[1;33m,\u001b[0m \u001b[0mdissimilarity\u001b[0m\u001b[1;33m,\u001b[0m \u001b[0mn\u001b[0m\u001b[1;33m=\u001b[0m\u001b[0mlen\u001b[0m\u001b[1;33m(\u001b[0m\u001b[0minit_config\u001b[0m\u001b[1;33m)\u001b[0m\u001b[1;33m)\u001b[0m\u001b[1;33m\u001b[0m\u001b[1;33m\u001b[0m\u001b[0m\n\u001b[0m\u001b[0;32m     10\u001b[0m \u001b[1;33m\u001b[0m\u001b[0m\n\u001b[0;32m     11\u001b[0m \u001b[1;32mdef\u001b[0m \u001b[0mcompute_gradients\u001b[0m\u001b[1;33m(\u001b[0m\u001b[0mZ\u001b[0m\u001b[1;33m,\u001b[0m \u001b[0mdissimilarities\u001b[0m\u001b[1;33m,\u001b[0m \u001b[0mn\u001b[0m\u001b[1;33m,\u001b[0m \u001b[0malpha\u001b[0m\u001b[1;33m=\u001b[0m\u001b[1;36m1\u001b[0m\u001b[1;33m)\u001b[0m\u001b[1;33m:\u001b[0m\u001b[1;33m\u001b[0m\u001b[1;33m\u001b[0m\u001b[0m\n",
      "\u001b[1;31mNameError\u001b[0m: name 'dissimilarity' is not defined"
     ]
    }
   ],
   "source": [
    "def loss_fn(embed_config, dissimilarities, n, alpha=1):\n",
    "    loss = 0\n",
    "    for i in range(n):\n",
    "        for j in range(i+1, n):\n",
    "            #print(poincare_dist(embed_config[i], embed_config[j]))\n",
    "            zi_error = (poincare_dist(embed_config[i], embed_config[j]) - alpha*dissimilarities[i][j])**2\n",
    "            loss += zi_error\n",
    "    return loss\n",
    "loss_fn(init_config, dissimilarity, n=len(init_config))\n",
    "\n",
    "def compute_gradients(Z, dissimilarities, n, alpha=1):\n",
    "    gradients = np.zeros((n, 2))\n",
    "    for i in range(n):\n",
    "        grad_zi = 0\n",
    "        for j in range(i+1, n):\n",
    "            dd_loss = 2*poincare_dist(Z[i], Z[j]) - 2*alpha*dissimilarities[i][j]\n",
    "            dd_dist = partial_d(Z[i], Z[j])\n",
    "            grad_zi += dd_loss * dd_dist\n",
    "        gradients[i] = grad_zi\n",
    "    return gradients\n",
    "compute_gradients(init_config, dissimilarity, len(init_config))\n",
    "\n",
    "def conjugate(z):\n",
    "    z_bar = np.array([z[0], -z[1]])\n",
    "    return z_bar\n",
    "conjugate([1, 2])"
   ]
  },
  {
   "cell_type": "markdown",
   "metadata": {},
   "source": [
    "We only need to compute the derivative of q(r) evaluated at 0, so here we just plug 0 into q'(r) <br>\n",
    "<br>\n",
    "$$\n",
    "\\begin{aligned} q^{\\prime}(0) &=\\frac{d}{d r} q(0)\\\\ &=\\left(\\operatorname{Re} \\mathbf{M}^{\\prime}(-r \\mathbf{g}, \\mathbf{z})\\right)^{T} \\operatorname{Re} \\nabla E(\\mathbf{M}(-r \\mathbf{g}, \\mathbf{z}), \\boldsymbol{\\Delta}, \\mathbf{W}, \\mathbf{I}) \\\\ &+\\left(\\operatorname{Im} \\mathbf{M}^{\\prime}(-r \\mathbf{g}, \\mathbf{z})\\right)^{T} \\operatorname{Im} \\nabla E(\\mathbf{M}(-r \\mathbf{g}, \\mathbf{z}), \\boldsymbol{\\Delta}, \\mathbf{W}, \\mathbf{I}) \\end{aligned}\n",
    "$$ <br>\n",
    "with step size = 0 we also have: <br>\n",
    "$$\n",
    "M_{j}(0)=z_j\n",
    "$$<br>\n",
    "$$\n",
    "M_{j}^{\\prime}(0)=g_{j} (\\left|z_{j}\\right|^{2}-1)\n",
    "$$"
   ]
  },
  {
   "cell_type": "code",
   "execution_count": 373,
   "metadata": {
    "ExecuteTime": {
     "end_time": "2019-07-21T22:13:30.857838Z",
     "start_time": "2019-07-21T22:13:30.829912Z"
    }
   },
   "outputs": [
    {
     "data": {
      "text/plain": [
       "0.008550174025344526"
      ]
     },
     "execution_count": 373,
     "metadata": {},
     "output_type": "execute_result"
    },
    {
     "data": {
      "text/plain": [
       "61.17112189526834"
      ]
     },
     "execution_count": 373,
     "metadata": {},
     "output_type": "execute_result"
    },
    {
     "data": {
      "text/plain": [
       "110.92848932598339"
      ]
     },
     "execution_count": 373,
     "metadata": {},
     "output_type": "execute_result"
    }
   ],
   "source": [
    "eps=1e-5\n",
    "def q(r, Z, g, dissimilarities, n):\n",
    "    M_r = np.zeros((n, 2))\n",
    "    for j in range(n):\n",
    "        M_r[j] = (-r*g[j] + Z[j]) / (-r*g[j] * conjugate(Z[j]) + 1)\n",
    "        #print(M_r[j])\n",
    "    return loss_fn(M_r, dissimilarities, n)\n",
    "init_grad = compute_gradients(init_config, delta1, len(init_config))\n",
    "#init_grad\n",
    "smax = 1\n",
    "rmax = 1/(norm(init_grad, axis=1).max()+eps) * np.tanh(smax/2)\n",
    "rmax\n",
    "q(rmax, init_config, init_grad, delta1, n)\n",
    "loss_fn(init_config, delta1, n=len(init_config))"
   ]
  },
  {
   "cell_type": "code",
   "execution_count": 374,
   "metadata": {
    "ExecuteTime": {
     "end_time": "2019-07-21T22:13:33.740764Z",
     "start_time": "2019-07-21T22:13:33.677925Z"
    }
   },
   "outputs": [
    {
     "name": "stdout",
     "output_type": "stream",
     "text": [
      "Loop 1:  0.001\n",
      "True\n",
      "Loop 1:  0.002\n",
      "True\n",
      "Loop 1:  0.004\n",
      "True\n",
      "Loop 1:  0.008\n",
      "True\n",
      "False\n",
      "Loop 2:  0.016\n",
      "True\n",
      "True\n",
      "58.13987562547846\n",
      "111.10224874632483\n"
     ]
    },
    {
     "data": {
      "text/plain": [
       "0.008"
      ]
     },
     "execution_count": 374,
     "metadata": {},
     "output_type": "execute_result"
    }
   ],
   "source": [
    "def line_search(Z, dissimilarities, n, r0, rmax):\n",
    "    Z_norm = norm(Z, axis=1)**2\n",
    "    g = compute_gradients(Z, dissimilarity, n)\n",
    "    M_prime = g*Z_norm.reshape(-1,1)\n",
    "    qprime_0 = np.dot(M_prime[:,0].T, g[:,0]) + np.dot(M_prime[:,1].T, g[:,1])\n",
    "    p=0.5\n",
    "    roof_fn = lambda r: q(0, Z, g, dissimilarities, n) + p*qprime_0*r\n",
    "    r = r0\n",
    "    rmin = 1e-5\n",
    "    while rmin < r < rmax and q(r, Z, g, dissimilarities, n) < roof_fn(r):\n",
    "        print('Loop 1: ', r)\n",
    "        print(q(r, Z, g, dissimilarities, n) < roof_fn(r))\n",
    "        r = 2*r\n",
    "    print(q(r, Z, g, dissimilarities, n) < roof_fn(r))\n",
    "    while r > rmax or q(r, Z, g, dissimilarities, n) > roof_fn(r):\n",
    "        print('Loop 2: ', r)\n",
    "        r = r/2\n",
    "    print(rmin < r < rmax)\n",
    "    print(q(r, Z, g, dissimilarities, n) <= roof_fn(r))\n",
    "    print(q(r, Z, g, dissimilarities, n))\n",
    "    print(roof_fn(r))\n",
    "    return r\n",
    "line_search(init_config, delta1, len(init_config), 0.001, rmax)"
   ]
  },
  {
   "cell_type": "code",
   "execution_count": 379,
   "metadata": {
    "ExecuteTime": {
     "end_time": "2019-07-21T22:14:32.481941Z",
     "start_time": "2019-07-21T22:14:31.695032Z"
    }
   },
   "outputs": [
    {
     "name": "stdout",
     "output_type": "stream",
     "text": [
      "False\n",
      "Loop 2:  0.001\n",
      "True\n",
      "True\n",
      "7.190026629670039\n",
      "7.369250117454664\n",
      "False\n",
      "Loop 2:  0.001\n",
      "True\n",
      "True\n",
      "7.155145081533783\n",
      "7.332703063123494\n",
      "False\n",
      "Loop 2:  0.001\n",
      "True\n",
      "True\n",
      "7.121057825839094\n",
      "7.296975094042143\n",
      "False\n",
      "Loop 2:  0.001\n",
      "True\n",
      "True\n",
      "7.087739413987152\n",
      "7.262041173142351\n",
      "False\n",
      "Loop 2:  0.001\n",
      "True\n",
      "True\n",
      "7.055165199454796\n",
      "7.227876873720518\n",
      "False\n",
      "Loop 2:  0.001\n",
      "True\n",
      "True\n",
      "7.023311209982835\n",
      "7.194458301158737\n",
      "False\n",
      "Loop 2:  0.001\n",
      "True\n",
      "True\n",
      "6.99215403825629\n",
      "7.161762023591852\n",
      "False\n",
      "Loop 2:  0.001\n",
      "True\n",
      "True\n",
      "6.961670748699531\n",
      "7.129765010663266\n",
      "False\n",
      "Loop 2:  0.001\n",
      "True\n",
      "True\n",
      "6.931838798362148\n",
      "7.098444579646998\n",
      "False\n",
      "Loop 2:  0.001\n",
      "True\n",
      "True\n",
      "6.902635970174793\n",
      "7.067778348325735\n",
      "False\n",
      "Loop 2:  0.001\n",
      "True\n",
      "True\n",
      "6.874040317115478\n",
      "7.037744194107844\n",
      "False\n",
      "Loop 2:  0.001\n",
      "True\n",
      "True\n",
      "6.846030116050384\n",
      "7.008320218945109\n",
      "False\n",
      "Loop 2:  0.001\n",
      "True\n",
      "True\n",
      "6.818583830204468\n",
      "6.979484719679143\n",
      "False\n",
      "Loop 2:  0.001\n",
      "True\n",
      "True\n",
      "6.79168007937983\n",
      "6.951216163500791\n",
      "False\n",
      "Loop 2:  0.001\n",
      "True\n",
      "True\n",
      "6.765297617177903\n",
      "6.923493168254012\n",
      "False\n",
      "Loop 2:  0.001\n",
      "True\n",
      "True\n",
      "6.739415314597583\n",
      "6.89629448735556\n",
      "False\n",
      "Loop 2:  0.001\n",
      "True\n",
      "True\n",
      "6.714012149478604\n",
      "6.869598999134471\n",
      "False\n",
      "Loop 2:  0.001\n",
      "True\n",
      "True\n",
      "6.689067201339573\n",
      "6.843385700421757\n",
      "False\n",
      "Loop 2:  0.001\n",
      "True\n",
      "True\n",
      "6.664559651225443\n",
      "6.817633704241198\n",
      "False\n",
      "Loop 2:  0.001\n",
      "True\n",
      "True\n",
      "6.640468786230943\n",
      "6.792322241467165\n",
      "False\n",
      "Loop 2:  0.001\n",
      "True\n",
      "True\n",
      "6.61677400840657\n",
      "6.767430666324706\n",
      "False\n",
      "Loop 2:  0.001\n",
      "True\n",
      "True\n",
      "6.593454847782983\n",
      "6.74293846561184\n",
      "False\n",
      "Loop 2:  0.001\n",
      "True\n",
      "True\n",
      "6.570490979269282\n",
      "6.718825271523132\n",
      "False\n",
      "Loop 2:  0.001\n",
      "True\n",
      "True\n",
      "6.5478622431915126\n",
      "6.695070877948467\n",
      "False\n",
      "Loop 2:  0.001\n",
      "True\n",
      "True\n",
      "6.525548669241242\n",
      "6.671655260110946\n",
      "False\n",
      "Loop 2:  0.001\n",
      "True\n",
      "True\n",
      "6.503530503600169\n",
      "6.6485585973935635\n",
      "False\n",
      "Loop 2:  0.001\n",
      "True\n",
      "True\n",
      "6.481788238997296\n",
      "6.625761299186157\n",
      "False\n",
      "Loop 2:  0.001\n",
      "True\n",
      "True\n",
      "6.460302647440407\n",
      "6.603244033562304\n",
      "False\n",
      "Loop 2:  0.001\n",
      "True\n",
      "True\n",
      "6.439054815344763\n",
      "6.580987758570856\n",
      "False\n",
      "Loop 2:  0.001\n",
      "True\n",
      "True\n",
      "6.418026180759585\n",
      "6.558973755899477\n",
      "False\n",
      "Loop 2:  0.001\n",
      "True\n",
      "True\n",
      "6.397198572368679\n",
      "6.5371836666381355\n",
      "False\n",
      "Loop 2:  0.001\n",
      "True\n",
      "True\n",
      "6.376554249915904\n",
      "6.515599528840164\n",
      "False\n",
      "Loop 2:  0.001\n",
      "True\n",
      "True\n",
      "6.356075945680255\n",
      "6.494203816547895\n",
      "False\n",
      "Loop 2:  0.001\n",
      "True\n",
      "True\n",
      "6.335746906600975\n",
      "6.472979479919862\n",
      "False\n",
      "Loop 2:  0.001\n",
      "True\n",
      "True\n",
      "6.315550936630088\n",
      "6.451909986068397\n",
      "False\n",
      "Loop 2:  0.001\n",
      "True\n",
      "True\n",
      "6.295472438870582\n",
      "6.430979360190754\n",
      "False\n",
      "Loop 2:  0.001\n",
      "True\n",
      "True\n",
      "6.275496457043326\n",
      "6.41017222655517\n",
      "False\n",
      "Loop 2:  0.001\n",
      "True\n",
      "True\n",
      "6.255608715815696\n",
      "6.389473848885909\n",
      "False\n",
      "Loop 2:  0.001\n",
      "True\n",
      "True\n",
      "6.2357956595212585\n",
      "6.368870169679954\n",
      "False\n",
      "Loop 2:  0.001\n",
      "True\n",
      "True\n",
      "6.216044488802712\n",
      "6.3483478479826925\n",
      "False\n",
      "Loop 2:  0.001\n",
      "True\n",
      "True\n",
      "6.196343194720655\n",
      "6.327894295152097\n",
      "False\n",
      "Loop 2:  0.001\n",
      "True\n",
      "True\n",
      "6.176680589888658\n",
      "6.307497708150304\n",
      "False\n",
      "Loop 2:  0.001\n",
      "True\n",
      "True\n",
      "6.157046336220841\n",
      "6.287147099919129\n",
      "False\n",
      "Loop 2:  0.001\n",
      "True\n",
      "True\n",
      "6.1374309689114765\n",
      "6.266832326421549\n",
      "False\n",
      "Loop 2:  0.001\n",
      "True\n",
      "True\n",
      "6.117825916306813\n",
      "6.246544109964412\n",
      "False\n",
      "Loop 2:  0.001\n",
      "True\n",
      "True\n",
      "6.098223515376333\n",
      "6.2262740584586656\n",
      "False\n",
      "Loop 2:  0.001\n",
      "True\n",
      "True\n",
      "6.0786170225437415\n",
      "6.206014680320651\n",
      "False\n",
      "Loop 2:  0.001\n",
      "True\n",
      "True\n",
      "6.059000619695782\n",
      "6.185759394771897\n",
      "False\n",
      "Loop 2:  0.001\n",
      "True\n",
      "True\n",
      "6.03936941524818\n",
      "6.165502537352915\n",
      "False\n",
      "Loop 2:  0.001\n",
      "True\n",
      "True\n",
      "6.019719440211626\n",
      "6.145239360528788\n"
     ]
    }
   ],
   "source": [
    "def descent_method(init, dissimilarities, n_components=2, max_iter = 100, verbose=0, alpha=1,\n",
    "                   weights=None, indicators=None):\n",
    "    #error_tol =\n",
    "    #min_grad = \n",
    "    #min_step = \n",
    "    Z = init\n",
    "    n = len(Z)\n",
    "    smax = 0.8\n",
    "    for i in range(50):\n",
    "        current_loss = loss_fn(Z, dissimilarities, n)\n",
    "        g = compute_gradients(Z, dissimilarities, n)\n",
    "        rmax = 1/(norm(g, axis=1).max()+eps) * np.tanh(smax/2)\n",
    "        r = line_search(Z, dissimilarities, n, 0.001, rmax)\n",
    "        for i in range(n):\n",
    "            zi_prime = (-r*g[i] + Z[i]) / (-r*g[i] * conjugate(Z[i]) + 1)\n",
    "            Z[i] = zi_prime\n",
    "    return Z\n",
    "output = descent_method(init_config, delta1)"
   ]
  },
  {
   "cell_type": "code",
   "execution_count": 380,
   "metadata": {
    "ExecuteTime": {
     "end_time": "2019-07-21T22:14:40.741392Z",
     "start_time": "2019-07-21T22:14:40.401302Z"
    }
   },
   "outputs": [
    {
     "data": {
      "image/png": "[encoded data removed]",
      "text/plain": [
       "<Figure size 864x432 with 2 Axes>"
      ]
     },
     "metadata": {
      "needs_background": "light"
     },
     "output_type": "display_data"
    }
   ],
   "source": [
    "fig = plt.figure(figsize=(12,6))\n",
    "ax = fig.add_subplot(121)\n",
    "circ = plt.Circle((0, 0), radius=1, edgecolor='black', facecolor='None', linewidth=3, alpha=0.5)\n",
    "ax.add_patch(circ)\n",
    "\n",
    "x = output[:,0]\n",
    "y = output[:,1]\n",
    "ax.scatter(x, y, s=20, alpha=1)\n",
    "for i in range(len(output)):\n",
    "    ax.text(x[i], y[i], str(i))\n",
    "\n",
    "ax2 = fig.add_subplot(122)\n",
    "circ = plt.Circle((0, 0), radius=1, edgecolor='black', facecolor='None', linewidth=3, alpha=0.5)\n",
    "ax2.add_patch(circ)\n",
    "\n",
    "x = init_data[:,0]\n",
    "y = init_data[:,1]\n",
    "ax2.scatter(x, y, s=20, alpha=1)\n",
    "for i in range(len(init_data)):\n",
    "    ax2.text(x[i], y[i], str(i));\n",
    "plt.show();"
   ]
  },
  {
   "cell_type": "code",
   "execution_count": 386,
   "metadata": {
    "ExecuteTime": {
     "end_time": "2019-07-21T22:18:59.531822Z",
     "start_time": "2019-07-21T22:18:58.799746Z"
    }
   },
   "outputs": [
    {
     "data": {
      "image/png": "[encoded data removed]",
      "text/plain": [
       "<Figure size 864x432 with 4 Axes>"
      ]
     },
     "metadata": {},
     "output_type": "display_data"
    }
   ],
   "source": [
    "import seaborn as sns\n",
    "delta1 = np.zeros((n, n))\n",
    "for i in range(n):\n",
    "    for j in range(n):\n",
    "        delta1[i][j] = poincare_dist(init_data[i], init_data[j])\n",
    "delta2 = np.zeros((n, n))\n",
    "for i in range(n):\n",
    "    for j in range(n):\n",
    "        delta2[i][j] = poincare_dist(output[i], output[j])\n",
    "fig = plt.figure(figsize=(12,6))\n",
    "ax = fig.add_subplot(121)\n",
    "sns.set()\n",
    "sns.heatmap(delta1, cmap=\"coolwarm\", annot=True);\n",
    "ax = fig.add_subplot(122)\n",
    "sns.heatmap(delta2, cmap=\"coolwarm\", annot=True);"
   ]
  },
  {
   "cell_type": "code",
   "execution_count": null,
   "metadata": {},
   "outputs": [],
   "source": [
    "class HyperMDS():\n",
    "    \n",
    "    def __init__(self, n_components=2, max_iter=100, verbose=0, eps=1e-3, n_jobs=None,\n",
    "                 random_state=None, dissimilarity=\"euclidean\"):\n",
    "        self.n_components = n_components\n",
    "        self.dissimilarity = dissimilarity\n",
    "        self.max_iter = max_iter\n",
    "        self.eps = eps\n",
    "        self.verbose = verbose\n",
    "        self.n_jobs = n_jobs\n",
    "        self.random_state = random_state\n",
    "    \n",
    "    def fit(self, X, init=None):\n",
    "        \"\"\"\n",
    "        Uses gradient descent to find the embedding configuration in the Poincaré disk\n",
    "        Parameters\n",
    "        ----------\n",
    "        X : array, shape (n_samples, n_features) or (n_samples, n_samples)\n",
    "            Input data. If ``dissimilarity=='precomputed'``, the input should\n",
    "            be the dissimilarity matrix.\n",
    "        init: initial configuration of the embedding coordinates\n",
    "        \"\"\"\n",
    "        self.fit_transform(X, init=init)\n",
    "        return self\n",
    "    \n",
    "    def fit_transform(self, X, init=None):\n",
    "        \"\"\"\n",
    "        Fit the embedding from X, and return the embedding coordinates\n",
    "        Parameters\n",
    "        ----------\n",
    "        X : array, shape (n_samples, n_features) or (n_samples, n_samples)\n",
    "            Input data. If ``dissimilarity=='precomputed'``, the input should\n",
    "            be the dissimilarity matrix.\n",
    "        init: initial configuration of the embedding coordinates\n",
    "        \"\"\""
   ]
  },
  {
   "cell_type": "code",
   "execution_count": 1,
   "metadata": {
    "ExecuteTime": {
     "end_time": "2019-07-20T02:41:29.831616Z",
     "start_time": "2019-07-20T02:41:29.766874Z"
    }
   },
   "outputs": [
    {
     "data": {
      "text/html": [
       "<style>\n",
       "    @font-face {\n",
       "        font-family: \"Computer Modern\";\n",
       "        src: url('http://9dbb143991406a7c655e-aa5fcb0a5a4ec34cff238a2d56ca4144.r56.cf5.rackcdn.com/cmunss.otf');\n",
       "    }\n",
       "    @font-face {\n",
       "        font-family: \"Computer Modern\";\n",
       "        font-weight: bold;\n",
       "        src: url('http://9dbb143991406a7c655e-aa5fcb0a5a4ec34cff238a2d56ca4144.r56.cf5.rackcdn.com/cmunsx.otf');\n",
       "    }\n",
       "    @font-face {\n",
       "        font-family: \"Computer Modern\";\n",
       "        font-style: oblique;\n",
       "        src: url('http://9dbb143991406a7c655e-aa5fcb0a5a4ec34cff238a2d56ca4144.r56.cf5.rackcdn.com/cmunsi.otf');\n",
       "    }\n",
       "    @font-face {\n",
       "        font-family: \"Computer Modern\";\n",
       "        font-weight: bold;\n",
       "        font-style: oblique;\n",
       "        src: url('http://9dbb143991406a7c655e-aa5fcb0a5a4ec34cff238a2d56ca4144.r56.cf5.rackcdn.com/cmunso.otf');\n",
       "    }\n",
       "    div.cell{\n",
       "        width:800px;\n",
       "        margin-left:16% !important;\n",
       "        margin-right:auto;\n",
       "    }\n",
       "    h1 {\n",
       "        font-family: Helvetica, serif;\n",
       "    }\n",
       "    h4{\n",
       "        margin-top:12px;\n",
       "        margin-bottom: 3px;\n",
       "       }\n",
       "    div.text_cell_render{\n",
       "        font-family: Computer Modern, \"Helvetica Neue\", Arial, Helvetica, Geneva, sans-serif;\n",
       "        line-height: 145%;\n",
       "        font-size: 130%;\n",
       "        width:800px;\n",
       "        margin-left:auto;\n",
       "        margin-right:auto;\n",
       "    }\n",
       "    .CodeMirror{\n",
       "            font-family: \"Source Code Pro\", source-code-pro,Consolas, monospace;\n",
       "    }\n",
       "    .prompt{\n",
       "        display: None;\n",
       "    }\n",
       "    .text_cell_render h5 {\n",
       "        font-weight: 300;\n",
       "        font-size: 22pt;\n",
       "        color: #4057A1;\n",
       "        font-style: italic;\n",
       "        margin-bottom: .5em;\n",
       "        margin-top: 0.5em;\n",
       "        display: block;\n",
       "    }\n",
       "    \n",
       "    .warning{\n",
       "        color: rgb( 240, 20, 20 )\n",
       "        }  \n",
       "</style>"
      ],
      "text/plain": [
       "<IPython.core.display.HTML object>"
      ]
     },
     "execution_count": 1,
     "metadata": {},
     "output_type": "execute_result"
    }
   ],
   "source": [
    "from IPython.core.display import HTML\n",
    "\n",
    "def css_styling():\n",
    "    styles = open(\"custom_style.css\", \"r\").read()\n",
    "    return HTML(styles)\n",
    "css_styling()"
   ]
  }
 ],
 "metadata": {
  "kernelspec": {
   "display_name": "Python 3",
   "language": "python",
   "name": "python3"
  },
  "language_info": {
   "codemirror_mode": {
    "name": "ipython",
    "version": 3
   },
   "file_extension": ".py",
   "mimetype": "text/x-python",
   "name": "python",
   "nbconvert_exporter": "python",
   "pygments_lexer": "ipython3",
   "version": "3.7.1"
  },
  "nbTranslate": {
   "displayLangs": [
    "*"
   ],
   "hotkey": "alt-t",
   "langInMainMenu": true,
   "sourceLang": "en",
   "targetLang": "fr",
   "useGoogleTranslate": true
  },
  "varInspector": {
   "cols": {
    "lenName": 16,
    "lenType": 16,
    "lenVar": 40
   },
   "kernels_config": {
    "python": {
     "delete_cmd_postfix": "",
     "delete_cmd_prefix": "del ",
     "library": "var_list.py",
     "varRefreshCmd": "print(var_dic_list())"
    },
    "r": {
     "delete_cmd_postfix": ") ",
     "delete_cmd_prefix": "rm(",
     "library": "var_list.r",
     "varRefreshCmd": "cat(var_dic_list()) "
    }
   },
   "types_to_exclude": [
    "module",
    "function",
    "builtin_function_or_method",
    "instance",
    "_Feature"
   ],
   "window_display": false
  }
 },
 "nbformat": 4,
 "nbformat_minor": 2
}
