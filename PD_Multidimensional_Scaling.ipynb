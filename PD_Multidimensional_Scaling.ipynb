{
 "cells": [
  {
   "cell_type": "markdown",
   "metadata": {},
   "source": [
    "# Multidimensional Scaling in Hyperbolic Space"
   ]
  },
  {
   "cell_type": "markdown",
   "metadata": {},
   "source": [
    "In this notebook, I begin my attempt to implement a Multidimensional Scaling (MDS) algorithm that embeds data into hyperbolic space instead of the target Euclidean space for standard MDS. Just like traditional MDS, this variant h-MDS (hyperbolic MDS) will seek to produce accurate spatial representations of possibly high dimensional datasets, by  attempting to reflect the original pairwise similarities by the corresponding pairwise distances of the output configuration in the embedding space. <br>\n",
    "<br>\n",
    "Relevant papers that discuss hyperbolic MDS and outline some general implementation details: <br>\n",
    "<br>\n",
    "1. A. Cvetkovski and M. Crovella. Multidimensional scaling in the Poincaré disk. arXiv preprint, arXiv:1105.5332, 2011.\n",
    "2. Jörg A. Walter and Helge Ritter. 2002. On interactive visualization of high-dimensional data using the hyperbolic plane. In Proceedings of the eighth ACM SIGKDD international conference on Knowledge discovery and data mining (KDD '02). ACM, New York, NY, USA, 123-132. DOI=http://dx.doi.org/10.1145/775047.775065"
   ]
  },
  {
   "cell_type": "code",
   "execution_count": 4,
   "metadata": {
    "ExecuteTime": {
     "end_time": "2019-07-20T04:02:42.852854Z",
     "start_time": "2019-07-20T04:02:42.841887Z"
    }
   },
   "outputs": [],
   "source": [
    "import numpy as np\n",
    "import pandas as pd\n",
    "import matplotlib.pyplot as plt\n",
    "%matplotlib inline\n",
    "from mpl_toolkits.mplot3d import Axes3D\n",
    "from sklearn.utils import check_random_state\n",
    "plt.style.use('classic')\n",
    "plt.rcParams['figure.figsize'] = (6.5, 6.5)\n",
    "plt.rcParams['figure.facecolor'] = 'white'\n",
    "from jupyterthemes import jtplot\n",
    "#jtplot.style()\n",
    "\n",
    "# ignore warnings\n",
    "import warnings\n",
    "warnings.filterwarnings('ignore');\n",
    "\n",
    "# display multiple outputs within a cell\n",
    "from IPython.core.interactiveshell import InteractiveShell\n",
    "InteractiveShell.ast_node_interactivity = \"all\";"
   ]
  },
  {
   "cell_type": "markdown",
   "metadata": {},
   "source": [
    "# Intro and key concepts"
   ]
  },
  {
   "cell_type": "markdown",
   "metadata": {},
   "source": [
    "We use the Poincaré disk as our model of hyperbolic space, and the only fundamental change with respect to MDS in Euclidean space is that we need to use the Poincaré distance metric instead of the Euclidean distance."
   ]
  },
  {
   "cell_type": "markdown",
   "metadata": {},
   "source": [
    "We can define the Poincare disk based on the complex plane: $\\mathbb{D}=\\{z \\in \\mathbb{C}| | z |<1\\}$. We have the symmetric distance function for $\\boldsymbol{u}, \\boldsymbol{v} \\in \\mathcal{D}$:\n",
    "\n",
    "$$\n",
    "d(\\boldsymbol{u}, \\boldsymbol{v})=\\operatorname{arcosh}\\left(1+2 \\frac{\\|\\boldsymbol{u}-\\boldsymbol{v}\\|^{2}}{\\left(1-\\|\\boldsymbol{u}\\|^{2}\\right)\\left(1-\\|\\boldsymbol{v}\\|^{2}\\right)}\\right)\n",
    "$$"
   ]
  },
  {
   "cell_type": "markdown",
   "metadata": {},
   "source": [
    "The idea of Mobius transformations will also be important, and these are transformations that preserve hyperbolic distances. The Mobius transformations $T$ have the following form: <br> \n",
    "<br>\n",
    "$$\n",
    "T(z)=\\frac{a z+b}{\\overline{b} z+\\overline{a}}, a, b \\in \\mathbb{C},|a|^{2}-|b|^{2} \\neq 0\n",
    "$$"
   ]
  },
  {
   "cell_type": "markdown",
   "metadata": {},
   "source": [
    "Our h-MDS algorithm will have a relatively simple design based on iterative steepest descent and an approximate line search function. Therefore, we need to be able to describe hyperbolic lines based on a given direction $\\gamma$ and a starting point $z_0$. For $z_{0} \\in \\mathbb{D}, \\gamma \\in \\mathbb{C}$ with $|\\gamma|=1,$ and $s \\geq 0$, this hyperbolic line is given by:<br>\n",
    "<br>\n",
    "$$\n",
    "z_{0}^{\\prime}=\\frac{\\gamma \\tanh \\frac{s}{2}+z_{0}}{\\overline{z_{0}} \\gamma \\tanh \\frac{s}{2}+1}\n",
    "$$ <br>\n",
    "where $s$ gives the length along the line and $d_{\\mathrm{D}}\\left(z_{0}, z_{0}^{\\prime}\\right)=s$"
   ]
  },
  {
   "cell_type": "markdown",
   "metadata": {},
   "source": [
    "# Gradient descent and hyperbolic line search"
   ]
  },
  {
   "cell_type": "markdown",
   "metadata": {},
   "source": [
    "## Descent method"
   ]
  },
  {
   "cell_type": "markdown",
   "metadata": {},
   "source": [
    "The steepest descent will be based on the gradient of an objective function $E_t(\\mathbf{z}, \\Delta, \\mathbf{W}, \\mathbf{I})$ that is defined by these inputs and which gives the embedding error or loss at some given iteration $t$<br>\n",
    "<br>\n",
    "One common embedding error is given by the following function defined as the sum of relative squared differences between the initial dissimilarities and the distances in the embedding space:. <br>\n",
    "<br>\n",
    "$$\n",
    "E_{t}(\\mathbf{z}, \\Delta, \\mathbf{W}, \\mathbf{I})=\\sum_{j=1}^{n} \\sum_{k=j+1}^{n} w_{j k} I_{j k}\\left(\\frac{d_{j k}(t)-\\delta_{j k}}{\\delta_{j k}}\\right)^{2}\n",
    "$$"
   ]
  },
  {
   "cell_type": "markdown",
   "metadata": {},
   "source": [
    "The descent direction is defined by the gradient of this error function: <br>\n",
    "<br>\n",
    "$$\n",
    "\\mathbf{g}=\\nabla E \\stackrel{\\mathrm{def}}{=}\\left[\\begin{array}{c}{\\frac{\\partial E}{\\partial y_{1,1}}+i \\frac{\\partial E}{\\partial y_{1,2}}} \\\\ {\\frac{\\partial E}{\\partial y_{2,1}}+i \\frac{\\partial E}{\\partial y_{2,2}}} \\\\ {\\vdots} \\\\ {\\frac{\\partial E}{\\partial y_{n, 1}}+i \\frac{\\partial E}{\\partial y_{n, 2}}}\\end{array}\\right]=\\left[\\begin{array}{c}{g_{1}} \\\\ {g_{2}} \\\\ {\\vdots} \\\\ {g_{n}}\\end{array}\\right]\n",
    "$$<br>\n",
    "We have descent directions $-g_1, \\ldots , -g_n$ and the new configuration after the update will have points <br>\n",
    "<br>\n",
    "$$\n",
    "z_{j}^{\\prime}=\\frac{-r g_{j}+z_{j}}{-r g_{j} \\overline{z_{j}}+1}\n",
    "$$ <br>\n",
    "and $r \\geq 0$ is the step-size parameter"
   ]
  },
  {
   "cell_type": "markdown",
   "metadata": {},
   "source": [
    "![title](images/pd_mds5.png)"
   ]
  },
  {
   "cell_type": "markdown",
   "metadata": {},
   "source": [
    "## Approximate Hyperbolic Line Search"
   ]
  },
  {
   "cell_type": "markdown",
   "metadata": {},
   "source": [
    "We have some more notation and parameters related to line search. $s_M$ sets the window for distance between successive configurations or updates. We need this to be finite to limit points from approaching the boundary at infinite distances. If $s_j$ are distances for updates: $s_{M}=\\max _{j} s_{j}<\\infty$<br>\n",
    "<br>\n",
    "The parameter $r_M$ sets the window for the step size $r$ and we restrict our line search for each update within this window. We have the constraint: $r<\\frac{1}{\\|\\mathbf{g}\\|_{\\infty}}$ and the following equation that relates these parameters: <br>\n",
    "\n",
    "$$\n",
    "r_{M}=\\frac{1}{\\|\\mathbf{g}\\|_{\\infty}} \\cdot \\tanh \\frac{s_{M}}{2}<\\frac{1}{\\|\\mathbf{g}\\|_{\\infty}}\n",
    "$$"
   ]
  },
  {
   "cell_type": "markdown",
   "metadata": {},
   "source": [
    "During our line search, it would be ideal to find the step size $r$ along the hyperbolic line (but within the window $r_M$) that minimizes the error function. This turns out to be too computationally expensive, and so we just set a sufficient stopping condition and accept any step size that meets the condition. "
   ]
  },
  {
   "cell_type": "markdown",
   "metadata": {},
   "source": [
    "To express the stopping condition, we define the error in terms of the step size and let this function be $q(r)$ <br>\n",
    "<br>\n",
    "We also define this 'roof' function: $\\lambda(r)=q(0)+p \\cdot q^{\\prime}(0) \\cdot r, \\quad 0<p<1$ <br>\n",
    "<br>\n",
    "and set the condition for acceptable values of step size: $q(r)<\\lambda(r), r \\in\\left(0, r_{M}\\right]$ "
   ]
  },
  {
   "cell_type": "markdown",
   "metadata": {},
   "source": [
    "![title](images/line_search.png)"
   ]
  },
  {
   "cell_type": "markdown",
   "metadata": {},
   "source": [
    "We need to find explicit formulas for $q(r)$ and its derivative $q'(r)$ in order to calculate these values and apply the stopping conditions in the approximate line search. <br>\n",
    "<br>\n",
    "We can write the updates for each $z_j$ based on the Mobius transformations: $M_{j}(r)=\\frac{-r g_{j}+z_{j}}{-r g_{j} \\overline{z}_{j}+1}$"
   ]
  },
  {
   "cell_type": "markdown",
   "metadata": {},
   "source": [
    "The expression for the error in terms of step size can now be written as $q(r)=E(\\mathbf{M}(-r \\mathbf{g}, \\mathbf{z}), \\mathbf{\\Delta}, \\mathbf{W}, \\mathbf{I})$ <br>\n",
    "<br>\n",
    "$q'(r)$ has the following form: <br>\n",
    "<br>\n",
    "$$\n",
    "\\begin{aligned} q^{\\prime}(r) &=\\frac{d}{d r} q(r)=\\\\ &=\\left(\\operatorname{Re} \\mathbf{M}^{\\prime}(-r \\mathbf{g}, \\mathbf{z})\\right)^{T} \\operatorname{Re} \\nabla E(\\mathbf{M}(-r \\mathbf{g}, \\mathbf{z}), \\boldsymbol{\\Delta}, \\mathbf{W}, \\mathbf{I}) \\\\ &+\\left(\\operatorname{Im} \\mathbf{M}^{\\prime}(-r \\mathbf{g}, \\mathbf{z})\\right)^{T} \\operatorname{Im} \\nabla E(\\mathbf{M}(-r \\mathbf{g}, \\mathbf{z}), \\boldsymbol{\\Delta}, \\mathbf{W}, \\mathbf{I}) \\end{aligned}\n",
    "$$"
   ]
  },
  {
   "cell_type": "markdown",
   "metadata": {},
   "source": [
    "and this can be explicitly calculated using the following equation: <br>\n",
    "<br>\n",
    "$$\n",
    "M_{j}^{\\prime}(r)=\\frac{d}{d r} M_{j}(r)=g_{j} \\frac{\\left|z_{j}\\right|^{2}-1}{\\left(1-r g_{j} \\overline{z_{j}}\\right)^{2}}\n",
    "$$"
   ]
  },
  {
   "cell_type": "markdown",
   "metadata": {},
   "source": [
    "![title](images/hyp_line.png)"
   ]
  },
  {
   "cell_type": "markdown",
   "metadata": {},
   "source": [
    "# Implementing h-MDS"
   ]
  },
  {
   "cell_type": "markdown",
   "metadata": {},
   "source": [
    "For the initial implementation of h-MDS let the error function be given by the Absolute Differences Squared (ADS) <br>\n",
    "<br>\n",
    "$$\n",
    "E=\\sum_{j=1}^{n} \\sum_{k=j+1}^{n} w_{j k}\\left(I_{j k}\\left(d_{j k}-a \\delta_{j k}\\right)\\right)^{2}\n",
    "$$"
   ]
  },
  {
   "cell_type": "code",
   "execution_count": 1,
   "metadata": {
    "ExecuteTime": {
     "end_time": "2019-07-20T02:41:29.831616Z",
     "start_time": "2019-07-20T02:41:29.766874Z"
    }
   },
   "outputs": [
    {
     "data": {
      "text/html": [
       "<style>\n",
       "    @font-face {\n",
       "        font-family: \"Computer Modern\";\n",
       "        src: url('http://9dbb143991406a7c655e-aa5fcb0a5a4ec34cff238a2d56ca4144.r56.cf5.rackcdn.com/cmunss.otf');\n",
       "    }\n",
       "    @font-face {\n",
       "        font-family: \"Computer Modern\";\n",
       "        font-weight: bold;\n",
       "        src: url('http://9dbb143991406a7c655e-aa5fcb0a5a4ec34cff238a2d56ca4144.r56.cf5.rackcdn.com/cmunsx.otf');\n",
       "    }\n",
       "    @font-face {\n",
       "        font-family: \"Computer Modern\";\n",
       "        font-style: oblique;\n",
       "        src: url('http://9dbb143991406a7c655e-aa5fcb0a5a4ec34cff238a2d56ca4144.r56.cf5.rackcdn.com/cmunsi.otf');\n",
       "    }\n",
       "    @font-face {\n",
       "        font-family: \"Computer Modern\";\n",
       "        font-weight: bold;\n",
       "        font-style: oblique;\n",
       "        src: url('http://9dbb143991406a7c655e-aa5fcb0a5a4ec34cff238a2d56ca4144.r56.cf5.rackcdn.com/cmunso.otf');\n",
       "    }\n",
       "    div.cell{\n",
       "        width:800px;\n",
       "        margin-left:16% !important;\n",
       "        margin-right:auto;\n",
       "    }\n",
       "    h1 {\n",
       "        font-family: Helvetica, serif;\n",
       "    }\n",
       "    h4{\n",
       "        margin-top:12px;\n",
       "        margin-bottom: 3px;\n",
       "       }\n",
       "    div.text_cell_render{\n",
       "        font-family: Computer Modern, \"Helvetica Neue\", Arial, Helvetica, Geneva, sans-serif;\n",
       "        line-height: 145%;\n",
       "        font-size: 130%;\n",
       "        width:800px;\n",
       "        margin-left:auto;\n",
       "        margin-right:auto;\n",
       "    }\n",
       "    .CodeMirror{\n",
       "            font-family: \"Source Code Pro\", source-code-pro,Consolas, monospace;\n",
       "    }\n",
       "    .prompt{\n",
       "        display: None;\n",
       "    }\n",
       "    .text_cell_render h5 {\n",
       "        font-weight: 300;\n",
       "        font-size: 22pt;\n",
       "        color: #4057A1;\n",
       "        font-style: italic;\n",
       "        margin-bottom: .5em;\n",
       "        margin-top: 0.5em;\n",
       "        display: block;\n",
       "    }\n",
       "    \n",
       "    .warning{\n",
       "        color: rgb( 240, 20, 20 )\n",
       "        }  \n",
       "</style>"
      ],
      "text/plain": [
       "<IPython.core.display.HTML object>"
      ]
     },
     "execution_count": 1,
     "metadata": {},
     "output_type": "execute_result"
    }
   ],
   "source": [
    "from IPython.core.display import HTML\n",
    "\n",
    "def css_styling():\n",
    "    styles = open(\"custom_style.css\", \"r\").read()\n",
    "    return HTML(styles)\n",
    "css_styling()"
   ]
  }
 ],
 "metadata": {
  "kernelspec": {
   "display_name": "Python 3",
   "language": "python",
   "name": "python3"
  },
  "language_info": {
   "codemirror_mode": {
    "name": "ipython",
    "version": 3
   },
   "file_extension": ".py",
   "mimetype": "text/x-python",
   "name": "python",
   "nbconvert_exporter": "python",
   "pygments_lexer": "ipython3",
   "version": "3.7.1"
  },
  "nbTranslate": {
   "displayLangs": [
    "*"
   ],
   "hotkey": "alt-t",
   "langInMainMenu": true,
   "sourceLang": "en",
   "targetLang": "fr",
   "useGoogleTranslate": true
  },
  "varInspector": {
   "cols": {
    "lenName": 16,
    "lenType": 16,
    "lenVar": 40
   },
   "kernels_config": {
    "python": {
     "delete_cmd_postfix": "",
     "delete_cmd_prefix": "del ",
     "library": "var_list.py",
     "varRefreshCmd": "print(var_dic_list())"
    },
    "r": {
     "delete_cmd_postfix": ") ",
     "delete_cmd_prefix": "rm(",
     "library": "var_list.r",
     "varRefreshCmd": "cat(var_dic_list()) "
    }
   },
   "types_to_exclude": [
    "module",
    "function",
    "builtin_function_or_method",
    "instance",
    "_Feature"
   ],
   "window_display": false
  }
 },
 "nbformat": 4,
 "nbformat_minor": 2
}
