{
 "cells": [
  {
   "cell_type": "markdown",
   "metadata": {},
   "source": [
    "# Implementing Hyperbolic K-Means\n",
    "`Drew Wilimitis`"
   ]
  },
  {
   "cell_type": "markdown",
   "metadata": {},
   "source": [
    "In this notebook, I attempt to extend the idea of Poincaré embeddings and hyperbolic multidimensional scaling by exploiting the representational capacity of these embeddings to apply clustering in hyperbolic space. Given that K-means is a relatively simpler clustering algorithm with existing implementations in the standard Euclidean space, I test an implementation of K-means clustering in  hyperbolic space. <br>\n",
    "<br>\n",
    "My hypothesis is that given the demonstrated success of hyperbolic embeddings in learning hierarchical relationships, applying hyperbolic clustering algorithms to hyperbolically embedded data may outperform clustering in euclidean space, specifically on hierarchical datasets."
   ]
  },
  {
   "cell_type": "markdown",
   "metadata": {},
   "source": [
    "## Algorithm Outline\n",
    "\n",
    "Given data in the Poincare disk $x_1, \\ldots , x_N \\in \\mathcal{B}^{d}$, partition the $N$ observations into k sets denoted by $\\mathbf{S}=\\left\\{S_{1}, S_{2}, \\ldots, S_{k}\\right\\}$, where we have $k$ centroids or means $\\left\\{\\boldsymbol{m}_{i}^{(t)}\\right\\}_{i=1}^{k}$ at each iteration $t$. <br>\n",
    "<br>\n",
    "The basic steps in Hyperbolic k-means are: <br>\n",
    "1. **Initialization step**: initialize k random centroids $\\in \\mathcal{B}^{d}$<br>\n",
    "2. **Assignment step**: assign each $x_p$ to centroid with smallest poincare distance<br>\n",
    "3. **Project to H**: project to hyperboloid model<br>\n",
    "4. **Update step**: calculate new means with optimization in Hyperboloid model <br>\n",
    "5. **Project back to Poincare disk**: map back into poincare disk model\n",
    "6. **Repeat until stopping criteria** <br>\n",
    "7. **Return:** cluster labels for all $x_i$ and cluster means $\\left\\{\\boldsymbol{m}_{i}\\right\\}_{i=1}^{k}$"
   ]
  },
  {
   "cell_type": "markdown",
   "metadata": {},
   "source": [
    "## Load libraries and helper functions"
   ]
  },
  {
   "cell_type": "code",
   "execution_count": 1,
   "metadata": {
    "ExecuteTime": {
     "end_time": "2019-08-06T10:25:33.812462Z",
     "start_time": "2019-08-06T10:25:32.696466Z"
    }
   },
   "outputs": [],
   "source": [
    "import numpy as np\n",
    "import pandas as pd\n",
    "import matplotlib.pyplot as plt\n",
    "import seaborn as sns\n",
    "plt.style.use('seaborn')\n",
    "%matplotlib inline\n",
    "from mpl_toolkits.mplot3d import Axes3D\n",
    "from sklearn.utils import check_random_state\n",
    "\n",
    "# ignore warnings\n",
    "import warnings\n",
    "warnings.filterwarnings('ignore');\n",
    "\n",
    "# display multiple outputs within a cell\n",
    "from IPython.core.interactiveshell import InteractiveShell\n",
    "InteractiveShell.ast_node_interactivity = \"all\";\n",
    "\n",
    "def norm(x, axis=None):\n",
    "    return np.linalg.norm(x, axis=axis)"
   ]
  },
  {
   "cell_type": "markdown",
   "metadata": {},
   "source": [
    "## Poincaré Disk vs. Hyperboloid Model"
   ]
  },
  {
   "cell_type": "code",
   "execution_count": 54,
   "metadata": {
    "ExecuteTime": {
     "end_time": "2019-08-06T11:58:50.466623Z",
     "start_time": "2019-08-06T11:58:50.450667Z"
    }
   },
   "outputs": [],
   "source": [
    "# distance in poincare disk\n",
    "def poincare_dist(u, v, eps=1e-5):\n",
    "    d = 1 + 2 * norm(u-v)**2 / ((1 - norm(u)**2) * (1 - norm(v)**2) + eps)\n",
    "    return np.arccosh(d)\n",
    "\n",
    "# compute symmetric poincare distance matrix\n",
    "def poincare_distances(embedding):\n",
    "    n = embedding.shape[0]\n",
    "    dist_matrix = np.zeros((n, n))\n",
    "    for i in range(n):\n",
    "        for j in range(i+1, n):\n",
    "            dist_matrix[i][j] = poincare_dist(embedding[i], embedding[j])\n",
    "    return dist_matrix\n",
    "\n",
    "# convert array from poincare disk to hyperboloid\n",
    "def poincare_pts_to_hyperboloid(Y):\n",
    "    mink_pts = np.zeros((Y.shape[0], Y.shape[1]+1))\n",
    "    r = norm(Y, axis=1)\n",
    "    mink_pts[:, 0] = 2/(1 - r**2) * Y[:, 0]\n",
    "    mink_pts[:, 1] = 2/(1 - r**2) * Y[:, 1]\n",
    "    mink_pts[:, 2] = 2/(1 - r**2) * (1 + r**2)/2\n",
    "    return mink_pts\n",
    "\n",
    "# convert single point to hyperboloid\n",
    "def poincare_pt_to_hyperboloid(y):\n",
    "    mink_pt = np.zeros((3, ))\n",
    "    r = norm(y)\n",
    "    mink_pt[0] = 2/(1 - r**2) * y[0]\n",
    "    mink_pt[1] = 2/(1 - r**2) * y[1]\n",
    "    mink_pt[2] = 2/(1 - r**2) * (1 + r**2)/2\n",
    "    return mink_pt"
   ]
  },
  {
   "cell_type": "code",
   "execution_count": 55,
   "metadata": {
    "ExecuteTime": {
     "end_time": "2019-08-06T11:58:52.223235Z",
     "start_time": "2019-08-06T11:58:52.211271Z"
    }
   },
   "outputs": [],
   "source": [
    "# define hyperboloid bilinear form\n",
    "def hyperboloid_dot(u, v):\n",
    "    return np.dot(u[:-1], v[:-1]) - u[-1]*v[-1]\n",
    "\n",
    "# hyperboloid distance function\n",
    "def hyperboloid_dist(u, v):\n",
    "    return np.arccosh(-1*hyperboloid_dot(u, v))\n",
    "\n",
    "# compute symmetric hyperboloid distance matrix\n",
    "def hyperboloid_distances(embedding):\n",
    "    n = embedding.shape[0]\n",
    "    dist_matrix = np.zeros((n, n))\n",
    "    for i in range(n):\n",
    "        for j in range(i+1, n):\n",
    "            dist_matrix[i][j] = hyperboloid_dist(embedding[i], embedding[j])\n",
    "    return dist_matrix\n",
    "\n",
    "# convert array to poincare disk\n",
    "def hyperboloid_pts_to_poincare(X):\n",
    "    poincare_pts = np.zeros((X.shape[0], X.shape[1]-1))\n",
    "    poincare_pts[:, 0] = X[:, 0] / (X[:, 2]+1)\n",
    "    poincare_pts[:, 1] = X[:, 1] / (X[:, 2]+1)\n",
    "    return poincare_pts\n",
    "\n",
    "# convert single point to poincare\n",
    "def hyperboloid_pt_to_poincare(x):\n",
    "    poincare_pt = np.zeros((2, ))\n",
    "    poincare_pt[0] = x[0] / (x[2]+1)\n",
    "    poincare_pt[1] = x[1] / (x[2]+1)\n",
    "    return poincare_pt"
   ]
  },
  {
   "cell_type": "code",
   "execution_count": 56,
   "metadata": {
    "ExecuteTime": {
     "end_time": "2019-08-06T11:58:53.137784Z",
     "start_time": "2019-08-06T11:58:53.128831Z"
    }
   },
   "outputs": [],
   "source": [
    "# helper function to generate samples\n",
    "def generate_data(n, radius=0.7, hyper=False):\n",
    "    theta = np.random.uniform(0, 2*np.pi, n)\n",
    "    u = np.random.uniform(0, radius, n)\n",
    "    r = np.sqrt(u)\n",
    "    x = r * np.cos(theta)\n",
    "    y = r * np.sin(theta)\n",
    "    init_data = np.hstack((x.reshape(-1,1), y.reshape(-1,1)))\n",
    "    if hyper:\n",
    "        return poincare_pts_to_hyperboloid(init_data)\n",
    "    else:\n",
    "        return init_data"
   ]
  },
  {
   "cell_type": "code",
   "execution_count": 57,
   "metadata": {
    "ExecuteTime": {
     "end_time": "2019-08-06T11:58:56.259493Z",
     "start_time": "2019-08-06T11:58:56.248522Z"
    }
   },
   "outputs": [
    {
     "data": {
      "text/plain": [
       "True"
      ]
     },
     "execution_count": 57,
     "metadata": {},
     "output_type": "execute_result"
    },
    {
     "name": "stdout",
     "output_type": "stream",
     "text": [
      "Inverse test passed!\n"
     ]
    }
   ],
   "source": [
    "# test hyperboloid bilinear form condition\n",
    "data = generate_data(20)\n",
    "poinc_pts = data\n",
    "mink_pts = poincare_pts_to_hyperboloid(data)\n",
    "np.array([np.allclose(hyperboloid_dot(pt, pt), -1) for pt in mink_pts]).all()\n",
    "\n",
    "# test poincare -> hyperboloid are inverses\n",
    "mink_pts = poincare_pts_to_hyperboloid(data)\n",
    "poinc_pts = hyperboloid_pts_to_poincare(mink_pts)\n",
    "if np.allclose(data, poinc_pts):\n",
    "    print('Inverse test passed!')"
   ]
  },
  {
   "cell_type": "markdown",
   "metadata": {},
   "source": [
    "# Centroid Optimization in Hyperboloid Model"
   ]
  },
  {
   "cell_type": "code",
   "execution_count": 58,
   "metadata": {
    "ExecuteTime": {
     "end_time": "2019-08-06T11:58:59.910369Z",
     "start_time": "2019-08-06T11:58:59.904387Z"
    }
   },
   "outputs": [],
   "source": [
    "def exp_map(v, theta):\n",
    "    # v: tangent vector in minkowski space\n",
    "    # theta: parameter vector in hyperboloid with centroid coordinates\n",
    "    # project vector v from tangent minkowski space -> hyperboloid\n",
    "    return np.cosh(norm(v))*theta + np.sinh(norm(v)) * v/norm(v)\n",
    "\n",
    "def minkowski_distance_gradient(u, v):\n",
    "    # u,v in hyperboloid\n",
    "    # returns gradient with respect to u\n",
    "    return -1*(hyperboloid_dot(u,v)**2-1)**-1/2 * v"
   ]
  },
  {
   "cell_type": "code",
   "execution_count": 59,
   "metadata": {
    "ExecuteTime": {
     "end_time": "2019-08-06T11:59:00.716533Z",
     "start_time": "2019-08-06T11:59:00.705600Z"
    }
   },
   "outputs": [],
   "source": [
    "def minkowski_loss_gradient(theta, X):\n",
    "    # X : array with points in hyperboloid cluster\n",
    "    # theta: parameter vector in hyperboloid with centroid coordinates\n",
    "    # returns gradient vector\n",
    "    distances = np.array([-1*hyperboloid_dist(theta, x) for x in X]).reshape(-1,1)\n",
    "    distance_grads = np.array([minkowski_distance_gradient(theta, x) for x in X])\n",
    "    return 2*np.mean(distances*distance_grads, axis=0)\n",
    "\n",
    "def project_to_tangent(theta, minkowski_grad):\n",
    "    # grad: gradient vector in ambient Minkowski space\n",
    "    # theta: parameter vector in hyperboloid with centroid coordinates\n",
    "    # projects to hyperboloid gradient in tangent space\n",
    "    return minkowski_grad + hyperboloid_dot(theta, minkowski_grad)*theta\n",
    "\n",
    "def update_theta(theta, hyperboloid_grad, alpha=0.1):\n",
    "    # theta: parameter vector in hyperboloid with centroid coordinates\n",
    "    return exp_map(-1*alpha*hyperboloid_grad, theta)"
   ]
  },
  {
   "cell_type": "code",
   "execution_count": 74,
   "metadata": {
    "ExecuteTime": {
     "end_time": "2019-08-06T12:08:34.994701Z",
     "start_time": "2019-08-06T12:08:34.982735Z"
    }
   },
   "outputs": [],
   "source": [
    "def frechet_loss(theta, X):\n",
    "    s = X.shape[0]\n",
    "    dist_sq = np.array([hyperboloid_dist(theta, x)**2 for x in X])\n",
    "    return np.sum(dist_sq) / s\n",
    "\n",
    "def frechet_mean(theta, X, num_rounds = 10, alpha=0.3, tol = 1e-4, verbose=False):\n",
    "    centr_pt = theta.copy()\n",
    "    centr_pts = []\n",
    "    losses = []\n",
    "    for i in range(num_rounds):\n",
    "        gradient_loss = minkowski_loss_gradient(centr_pt, X)\n",
    "        tangent_v = project_to_tangent(centr_pt, -gradient_loss)\n",
    "        centr_pt = update_theta(centr_pt, tangent_v, alpha=alpha)\n",
    "        centr_pts.append(centr_pt)\n",
    "        losses.append(frechet_loss(centr_pt, X))\n",
    "        if verbose:\n",
    "            print('Epoch ' + str(i+1) + ' complete')\n",
    "            print('Loss: ', frechet_loss(centr_pt, X))\n",
    "            print('\\n')\n",
    "    return centr_pt"
   ]
  },
  {
   "cell_type": "code",
   "execution_count": 75,
   "metadata": {
    "ExecuteTime": {
     "end_time": "2019-08-06T12:08:36.830756Z",
     "start_time": "2019-08-06T12:08:36.807818Z"
    }
   },
   "outputs": [],
   "source": [
    "class PoincareKMeans():\n",
    "    \"\"\"\n",
    "    Perform K-Means clustering in hyperbolic space. Applies gradient descent in\n",
    "    the hyperboloid model to iteratively compute Fréchet means, and the Poincaré disk\n",
    "    model for visualization.\n",
    "    \n",
    "    API design is modeled on the standard scikit-learn Classifier API\n",
    "    \"\"\"\n",
    "    \n",
    "    def __init__(self,n_clusters=8,n_init=20,max_iter=300,tol=1e-8,verbose=False):\n",
    "        self.n_clusters = n_clusters\n",
    "        self.n_init = n_init\n",
    "        self.max_iter = max_iter\n",
    "        self.tol = tol\n",
    "        self.verbose =  verbose\n",
    "        self.labels_ = None\n",
    "        self.cluster_centers_ = None\n",
    "        \n",
    "    def init_centroids(self, radius=0.3):\n",
    "        # randomly sample starting points on small uniform ball\n",
    "        theta = np.random.uniform(0, 2*np.pi, self.n_clusters)\n",
    "        u = np.random.uniform(0, radius, self.n_clusters)\n",
    "        r = np.sqrt(u)\n",
    "        x = r * np.cos(theta)\n",
    "        y = r * np.sin(theta)\n",
    "        centers = np.hstack((x.reshape(-1,1), y.reshape(-1,1)))\n",
    "        self.centroids = centers\n",
    "        \n",
    "    def init_assign(self):\n",
    "        # cluster assignments as indicator matrix\n",
    "        assignments = np.zeros((self.n_samples, self.n_clusters))\n",
    "        for i in range(self.n_samples):\n",
    "            # randomly initialize each binary vector\n",
    "            j = np.random.randint(0, self.n_clusters)\n",
    "            assignments[i][j] = 1\n",
    "        self.assignments = assignments\n",
    "        \n",
    "    def update_centroids(self, X):\n",
    "        \"\"\"Updates centroids with Fréchet means in Hyperboloid model\n",
    "        Parameters\n",
    "        ----------\n",
    "        X : array of shape (n_samples, dim) with input data.\n",
    "        First convert X to hyperboloid points\n",
    "        \"\"\"\n",
    "        dim = X.shape[1]\n",
    "        new_centroids = np.empty((self.n_clusters, dim)) \n",
    "        H = poincare_pts_to_hyperboloid(X)\n",
    "        for i in range(self.n_clusters):\n",
    "            if np.sum(self.assignments[:, i] ==1) == 0:\n",
    "                new_centroids[i] = self.centroids[i]\n",
    "            else:\n",
    "                # find subset of observations in cluster\n",
    "                H_k = H[self.assignments[:, i] ==1]\n",
    "                theta_k = poincare_pt_to_hyperboloid(self.centroids[i])\n",
    "                # solve for frechet mean\n",
    "                fmean_k = frechet_mean(theta_k, H_k)\n",
    "                # convert back to Poincare disk\n",
    "                new_centroids[i] = hyperboloid_pt_to_poincare(fmean_k)\n",
    "        self.centroids = new_centroids\n",
    "    \n",
    "    def fit(self, X, init=None):\n",
    "        \"\"\"\n",
    "        Uses gradient descent to find the embedding configuration in the Poincaré disk\n",
    "        Parameters\n",
    "        ----------\n",
    "        X : array, shape (n_samples, n_features) or (n_samples, n_samples)\n",
    "            Input data. If ``dissimilarity=='precomputed'``, the input should\n",
    "            be the dissimilarity matrix.\n",
    "        init: initial configuration of the embedding coordinates\n",
    "        \"\"\"\n",
    "        self.fit_transform(X, init=init)\n",
    "        return self\n",
    "\n",
    "    def fit_transform(self, X, max_epochs=40, verbose=False):\n",
    "        \"\"\"\n",
    "        Fit the embedding from X, and return the embedding coordinates\n",
    "        Parameters\n",
    "        ----------\n",
    "        X : array, shape (n_samples, n_features) or (n_samples, n_samples)\n",
    "            Input data. If ``dissimilarity=='precomputed'``, the input should\n",
    "            be the dissimilarity matrix.\n",
    "        max_epochs: maximum number of gradient descent iterations\n",
    "        verbose: optionally print training scores\n",
    "        \"\"\"\n",
    "              \n",
    "        # initialize random centroids and assignments\n",
    "        self.n_samples = X.shape[0]\n",
    "        self.init_centroids()\n",
    "        self.init_assign()\n",
    "        \n",
    "        # loop through the assignment and update steps\n",
    "        for j in range(max_epochs):\n",
    "            self.update_centroids(X)\n",
    "            for i in range(self.n_samples):\n",
    "                # zero out current cluster assignment\n",
    "                self.assignments[i, :] = np.zeros((1, self.n_clusters))\n",
    "                # find closest centroid (in Poincare disk)\n",
    "                centroid_distances = np.array([poincare_dist(X[i], centroid) for centroid in self.centroids])\n",
    "                cx = np.argmin(centroid_distances)\n",
    "                self.assignments[i][cx] = 1\n",
    "            if verbose:\n",
    "                print('Epoch ' + str(j) + ' complete')\n",
    "                print(self.centroids)\n",
    "        return self.assignments"
   ]
  },
  {
   "cell_type": "code",
   "execution_count": 76,
   "metadata": {
    "ExecuteTime": {
     "end_time": "2019-08-06T12:08:43.310434Z",
     "start_time": "2019-08-06T12:08:40.448014Z"
    }
   },
   "outputs": [
    {
     "data": {
      "image/png": "[encoded data removed]",
      "text/plain": [
       "<Figure size 864x360 with 2 Axes>"
      ]
     },
     "metadata": {},
     "output_type": "display_data"
    }
   ],
   "source": [
    "plt.style.use('seaborn')\n",
    "plt.rcParams['lines.linewidth']=2\n",
    "data = generate_data(300)\n",
    "kmeans = PoincareKMeans(n_clusters=3)\n",
    "y = kmeans.fit_transform(data)\n",
    "plt.figure(figsize=(12,5))\n",
    "plt.subplot(121)\n",
    "plt.scatter(data[:, 0], data[:, 1])\n",
    "plt.subplot(122)\n",
    "plt.scatter(data[(y[:, 0] == 1), 0], data[(y[:, 0] == 1), 1], c='red', alpha=0.8, edgecolors='w', linewidth=2)\n",
    "plt.scatter(data[(y[:, 1] == 1), 0], data[(y[:, 1] == 1), 1], c='blue', alpha=0.8, edgecolors='w', linewidth=2)\n",
    "plt.scatter(data[(y[:, 2] == 1), 0], data[(y[:, 2] == 1), 1], c='green', alpha=0.8, edgecolors='w', linewidth=2)\n",
    "centroids = kmeans.centroids\n",
    "plt.scatter(centroids[0, 0], centroids[0, 1], s=100, c='red', edgecolor='black', linewidth=2)\n",
    "plt.scatter(centroids[1, 0], centroids[1, 1], s=100, c='blue', edgecolor='black', linewidth=2);\n",
    "plt.scatter(centroids[2, 0], centroids[2, 1], s=100, c='green', edgecolor='black', linewidth=2);\n",
    "plt.suptitle('K-Means Clustering vs. Original Data', size=14);"
   ]
  },
  {
   "cell_type": "code",
   "execution_count": 77,
   "metadata": {
    "ExecuteTime": {
     "end_time": "2019-08-06T12:09:02.750714Z",
     "start_time": "2019-08-06T12:09:02.743730Z"
    }
   },
   "outputs": [
    {
     "data": {
      "text/plain": [
       "array([[        nan,         nan],\n",
       "       [-0.36569824,  0.13849845],\n",
       "       [ 0.0604386 , -0.4135676 ]])"
      ]
     },
     "execution_count": 77,
     "metadata": {},
     "output_type": "execute_result"
    }
   ],
   "source": [
    "centroids"
   ]
  },
  {
   "cell_type": "code",
   "execution_count": 28,
   "metadata": {
    "ExecuteTime": {
     "end_time": "2019-08-06T10:32:59.323964Z",
     "start_time": "2019-08-06T10:32:59.302018Z"
    }
   },
   "outputs": [
    {
     "ename": "FileNotFoundError",
     "evalue": "[Errno 2] No such file or directory: 'hyperbolic-learning/custom_style.css'",
     "output_type": "error",
     "traceback": [
      "\u001b[1;31m---------------------------------------------------------------------------\u001b[0m",
      "\u001b[1;31mFileNotFoundError\u001b[0m                         Traceback (most recent call last)",
      "\u001b[1;32m<ipython-input-28-3ee78d24b9e9>\u001b[0m in \u001b[0;36m<module>\u001b[1;34m\u001b[0m\n\u001b[0;32m      4\u001b[0m     \u001b[0mstyles\u001b[0m \u001b[1;33m=\u001b[0m \u001b[0mopen\u001b[0m\u001b[1;33m(\u001b[0m\u001b[1;34m\"hyperbolic-learning/custom_style.css\"\u001b[0m\u001b[1;33m,\u001b[0m \u001b[1;34m\"r\"\u001b[0m\u001b[1;33m)\u001b[0m\u001b[1;33m.\u001b[0m\u001b[0mread\u001b[0m\u001b[1;33m(\u001b[0m\u001b[1;33m)\u001b[0m\u001b[1;33m\u001b[0m\u001b[1;33m\u001b[0m\u001b[0m\n\u001b[0;32m      5\u001b[0m     \u001b[1;32mreturn\u001b[0m \u001b[0mHTML\u001b[0m\u001b[1;33m(\u001b[0m\u001b[0mstyles\u001b[0m\u001b[1;33m)\u001b[0m\u001b[1;33m\u001b[0m\u001b[1;33m\u001b[0m\u001b[0m\n\u001b[1;32m----> 6\u001b[1;33m \u001b[0mcss_styling\u001b[0m\u001b[1;33m(\u001b[0m\u001b[1;33m)\u001b[0m\u001b[1;33m\u001b[0m\u001b[1;33m\u001b[0m\u001b[0m\n\u001b[0m",
      "\u001b[1;32m<ipython-input-28-3ee78d24b9e9>\u001b[0m in \u001b[0;36mcss_styling\u001b[1;34m()\u001b[0m\n\u001b[0;32m      2\u001b[0m \u001b[1;33m\u001b[0m\u001b[0m\n\u001b[0;32m      3\u001b[0m \u001b[1;32mdef\u001b[0m \u001b[0mcss_styling\u001b[0m\u001b[1;33m(\u001b[0m\u001b[1;33m)\u001b[0m\u001b[1;33m:\u001b[0m\u001b[1;33m\u001b[0m\u001b[1;33m\u001b[0m\u001b[0m\n\u001b[1;32m----> 4\u001b[1;33m     \u001b[0mstyles\u001b[0m \u001b[1;33m=\u001b[0m \u001b[0mopen\u001b[0m\u001b[1;33m(\u001b[0m\u001b[1;34m\"hyperbolic-learning/custom_style.css\"\u001b[0m\u001b[1;33m,\u001b[0m \u001b[1;34m\"r\"\u001b[0m\u001b[1;33m)\u001b[0m\u001b[1;33m.\u001b[0m\u001b[0mread\u001b[0m\u001b[1;33m(\u001b[0m\u001b[1;33m)\u001b[0m\u001b[1;33m\u001b[0m\u001b[1;33m\u001b[0m\u001b[0m\n\u001b[0m\u001b[0;32m      5\u001b[0m     \u001b[1;32mreturn\u001b[0m \u001b[0mHTML\u001b[0m\u001b[1;33m(\u001b[0m\u001b[0mstyles\u001b[0m\u001b[1;33m)\u001b[0m\u001b[1;33m\u001b[0m\u001b[1;33m\u001b[0m\u001b[0m\n\u001b[0;32m      6\u001b[0m \u001b[0mcss_styling\u001b[0m\u001b[1;33m(\u001b[0m\u001b[1;33m)\u001b[0m\u001b[1;33m\u001b[0m\u001b[1;33m\u001b[0m\u001b[0m\n",
      "\u001b[1;31mFileNotFoundError\u001b[0m: [Errno 2] No such file or directory: 'hyperbolic-learning/custom_style.css'"
     ]
    }
   ],
   "source": [
    "from IPython.core.display import HTML\n",
    "\n",
    "def css_styling():\n",
    "    styles = open(\"hyperbolic-learning/custom_style.css\", \"r\").read()\n",
    "    return HTML(styles)\n",
    "css_styling()"
   ]
  },
  {
   "cell_type": "markdown",
   "metadata": {},
   "source": [
    "## References\n",
    "---\n",
    "\n",
    "[1]. Learning graph-structured data using Poincaré embeddings and Riemannian K-means algorithms. Hatem Hajri, Hadi Zaatiti, Georges Hebrail. https://arxiv.org/abs/1907.01662.<br>\n",
    "[2]. Begelfor, Evgeni and Michael Werman. “The World is not always Flat or Learning Curved Manifolds.” (2005).<br>\n",
    "[3]. Wilson, Benjamin R. and Matthias Leimeister. “Gradient descent in hyperbolic space.” (2018)."
   ]
  },
  {
   "cell_type": "code",
   "execution_count": null,
   "metadata": {},
   "outputs": [],
   "source": []
  }
 ],
 "metadata": {
  "kernelspec": {
   "display_name": "Python 3",
   "language": "python",
   "name": "python3"
  },
  "language_info": {
   "codemirror_mode": {
    "name": "ipython",
    "version": 3
   },
   "file_extension": ".py",
   "mimetype": "text/x-python",
   "name": "python",
   "nbconvert_exporter": "python",
   "pygments_lexer": "ipython3",
   "version": "3.7.1"
  },
  "nbTranslate": {
   "displayLangs": [
    "*"
   ],
   "hotkey": "alt-t",
   "langInMainMenu": true,
   "sourceLang": "en",
   "targetLang": "fr",
   "useGoogleTranslate": true
  },
  "varInspector": {
   "cols": {
    "lenName": 16,
    "lenType": 16,
    "lenVar": 40
   },
   "kernels_config": {
    "python": {
     "delete_cmd_postfix": "",
     "delete_cmd_prefix": "del ",
     "library": "var_list.py",
     "varRefreshCmd": "print(var_dic_list())"
    },
    "r": {
     "delete_cmd_postfix": ") ",
     "delete_cmd_prefix": "rm(",
     "library": "var_list.r",
     "varRefreshCmd": "cat(var_dic_list()) "
    }
   },
   "types_to_exclude": [
    "module",
    "function",
    "builtin_function_or_method",
    "instance",
    "_Feature"
   ],
   "window_display": false
  }
 },
 "nbformat": 4,
 "nbformat_minor": 2
}
