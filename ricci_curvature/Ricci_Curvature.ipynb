{
 "cells": [
  {
   "cell_type": "markdown",
   "metadata": {},
   "source": [
    "# **Discrete Ricci Curvature & Network Geometry**\n",
    "`Drew Wilimitis`"
   ]
  },
  {
   "cell_type": "markdown",
   "metadata": {},
   "source": [
    "![title](../images/Ricci_flow2.png)"
   ]
  },
  {
   "cell_type": "markdown",
   "metadata": {},
   "source": [
    "There has been growing interest in applying a discrete measure of Ricci Curvature and Ricci flow to graph data, as it seems to provide a new approach to learn pairwise node similarities that only uses the geometric structure of the network.\n",
    "<br>\n",
    "\n",
    "I explore the methods of discrete Ricci Curvature outlined below and try to develop a modified ISOMAP or some other dimensionality reduction algorithm based on preserving the similarities computed from the Ricci Flow Metric.<br>"
   ]
  },
  {
   "cell_type": "markdown",
   "metadata": {},
   "source": [
    "### References:\n",
    "\n",
    "**[1]** Ni, C. -C., Lin, Y. -Y., Gao, J. & Gu, X. Network alignment by discrete Ollivier-Ricci flow. In Graph Drawing and Network Visualization, 447–462 (Springer International Publishing, 2018). https://arxiv.org/abs/1809.00320.<br>\n",
    "\n",
    "**[2]** Chien-Chun Ni, Yu-Yao Lin, Feng Luo, Jie Gao. Community Detection on Networks with Ricci Flow. Scientific Reports, 9, Article number 9984, published 10 July 2019. https://arxiv.org/abs/1907.03993.\n",
    "\n",
    "The authors also released an open-source Python library that can be found here: https://github.com/saibalmars/GraphRicciCurvature"
   ]
  },
  {
   "cell_type": "markdown",
   "metadata": {},
   "source": [
    "## Ollivier-Ricci Curvature on Graph Data"
   ]
  },
  {
   "cell_type": "markdown",
   "metadata": {},
   "source": [
    "**Two Main Steps:**<br>\n",
    "- Given some input DAG, we compute a pairwise dissimilarity matrix by estimating space-like and time-like distances, which we call separations. <br>\n",
    "- Apply generalized, Lorentzian Multidimensional Scaling with this separation matrix as input\n",
    "\n",
    "\n",
    "Given only pairwise separations $M_{ij}$, can we find coordinates in Minkowski spacetime that preserve these pairwise separations? The full spacetime embedding algorithm from **[1]** is summarized below:"
   ]
  },
  {
   "cell_type": "markdown",
   "metadata": {},
   "source": [
    "<div class=\"alert alert-block alert-success\">\n",
    "<b>DAG Embedding Algorithm:</b> <br>\n",
    "1. For every pair $i, j$ connected by an edge, find length of the longest directed path between them, $L_{i j}$<br>\n",
    "2. For every other pair, find the naive spacelike distance $N_{i j}$ .<br>\n",
    "3. Create separation matrix, M, such that $M_{i j}$ = $-L_{i j}^{2}$ if there is a path from $i$ to $j$ and\n",
    "$N_{i j}^{2}$ otherwise.<br>\n",
    "4. Use Lorentzian MDS with $\\mathrm{M}$ as the input matrix of squared separations.<br>\n",
    "</div>"
   ]
  },
  {
   "cell_type": "code",
   "execution_count": 1,
   "metadata": {
    "ExecuteTime": {
     "end_time": "2019-10-05T10:23:26.138480Z",
     "start_time": "2019-10-05T10:23:01.758834Z"
    }
   },
   "outputs": [],
   "source": [
    "# import libraries\n",
    "import numpy as np\n",
    "import matplotlib.pyplot as plt\n",
    "import seaborn as sns\n",
    "import networkx as nx\n",
    "# plotting style\n",
    "%matplotlib inline\n",
    "plt.style.use('default')\n",
    "# display multiple outputs within a cell\n",
    "from IPython.core.interactiveshell import InteractiveShell\n",
    "InteractiveShell.ast_node_interactivity = \"all\";\n",
    "# ignore warnings\n",
    "import warnings\n",
    "warnings.filterwarnings('ignore');"
   ]
  },
  {
   "cell_type": "markdown",
   "metadata": {},
   "source": []
  },
  {
   "cell_type": "markdown",
   "metadata": {},
   "source": [
    "A **metric space** is a pair $(M, d)$ where $M$ is a set and $d$ is a metric on $M$, where a metric is a function $d : M \\times M \\rightarrow \\mathbb{R}$ such that for any $x, y, z \\in M$ we have:<br>\n",
    "<br>\n",
    "$$\n",
    "\\begin{array}{ll}{d(x, y)=0 \\Leftrightarrow x=y} \\ \\ \\ {\\text { identity }} \\\\ {d(x, y)=d(y, x)} \\ \\ \\ {\\text { symmetry }} \\\\ {d(x, z) \\leq d(x, y)+d(y, z) \\ \\ \\ \\text { triangle inequality }}\\end{array}\n",
    "$$"
   ]
  }
 ],
 "metadata": {
  "kernelspec": {
   "display_name": "Python 3",
   "language": "python",
   "name": "python3"
  },
  "language_info": {
   "codemirror_mode": {
    "name": "ipython",
    "version": 3
   },
   "file_extension": ".py",
   "mimetype": "text/x-python",
   "name": "python",
   "nbconvert_exporter": "python",
   "pygments_lexer": "ipython3",
   "version": "3.7.1"
  },
  "nbTranslate": {
   "displayLangs": [
    "*"
   ],
   "hotkey": "alt-t",
   "langInMainMenu": true,
   "sourceLang": "en",
   "targetLang": "fr",
   "useGoogleTranslate": true
  },
  "varInspector": {
   "cols": {
    "lenName": 16,
    "lenType": 16,
    "lenVar": 40
   },
   "kernels_config": {
    "python": {
     "delete_cmd_postfix": "",
     "delete_cmd_prefix": "del ",
     "library": "var_list.py",
     "varRefreshCmd": "print(var_dic_list())"
    },
    "r": {
     "delete_cmd_postfix": ") ",
     "delete_cmd_prefix": "rm(",
     "library": "var_list.r",
     "varRefreshCmd": "cat(var_dic_list()) "
    }
   },
   "types_to_exclude": [
    "module",
    "function",
    "builtin_function_or_method",
    "instance",
    "_Feature"
   ],
   "window_display": false
  }
 },
 "nbformat": 4,
 "nbformat_minor": 2
}
