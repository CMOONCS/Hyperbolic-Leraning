{
 "cells": [
  {
   "cell_type": "markdown",
   "metadata": {},
   "source": [
    "# Miscellaneous"
   ]
  },
  {
   "cell_type": "markdown",
   "metadata": {},
   "source": [
    "### autograd"
   ]
  },
  {
   "cell_type": "code",
   "execution_count": null,
   "metadata": {},
   "outputs": [],
   "source": [
    "try:\n",
    "    from autograd import grad  # Only required for optionally verifying gradients while training\n",
    "    from autograd import numpy as grad_np\n",
    "    AUTOGRAD_PRESENT = True\n",
    "except ImportError:\n",
    "    AUTOGRAD_PRESENT = False\n",
    "\n",
    "#@staticmethod\n",
    "def _loss_fn(matrix, regularization_coeff=1.0):\n",
    "    \"\"\"Computes loss value.\n",
    "    Parameters\n",
    "    ----------\n",
    "    matrix : numpy.array\n",
    "        Array containing vectors for u, v and negative samples, of shape (2 + negative_size, dim).\n",
    "    regularization_coeff : float, optional\n",
    "        Coefficient to use for l2-regularization\n",
    "    Returns\n",
    "    -------\n",
    "    float\n",
    "        Computed loss value.\n",
    "    Warnings\n",
    "    --------\n",
    "    Only used for autograd gradients, since autograd requires a specific function signature.\n",
    "    \"\"\"\n",
    "    vector_u = matrix[0]\n",
    "    vectors_v = matrix[1:]\n",
    "    euclidean_dists = grad_np.linalg.norm(vector_u - vectors_v, axis=1)\n",
    "    norm = grad_np.linalg.norm(vector_u)\n",
    "    all_norms = grad_np.linalg.norm(vectors_v, axis=1)\n",
    "    poincare_dists = grad_np.arccosh(\n",
    "        1 + 2 * (\n",
    "            (euclidean_dists ** 2) / ((1 - norm ** 2) * (1 - all_norms ** 2))\n",
    "        )\n",
    "    )\n",
    "    exp_negative_distances = grad_np.exp(-poincare_dists)\n",
    "    regularization_term = regularization_coeff * grad_np.linalg.norm(vectors_v[0]) ** 2\n",
    "    return -grad_np.log(exp_negative_distances[0] / (exp_negative_distances.sum())) + regularization_term"
   ]
  },
  {
   "cell_type": "code",
   "execution_count": null,
   "metadata": {},
   "outputs": [],
   "source": [
    "u = relations[0][0]\n",
    "v = relations[0][1]\n",
    "#grad_loss(u, v)\n",
    "\n",
    "theta = embedding_dict[u]\n",
    "x = embedding_dict[v]\n",
    "negatives = negative_sample(relations, u, num_negative)\n",
    "neg_v = np.array([embedding_dict[sample[1]] for sample in negatives])\n",
    "vector_u = theta\n",
    "vectors_v = np.vstack((x,neg_v))\n",
    "matrix = np.vstack((vector_u, vectors_v))\n",
    "matrix\n",
    "\n",
    "autograd_loss = grad(_loss_fn)\n",
    "autograd_loss(matrix)\n",
    "\n",
    "grad_loss(u, v)"
   ]
  }
 ],
 "metadata": {
  "kernelspec": {
   "display_name": "Python 3",
   "language": "python",
   "name": "python3"
  },
  "language_info": {
   "codemirror_mode": {
    "name": "ipython",
    "version": 3
   },
   "file_extension": ".py",
   "mimetype": "text/x-python",
   "name": "python",
   "nbconvert_exporter": "python",
   "pygments_lexer": "ipython3",
   "version": "3.7.1"
  },
  "nbTranslate": {
   "displayLangs": [
    "*"
   ],
   "hotkey": "alt-t",
   "langInMainMenu": true,
   "sourceLang": "en",
   "targetLang": "fr",
   "useGoogleTranslate": true
  },
  "varInspector": {
   "cols": {
    "lenName": 16,
    "lenType": 16,
    "lenVar": 40
   },
   "kernels_config": {
    "python": {
     "delete_cmd_postfix": "",
     "delete_cmd_prefix": "del ",
     "library": "var_list.py",
     "varRefreshCmd": "print(var_dic_list())"
    },
    "r": {
     "delete_cmd_postfix": ") ",
     "delete_cmd_prefix": "rm(",
     "library": "var_list.r",
     "varRefreshCmd": "cat(var_dic_list()) "
    }
   },
   "types_to_exclude": [
    "module",
    "function",
    "builtin_function_or_method",
    "instance",
    "_Feature"
   ],
   "window_display": false
  }
 },
 "nbformat": 4,
 "nbformat_minor": 2
}
